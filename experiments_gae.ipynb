{
 "cells": [
  {
   "cell_type": "code",
   "execution_count": 1,
   "metadata": {},
   "outputs": [],
   "source": [
    "from IPython.core.interactiveshell import InteractiveShell\n",
    "InteractiveShell.ast_node_interactivity = \"all\""
   ]
  },
  {
   "cell_type": "code",
   "execution_count": 2,
   "metadata": {},
   "outputs": [],
   "source": [
    "import os\n",
    "import time\n",
    "import torch\n",
    "import numpy as np\n",
    "import pandas as pd\n",
    "import networkx as nx\n",
    "import matplotlib.pyplot as plt"
   ]
  },
  {
   "cell_type": "code",
   "execution_count": 3,
   "metadata": {},
   "outputs": [],
   "source": [
    "from spacetime.spacetime_att import SpaceTime\n",
    "from spacetime.simulate_att import Simulator\n",
    "# from spacetime.models_att2 import MLPEncoder, MLPDecoder, AutoEncoder\n",
    "from spacetime.training_att import LagrangeLoss, ActionOpt\n",
    "from spacetime.training_att import train, truth_evaluation\n",
    "from spacetime.utils_att import Parameters\n",
    "from spacetime.sampler import NodeData, GraphSampler"
   ]
  },
  {
   "cell_type": "code",
   "execution_count": 4,
   "metadata": {},
   "outputs": [
    {
     "name": "stdout",
     "output_type": "stream",
     "text": [
      "simulating a random 3-degree erdos-renyi dag with range (0.5, 2.0) (seed 3)\n",
      "simulating 7500 samples from a linear-gauss sem with nonlinear_1 causal effects\n"
     ]
    },
    {
     "data": {
      "image/png": "[encoded data removed]",
      "text/plain": [
       "<Figure size 432x288 with 1 Axes>"
      ]
     },
     "metadata": {},
     "output_type": "display_data"
    }
   ],
   "source": [
    "n_nodes=6\n",
    "node_list = list(range(n_nodes))\n",
    "from spacetime.training_att import h_A, h_A_timed\n",
    "\n",
    "sim_params = Parameters(graph_type='erdos-renyi', graph_degree=3, edge_types=2, \n",
    "                        sem_type='nonlinear_2', x_dims=1, sem_noise='linear-gauss', \n",
    "                        noise_scale = 0.6, sample_size=7500, seed=42)\n",
    "\n",
    "mod_params = Parameters(n_nodes=n_nodes, x_dims=1, h_dims=32, z_dims=1, graph_threshold=0.3)\n",
    "\n",
    "trn_params = Parameters(batch_size=100, epochs=5)\n",
    "\n",
    "opt_params = Parameters(constraint=lambda x: h_A(x, n_nodes),\n",
    "                        lr=3e-3, l=1e-2, c=1.0, h=np.inf, tau=1e-10, \n",
    "                        max_iters=50, h_tol=1e-8)\n",
    "\n",
    "sim = Simulator.random(n_nodes, degree=3, seed=3)\n",
    "sim.sem(7500, 'nonlinear_1', noise_scale=0.8)\n",
    "g = SpaceTime.simulation(sim)\n",
    "# g.adj\n",
    "g.draw_graph()"
   ]
  },
  {
   "cell_type": "code",
   "execution_count": 5,
   "metadata": {},
   "outputs": [],
   "source": [
    "col_plot_dict = {0:(4,2), 1:(4,1), 2:(2,1), 3:(3,0)}\n",
    "mutilate = 1\n",
    "observe = 2\n",
    "latent = 0"
   ]
  },
  {
   "cell_type": "code",
   "execution_count": 6,
   "metadata": {},
   "outputs": [],
   "source": [
    "train_loader, test_loader = g.data_loader(trn_params.batch_size)"
   ]
  },
  {
   "cell_type": "code",
   "execution_count": 7,
   "metadata": {},
   "outputs": [],
   "source": [
    "####################################################################\n",
    "### Ripped heavily from https://github.com/fishmoon1234/DAG-GNN\n",
    "####################################################################\n",
    "\n",
    "import torch\n",
    "import torch.nn as nn\n",
    "import torch.nn.functional as F\n",
    "\n",
    "from torch.autograd import Variable\n",
    "\n",
    "_EPS = 1e-10\n",
    "\n",
    "class AutoEncoder(nn.Module):\n",
    "    def __init__(self, mod_params):\n",
    "        super(AutoEncoder, self).__init__()\n",
    "        self.embedder = LinearBlock(mod_params.x_dims, mod_params.h_dims, mod_params.z_dims).double()\n",
    "        self.debedder = LinearBlock(mod_params.z_dims, mod_params.h_dims, mod_params.x_dims).double()\n",
    "        self.semblock = SEMBlock(mod_params.n_nodes, d_causal=int(2*mod_params.n_nodes)).double()\n",
    "        \n",
    "        self.ff = LinearBlock(mod_params.z_dims, mod_params.h_dims, mod_params.z_dims).double()\n",
    "     \n",
    "    def forward(self, x):\n",
    "        s = self.embedder(x)\n",
    "#         z = self.semblock(s, op='decode')\n",
    "        z = self.semblock(s, op='causal')\n",
    "        xx = self.debedder(z)\n",
    "        return xx, s, self.semblock.adj_p()\n",
    "    \n",
    "    def encode(self, x):\n",
    "        x = self.embedder(x)\n",
    "#         x = self.semblock(x, op='encode')\n",
    "        return x\n",
    "    \n",
    "    def decode(self, z):\n",
    "#         zz = self.semblock(z, op='decode')\n",
    "#         z = self.ff(z)\n",
    "        z = self.semblock(z, op='causal')\n",
    "        z = self.debedder(z)\n",
    "        return z\n",
    "\n",
    "#     def forward(self, x):\n",
    "#         z = self.encode(x)\n",
    "#         xx = self.decode(z)\n",
    "#         return xx, z, self.semblock.adj_p()\n",
    "    \n",
    "class LinearBlock(nn.Module):\n",
    "    def __init__(self, n_in, n_hid, n_out, dropout=0.0):\n",
    "        super(LinearBlock, self).__init__()\n",
    "        self.w_1 = nn.Linear(n_in, n_hid)\n",
    "        self.w_2 = nn.Linear(n_hid, n_out)\n",
    "        self.dropout = nn.Dropout(dropout)\n",
    "        self.init_weights()\n",
    "        \n",
    "    def init_weights(self):\n",
    "        for m in self.modules():\n",
    "            if isinstance(m, nn.Linear):\n",
    "                nn.init.xavier_normal_(m.weight.data)\n",
    "                m.bias.data.fill_(0.0)\n",
    "            elif isinstance(m, nn.BatchNorm1d):\n",
    "                m.weight.data.fill_(1)\n",
    "                m.bias.data.zero_()\n",
    "        \n",
    "    def forward(self, x):\n",
    "        return self.w_2(self.dropout(F.relu(self.w_1(x))))\n",
    "\n",
    "def rand_norm(mu, std, x, y):\n",
    "    return torch.normal(mu, torch.Tensor([std]*x*y).view(x, y))\n",
    "                        \n",
    "class SEMBlock(nn.Module):\n",
    "    \"\"\"SEM operator module.\"\"\"\n",
    "    def __init__(self, n_nodes, d_causal):\n",
    "        super(SEMBlock, self).__init__()\n",
    "        self.q = nn.Parameter(rand_norm(0, 0.1, n_nodes, d_causal).double(), requires_grad=True)\n",
    "        self.k = nn.Parameter(rand_norm(0, 0.1, n_nodes, d_causal).double(), requires_grad=True)\n",
    "        self.adj = nn.Parameter(rand_norm(0, 0.1, n_nodes, n_nodes).double(), requires_grad=True)\n",
    "        self.n_nodes = n_nodes\n",
    "\n",
    "    def _check_nan(self):\n",
    "        if torch.sum(self.q!=self.q):\n",
    "            raise ValueError('nan error \\n')\n",
    "            \n",
    "    def bmm(self, m, x):\n",
    "        return torch.einsum('ij,ajc->aic', m, x)\n",
    "            \n",
    "    def atanh(self, x):\n",
    "        return 0.5*torch.log1p((2*x)/(1-x))\n",
    "    \n",
    "    def adj_p(self):\n",
    "#         return torch.sinh(3*torch.matmul(self.q, self.k.transpose(-2,-1)))\n",
    "#         return torch.sinh(3*self.adj)\n",
    "        return torch.matmul(self.q, self.k.transpose(-2,-1))\n",
    "#         return self.adj\n",
    "\n",
    "    def op(self):\n",
    "        return torch.eye(self.n_nodes).double()-(self.adj_p().transpose(-2,-1))\n",
    "    \n",
    "    def _encode_sem(self, x):\n",
    "        self._check_nan\n",
    "        z = self.bmm(self.op(), x)\n",
    "        return z\n",
    "    \n",
    "    def _decode_sem(self, x):\n",
    "        self._check_nan\n",
    "        x = self.bmm(self.op().inverse(), x)\n",
    "        return x\n",
    "    \n",
    "    def _decode_causal(self, x):\n",
    "        self._check_nan\n",
    "        x = self.bmm(self.adj_p().transpose(-2,-1), x)\n",
    "        return x\n",
    "        \n",
    "    def forward(self, x, op=None):\n",
    "        if op is None:\n",
    "            raise ValueError(\"choose op\")\n",
    "            \n",
    "        if op=='encode':\n",
    "            return self._encode_sem(x)\n",
    "        \n",
    "        elif op=='decode':\n",
    "            return self._decode_sem(x)\n",
    "        \n",
    "        elif op=='causal':\n",
    "            return self._decode_causal(x)\n",
    "        \n",
    "        else:\n",
    "            raise ValueError(\"invalid op\")"
   ]
  },
  {
   "cell_type": "code",
   "execution_count": 8,
   "metadata": {
    "scrolled": true
   },
   "outputs": [
    {
     "name": "stderr",
     "output_type": "stream",
     "text": [
      "/home/q1park/spacetime/spacetime/training_att.py:207: RuntimeWarning: invalid value encountered in true_divide\n",
      "  test_adj /= np.max(test_adj)\n"
     ]
    },
    {
     "name": "stdout",
     "output_type": "stream",
     "text": [
      "Iteration: 0, Best Epoch: 4/5\n",
      "   ELBO: 0.0965585, KL: 10^0.827, NLL: 10^-1.015 || h: 10^inf, c: 10^0.000, l: 0.0100000, lr: 0.0030000\n",
      "Iteration: 1, Best Epoch: 4/5\n",
      "   ELBO: 0.0410162, KL: 10^0.827, NLL: 10^-1.387 || h: 10^-3.207, c: 10^0.000, l: 0.0106212, lr: 0.0030000\n",
      "Iteration: 2, Best Epoch: 4/5\n",
      "   ELBO: 0.0086703, KL: 10^0.827, NLL: 10^-2.062 || h: 10^-3.207, c: 10^1.000, l: 0.0106212, lr: 0.0015000\n",
      "Iteration: 3, Best Epoch: 3/5\n",
      "   ELBO: 0.0046780, KL: 10^0.827, NLL: 10^-2.330 || h: 10^-3.207, c: 10^2.000, l: 0.0106212, lr: 0.0010000\n",
      "Iteration: 4, Best Epoch: 2/5\n",
      "   ELBO: 0.0032312, KL: 10^0.827, NLL: 10^-2.491 || h: 10^-3.207, c: 10^3.000, l: 0.0106212, lr: 0.0007500\n",
      "Iteration: 5, Best Epoch: 4/5\n",
      "   ELBO: 0.0026337, KL: 10^0.827, NLL: 10^-2.579 || h: 10^-3.879, c: 10^3.000, l: 0.1426069, lr: 0.0007500\n",
      "Iteration: 6, Best Epoch: 1/5\n",
      "   ELBO: 0.0018478, KL: 10^0.827, NLL: 10^-2.733 || h: 10^-3.879, c: 10^4.000, l: 0.1426069, lr: 0.0006000\n",
      "Iteration: 7, Best Epoch: 1/5\n",
      "   ELBO: 0.0018478, KL: 10^0.827, NLL: 10^-2.733 || h: 10^-4.021, c: 10^4.000, l: 1.0963519, lr: 0.0006000\n",
      "Iteration: 8, Best Epoch: 1/5\n",
      "   ELBO: 0.0018478, KL: 10^0.827, NLL: 10^-2.733 || h: 10^-4.069, c: 10^4.000, l: 1.9491460, lr: 0.0006000\n",
      "Iteration: 9, Best Epoch: 1/5\n",
      "   ELBO: 0.0015512, KL: 10^0.827, NLL: 10^-2.809 || h: 10^-4.121, c: 10^4.000, l: 2.7062945, lr: 0.0006000\n",
      "Iteration: 10, Best Epoch: 4/5\n",
      "   ELBO: 0.0011756, KL: 10^0.827, NLL: 10^-2.930 || h: 10^-4.165, c: 10^4.000, l: 3.3894927, lr: 0.0006000\n",
      "\n",
      "Trial 0 finished in 11.287176370620728 seconds\n",
      "Best ELBO Stats: shd 21 err 3.308426958555112\n",
      "\n",
      "Iteration: 0, Best Epoch: 4/5\n",
      "   ELBO: 0.0644082, KL: 10^1.057, NLL: 10^-1.191 || h: 10^inf, c: 10^0.000, l: 0.0100000, lr: 0.0030000\n",
      "Iteration: 1, Best Epoch: 4/5\n",
      "   ELBO: 0.0149855, KL: 10^1.057, NLL: 10^-1.824 || h: 10^-3.343, c: 10^0.000, l: 0.0104542, lr: 0.0030000\n",
      "Iteration: 2, Best Epoch: 2/5\n",
      "   ELBO: 0.0028922, KL: 10^1.057, NLL: 10^-2.539 || h: 10^-3.343, c: 10^1.000, l: 0.0104542, lr: 0.0015000\n",
      "Iteration: 3, Best Epoch: 1/5\n",
      "   ELBO: 0.0021131, KL: 10^1.057, NLL: 10^-2.675 || h: 10^-3.343, c: 10^2.000, l: 0.0104542, lr: 0.0010000\n",
      "Iteration: 4, Best Epoch: 1/5\n",
      "   ELBO: 0.0021131, KL: 10^1.057, NLL: 10^-2.675 || h: 10^-3.973, c: 10^2.000, l: 0.0210876, lr: 0.0010000\n",
      "Iteration: 5, Best Epoch: 1/5\n",
      "   ELBO: 0.0021131, KL: 10^1.057, NLL: 10^-2.675 || h: 10^-4.038, c: 10^2.000, l: 0.0302599, lr: 0.0010000\n",
      "Iteration: 6, Best Epoch: 2/5\n",
      "   ELBO: 0.0019212, KL: 10^1.057, NLL: 10^-2.716 || h: 10^-4.115, c: 10^2.000, l: 0.0379405, lr: 0.0010000\n",
      "Iteration: 7, Best Epoch: 2/5\n",
      "   ELBO: 0.0019212, KL: 10^1.057, NLL: 10^-2.716 || h: 10^-4.149, c: 10^2.000, l: 0.0450312, lr: 0.0010000\n",
      "Iteration: 8, Best Epoch: 1/5\n",
      "   ELBO: 0.0010578, KL: 10^1.057, NLL: 10^-2.976 || h: 10^-4.168, c: 10^2.000, l: 0.0518220, lr: 0.0010000\n",
      "Iteration: 9, Best Epoch: 4/5\n",
      "   ELBO: 0.0007066, KL: 10^1.057, NLL: 10^-3.151 || h: 10^-4.216, c: 10^2.000, l: 0.0578977, lr: 0.0010000\n",
      "Iteration: 10, Best Epoch: 1/5\n",
      "   ELBO: 0.0004419, KL: 10^1.057, NLL: 10^-3.355 || h: 10^-4.216, c: 10^3.000, l: 0.0578977, lr: 0.0007500\n",
      "\n",
      "Trial 1 finished in 11.149839162826538 seconds\n",
      "Best ELBO Stats: shd 21 err 3.3083788073663776\n",
      "\n",
      "Iteration: 0, Best Epoch: 4/5\n",
      "   ELBO: 0.0850982, KL: 10^0.730, NLL: 10^-1.070 || h: 10^inf, c: 10^0.000, l: 0.0100000, lr: 0.0030000\n",
      "Iteration: 1, Best Epoch: 4/5\n",
      "   ELBO: 0.0140170, KL: 10^0.730, NLL: 10^-1.853 || h: 10^-3.278, c: 10^0.000, l: 0.0105268, lr: 0.0030000\n",
      "Iteration: 2, Best Epoch: 4/5\n",
      "   ELBO: 0.0040307, KL: 10^0.730, NLL: 10^-2.395 || h: 10^-3.278, c: 10^1.000, l: 0.0105268, lr: 0.0015000\n",
      "Iteration: 3, Best Epoch: 3/5\n",
      "   ELBO: 0.0028292, KL: 10^0.730, NLL: 10^-2.548 || h: 10^-3.278, c: 10^2.000, l: 0.0105268, lr: 0.0010000\n",
      "Iteration: 4, Best Epoch: 0/5\n",
      "   ELBO: 0.0027302, KL: 10^0.730, NLL: 10^-2.564 || h: 10^-3.924, c: 10^2.000, l: 0.0224444, lr: 0.0010000\n",
      "Iteration: 5, Best Epoch: 3/5\n",
      "   ELBO: 0.0015538, KL: 10^0.730, NLL: 10^-2.809 || h: 10^-3.924, c: 10^3.000, l: 0.0224444, lr: 0.0007500\n",
      "Iteration: 6, Best Epoch: 3/5\n",
      "   ELBO: 0.0012742, KL: 10^0.730, NLL: 10^-2.895 || h: 10^-3.924, c: 10^4.000, l: 0.0224444, lr: 0.0006000\n",
      "Iteration: 7, Best Epoch: 2/5\n",
      "   ELBO: 0.0011172, KL: 10^0.730, NLL: 10^-2.952 || h: 10^-3.924, c: 10^5.000, l: 0.0224444, lr: 0.0005000\n",
      "Iteration: 8, Best Epoch: 1/5\n",
      "   ELBO: 0.0011057, KL: 10^0.730, NLL: 10^-2.956 || h: 10^-3.924, c: 10^6.000, l: 0.0224444, lr: 0.0004286\n",
      "Iteration: 9, Best Epoch: 1/5\n",
      "   ELBO: 0.0011057, KL: 10^0.730, NLL: 10^-2.956 || h: 10^-3.924, c: 10^7.000, l: 0.0224444, lr: 0.0003750\n",
      "Iteration: 10, Best Epoch: 1/5\n",
      "   ELBO: 0.0011057, KL: 10^0.730, NLL: 10^-2.956 || h: 10^-4.466, c: 10^7.000, l: 342.0489921, lr: 0.0003750\n",
      "\n",
      "Trial 2 finished in 11.243300437927246 seconds\n",
      "Best ELBO Stats: shd 21 err 3.3083991816266174\n",
      "\n",
      "Iteration: 0, Best Epoch: 4/5\n",
      "   ELBO: 1.5411937, KL: 10^0.691, NLL: 10^0.188 || h: 10^inf, c: 10^0.000, l: 0.0100000, lr: 0.0030000\n",
      "Iteration: 1, Best Epoch: 4/5\n",
      "   ELBO: 0.6435673, KL: 10^0.691, NLL: 10^-0.191 || h: 10^-2.670, c: 10^0.000, l: 0.0121389, lr: 0.0030000\n",
      "Iteration: 2, Best Epoch: 4/5\n",
      "   ELBO: 0.5496748, KL: 10^0.691, NLL: 10^-0.260 || h: 10^-2.670, c: 10^1.000, l: 0.0121389, lr: 0.0015000\n",
      "Iteration: 3, Best Epoch: 4/5\n",
      "   ELBO: 0.4751381, KL: 10^0.691, NLL: 10^-0.323 || h: 10^-2.670, c: 10^2.000, l: 0.0121389, lr: 0.0010000\n",
      "Iteration: 4, Best Epoch: 4/5\n",
      "   ELBO: 0.4213540, KL: 10^0.691, NLL: 10^-0.375 || h: 10^-2.670, c: 10^3.000, l: 0.0121389, lr: 0.0007500\n",
      "Iteration: 5, Best Epoch: 4/5\n",
      "   ELBO: 0.3889886, KL: 10^0.691, NLL: 10^-0.410 || h: 10^-2.670, c: 10^4.000, l: 0.0121389, lr: 0.0006000\n",
      "Iteration: 6, Best Epoch: 4/5\n",
      "   ELBO: 0.3841205, KL: 10^0.691, NLL: 10^-0.416 || h: 10^-2.670, c: 10^5.000, l: 0.0121389, lr: 0.0005000\n",
      "Iteration: 7, Best Epoch: 4/5\n",
      "   ELBO: 0.3841205, KL: 10^0.691, NLL: 10^-0.416 || h: 10^-2.670, c: 10^6.000, l: 0.0121389, lr: 0.0004286\n",
      "Iteration: 8, Best Epoch: 4/5\n",
      "   ELBO: 0.3841205, KL: 10^0.691, NLL: 10^-0.416 || h: 10^-3.537, c: 10^6.000, l: 290.4433993, lr: 0.0004286\n",
      "Iteration: 9, Best Epoch: 4/5\n",
      "   ELBO: 0.3841205, KL: 10^0.691, NLL: 10^-0.416 || h: 10^-3.537, c: 10^7.000, l: 290.4433993, lr: 0.0003750\n",
      "Iteration: 10, Best Epoch: 4/5\n",
      "   ELBO: 0.3841205, KL: 10^0.691, NLL: 10^-0.416 || h: 10^-3.537, c: 10^8.000, l: 290.4433993, lr: 0.0003333\n",
      "\n",
      "Trial 3 finished in 12.359583377838135 seconds\n",
      "Best ELBO Stats: shd 21 err 3.300028198536097\n",
      "\n"
     ]
    },
    {
     "name": "stderr",
     "output_type": "stream",
     "text": [
      "/home/q1park/spacetime/spacetime/training_att.py:207: RuntimeWarning: divide by zero encountered in true_divide\n",
      "  test_adj /= np.max(test_adj)\n"
     ]
    },
    {
     "name": "stdout",
     "output_type": "stream",
     "text": [
      "Iteration: 0, Best Epoch: 4/5\n",
      "   ELBO: 0.1152462, KL: 10^0.658, NLL: 10^-0.938 || h: 10^inf, c: 10^0.000, l: 0.0100000, lr: 0.0030000\n",
      "Iteration: 1, Best Epoch: 4/5\n",
      "   ELBO: 0.0401589, KL: 10^0.658, NLL: 10^-1.396 || h: 10^-3.090, c: 10^0.000, l: 0.0108121, lr: 0.0030000\n",
      "Iteration: 2, Best Epoch: 4/5\n",
      "   ELBO: 0.0111261, KL: 10^0.658, NLL: 10^-1.954 || h: 10^-3.090, c: 10^1.000, l: 0.0108121, lr: 0.0015000\n",
      "Iteration: 3, Best Epoch: 4/5\n",
      "   ELBO: 0.0054410, KL: 10^0.658, NLL: 10^-2.264 || h: 10^-3.090, c: 10^2.000, l: 0.0108121, lr: 0.0010000\n",
      "Iteration: 4, Best Epoch: 3/5\n",
      "   ELBO: 0.0040941, KL: 10^0.658, NLL: 10^-2.388 || h: 10^-3.800, c: 10^2.000, l: 0.0266471, lr: 0.0010000\n",
      "Iteration: 5, Best Epoch: 2/5\n",
      "   ELBO: 0.0027332, KL: 10^0.658, NLL: 10^-2.563 || h: 10^-3.800, c: 10^3.000, l: 0.0266471, lr: 0.0007500\n",
      "Iteration: 6, Best Epoch: 2/5\n",
      "   ELBO: 0.0022621, KL: 10^0.658, NLL: 10^-2.645 || h: 10^-3.800, c: 10^4.000, l: 0.0266471, lr: 0.0006000\n",
      "Iteration: 7, Best Epoch: 1/5\n",
      "   ELBO: 0.0019834, KL: 10^0.658, NLL: 10^-2.703 || h: 10^-3.800, c: 10^5.000, l: 0.0266471, lr: 0.0005000\n",
      "Iteration: 8, Best Epoch: 0/5\n",
      "   ELBO: 0.0019208, KL: 10^0.658, NLL: 10^-2.717 || h: 10^-3.800, c: 10^6.000, l: 0.0266471, lr: 0.0004286\n",
      "Iteration: 9, Best Epoch: 0/5\n",
      "   ELBO: 0.0019208, KL: 10^0.658, NLL: 10^-2.717 || h: 10^-3.800, c: 10^7.000, l: 0.0266471, lr: 0.0003750\n",
      "Iteration: 10, Best Epoch: 0/5\n",
      "   ELBO: 0.0019208, KL: 10^0.658, NLL: 10^-2.717 || h: 10^-4.407, c: 10^7.000, l: 392.1711616, lr: 0.0003750\n",
      "\n",
      "Trial 4 finished in 17.91153335571289 seconds\n",
      "Best ELBO Stats: shd 21 err 3.3083566036075154\n",
      "\n"
     ]
    }
   ],
   "source": [
    "n_trials = 5\n",
    "\n",
    "loss_log = {k:[] for k in ('elbo', 'kld', 'nll', 'lr')}\n",
    "param_log = {k:[] for k in ('lr', 'l', 'c', 'h')}\n",
    "\n",
    "shd_trials, err_trials = list(), list()\n",
    "graph_trials = list()\n",
    "\n",
    "for trial in range(n_trials):\n",
    "    shd_train, err_train = list(), list()\n",
    "    graph_train = list()\n",
    "    #===================================\n",
    "    # load modules\n",
    "    #===================================\n",
    "\n",
    "    autoencoder = AutoEncoder(mod_params)\n",
    "    optimizerL = ActionOpt(autoencoder, opt_params, h_factor=0.25*(1), c_factor=10.0/(1))\n",
    "    lossL = LagrangeLoss(opt=optimizerL)\n",
    "    \n",
    "    #===================================\n",
    "    # train model\n",
    "    #===================================\n",
    "    \n",
    "    t_total = time.time()\n",
    "    while optimizerL._iter < optimizerL.max_iter:\n",
    "        for epoch in range(trn_params.epochs):\n",
    "            train(autoencoder, train_loader, lossL)\n",
    "            shd, err = truth_evaluation(g.adj, optimizerL, 0.1, norm=True)\n",
    "            shd_train.append(shd)\n",
    "            err_train.append(err)\n",
    "            graph_train.append(optimizerL.adj.data.clone())\n",
    "        \n",
    "        print(\"Iteration: %s, Best Epoch: %s/%s\"%(optimizerL._iter, optimizerL.best_epoch, trn_params.epochs))\n",
    "        print(\"   ELBO: {:.7f}, KL: 10^{:.3f}, NLL: 10^{:.3f} || h: 10^{:.3f}, c: 10^{:.3f}, l: {:.7f}, lr: {:.7f}\".format(\n",
    "            optimizerL.min_elbo, np.log10(optimizerL.min_kld), np.log10(optimizerL.min_nll),\n",
    "            np.log10(optimizerL.h), np.log10(optimizerL.c), optimizerL.l, optimizerL.log['lr'][-1])\n",
    "        )\n",
    "\n",
    "        # update parameters\n",
    "        optimizerL.iterate()\n",
    "        if optimizerL.h <= optimizerL.h_tol or optimizerL._iter > 10:\n",
    "            break\n",
    "\n",
    "    print(\"\\nTrial %s finished in %s seconds\"%(trial, time.time() - t_total))\n",
    "    print('Best ELBO Stats: shd %s err %s\\n'%(shd, err))\n",
    "\n",
    "    shd_trials.append(shd_train)\n",
    "    err_trials.append(err_train)\n",
    "    graph_trials.append(optimizerL.show_adj(0.0))\n",
    "    \n",
    "    for k,v in loss_log.items():\n",
    "        v += [optimizerL.log[k]]\n",
    "        \n",
    "    for k,v in param_log.items():\n",
    "        v += [optimizerL.log[k]]\n",
    "    \n",
    "pass;"
   ]
  },
  {
   "cell_type": "code",
   "execution_count": 9,
   "metadata": {},
   "outputs": [
    {
     "name": "stdout",
     "output_type": "stream",
     "text": [
      "21.0000 +- 0.0000\n",
      "3.3067 +- 0.0033\n"
     ]
    },
    {
     "data": {
      "image/png": "[encoded data removed]",
      "text/plain": [
       "<Figure size 576x216 with 2 Axes>"
      ]
     },
     "metadata": {
      "needs_background": "light"
     },
     "output_type": "display_data"
    }
   ],
   "source": [
    "fig, axs = plt.subplots(1, 2, figsize = (8,3))\n",
    "\n",
    "for trial in range(n_trials):\n",
    "    axs[0].plot(range(len(err_trials[trial][:])), err_trials[trial][:])\n",
    "    axs[1].plot(range(len(shd_trials[trial][:])), shd_trials[trial][:])\n",
    "    \n",
    "shd_finals = [shd_trials[i][-1] for i in range(n_trials)]\n",
    "err_finals = [err_trials[i][-1] for i in range(n_trials)]\n",
    "print(\"{:0.4f} +- {:0.4f}\".format(np.mean(shd_finals), np.std(shd_finals)))\n",
    "print(\"{:0.4f} +- {:0.4f}\".format(np.mean(err_finals), np.std(err_finals)))\n",
    "pass;"
   ]
  },
  {
   "cell_type": "code",
   "execution_count": 10,
   "metadata": {},
   "outputs": [
    {
     "data": {
      "image/png": "[encoded data removed]",
      "text/plain": [
       "<Figure size 1152x216 with 4 Axes>"
      ]
     },
     "metadata": {
      "needs_background": "light"
     },
     "output_type": "display_data"
    },
    {
     "data": {
      "image/png": "[encoded data removed]",
      "text/plain": [
       "<Figure size 1152x216 with 4 Axes>"
      ]
     },
     "metadata": {
      "needs_background": "light"
     },
     "output_type": "display_data"
    }
   ],
   "source": [
    "fig, axs = plt.subplots(1, 4, figsize = (16,3))\n",
    "\n",
    "for i, (k,v) in enumerate(loss_log.items()):\n",
    "    axs[i].set_title(r'%s'%k)\n",
    "    for trial in range(n_trials):\n",
    "        axs[i].plot(range(len(v[trial])), np.log10(v[trial]))\n",
    "plt.show()\n",
    "\n",
    "fig, axs = plt.subplots(1, 4, figsize = (16,3))\n",
    "\n",
    "for i, (k,v) in enumerate(param_log.items()):\n",
    "    axs[i].set_title(r'%s'%k)\n",
    "    for trial in range(n_trials):\n",
    "        axs[i].plot(range(len(v[trial])), np.log10(v[trial]))\n",
    "pass;"
   ]
  },
  {
   "cell_type": "code",
   "execution_count": 11,
   "metadata": {},
   "outputs": [],
   "source": [
    "testdata = iter(train_loader)"
   ]
  },
  {
   "cell_type": "code",
   "execution_count": 12,
   "metadata": {},
   "outputs": [],
   "source": [
    "data, _ = next(testdata)\n",
    "preds, z_train, origin_A = autoencoder(data.double())  "
   ]
  },
  {
   "cell_type": "code",
   "execution_count": 18,
   "metadata": {},
   "outputs": [
    {
     "data": {
      "text/plain": [
       "tensor([[[ 0.4492],\n",
       "         [ 0.8546],\n",
       "         [ 0.7756],\n",
       "         [-1.2555],\n",
       "         [ 1.7497],\n",
       "         [ 1.4112]],\n",
       "\n",
       "        [[-0.3189],\n",
       "         [ 0.5215],\n",
       "         [ 1.3301],\n",
       "         [-0.8594],\n",
       "         [ 0.5095],\n",
       "         [ 0.3201]]])"
      ]
     },
     "execution_count": 18,
     "metadata": {},
     "output_type": "execute_result"
    },
    {
     "data": {
      "text/plain": [
       "tensor([[[ 0.4773],\n",
       "         [ 0.8526],\n",
       "         [ 0.7872],\n",
       "         [-1.3260],\n",
       "         [ 1.7568],\n",
       "         [ 1.3939]],\n",
       "\n",
       "        [[-0.3095],\n",
       "         [ 0.5249],\n",
       "         [ 1.3366],\n",
       "         [-0.9078],\n",
       "         [ 0.5209],\n",
       "         [ 0.3269]]], dtype=torch.float64, grad_fn=<SliceBackward>)"
      ]
     },
     "execution_count": 18,
     "metadata": {},
     "output_type": "execute_result"
    }
   ],
   "source": [
    "data[:2]\n",
    "preds[:2]"
   ]
  },
  {
   "cell_type": "code",
   "execution_count": 13,
   "metadata": {},
   "outputs": [],
   "source": [
    "def threshold(adj, threshold, norm=False):\n",
    "    if norm:\n",
    "        clipped = adj/torch.max(torch.abs(adj))\n",
    "    else:\n",
    "        clipped = adj\n",
    "    return nn.Threshold(threshold, 0.0)(clipped)-nn.Threshold(threshold, 0.0)(-clipped)"
   ]
  },
  {
   "cell_type": "code",
   "execution_count": 17,
   "metadata": {},
   "outputs": [
    {
     "data": {
      "text/plain": [
       "tensor([[0.0032, 0.0000, 0.0000, 0.0000, 0.0000, 0.0000],\n",
       "        [0.0000, 0.0032, 0.0000, 0.0000, 0.0000, 0.0000],\n",
       "        [0.0000, 0.0000, 0.0032, 0.0000, 0.0000, 0.0000],\n",
       "        [0.0000, 0.0000, 0.0000, 0.0032, 0.0000, 0.0000],\n",
       "        [0.0000, 0.0000, 0.0000, 0.0000, 0.0032, 0.0000],\n",
       "        [0.0000, 0.0000, 0.0000, 0.0000, 0.0000, 0.0032]], dtype=torch.float64)"
      ]
     },
     "execution_count": 17,
     "metadata": {},
     "output_type": "execute_result"
    },
    {
     "data": {
      "text/plain": [
       "tensor([[ 0.0000,  0.0000,  0.0000,  0.0000,  0.0000,  0.0000],\n",
       "        [-1.3794,  0.0000,  0.0000,  1.1819,  0.8081,  0.0000],\n",
       "        [ 1.2711,  0.0000,  0.0000,  0.0000,  0.0000,  0.0000],\n",
       "        [ 0.0000,  0.0000,  1.0604,  0.0000,  0.0000,  0.0000],\n",
       "        [-0.9887,  0.0000,  0.5923,  0.8640,  0.0000,  0.0000],\n",
       "        [ 0.0000, -1.4757,  0.0000,  0.0000,  0.0000,  0.0000]])"
      ]
     },
     "execution_count": 17,
     "metadata": {},
     "output_type": "execute_result"
    }
   ],
   "source": [
    "threshold(graph_trials[0], 0.0001, norm=False)\n",
    "# threshold(graph_trials[1], 0.2, norm=True)\n",
    "\n",
    "threshold(g.adj, 0.01, norm=False)"
   ]
  },
  {
   "cell_type": "code",
   "execution_count": 15,
   "metadata": {},
   "outputs": [
    {
     "ename": "NameError",
     "evalue": "name 'blah' is not defined",
     "output_type": "error",
     "traceback": [
      "\u001b[0;31m---------------------------------------------------------------------------\u001b[0m",
      "\u001b[0;31mNameError\u001b[0m                                 Traceback (most recent call last)",
      "\u001b[0;32m<ipython-input-15-4cbd040533a2>\u001b[0m in \u001b[0;36m<module>\u001b[0;34m\u001b[0m\n\u001b[0;32m----> 1\u001b[0;31m \u001b[0mblah\u001b[0m\u001b[0;34m\u001b[0m\u001b[0;34m\u001b[0m\u001b[0m\n\u001b[0m",
      "\u001b[0;31mNameError\u001b[0m: name 'blah' is not defined"
     ]
    }
   ],
   "source": [
    "blah"
   ]
  },
  {
   "cell_type": "markdown",
   "metadata": {},
   "source": [
    "## SEM Evaluation"
   ]
  },
  {
   "cell_type": "code",
   "execution_count": null,
   "metadata": {},
   "outputs": [],
   "source": [
    "g_learned = SpaceTime.adjacency(optimizerL.show_adj(0.2).numpy())\n",
    "g_learned.draw_graph()"
   ]
  },
  {
   "cell_type": "code",
   "execution_count": null,
   "metadata": {},
   "outputs": [],
   "source": [
    "data, _ = next(testdata)\n",
    "preds, z_train, origin_A = autoencoder(data.double()) "
   ]
  },
  {
   "cell_type": "code",
   "execution_count": null,
   "metadata": {},
   "outputs": [],
   "source": [
    "autoencoder.eval()\n",
    "\n",
    "data = next(iter(test_loader))[0].double()\n",
    "preds, noise, _ = autoencoder(data.double()) \n",
    "pass;"
   ]
  },
  {
   "cell_type": "code",
   "execution_count": null,
   "metadata": {},
   "outputs": [],
   "source": [
    "X_train = NodeData(g.data, bins=10)\n",
    "XX_train = NodeData(preds.detach().numpy(), bins=10)\n",
    "Z_learned = NodeData(noise.detach().numpy(), bins=10)\n",
    "X_learned = NodeData(preds.detach().numpy(), bins=10)\n",
    "\n",
    "pX_train = GraphSampler(g, X_train)\n",
    "pXX_train = GraphSampler(g, XX_train)\n",
    "pZ_learned = GraphSampler(g_learned, Z_learned)\n",
    "pX_learned = GraphSampler(g_learned, X_learned)"
   ]
  },
  {
   "cell_type": "code",
   "execution_count": null,
   "metadata": {},
   "outputs": [],
   "source": [
    "Z_resampled_cdf = NodeData(pZ_learned.resample_from_cdf(size=10000), bins = Z_learned.edges())\n",
    "Z_resampled_pdf = NodeData(pZ_learned.resample_from_pdf(size=10000), bins = Z_learned.edges())"
   ]
  },
  {
   "cell_type": "code",
   "execution_count": null,
   "metadata": {},
   "outputs": [],
   "source": [
    "pZ_resampled_cdf = GraphSampler(g_learned, Z_resampled_cdf)\n",
    "pZ_resampled_pdf = GraphSampler(g_learned, Z_resampled_pdf)"
   ]
  },
  {
   "cell_type": "code",
   "execution_count": null,
   "metadata": {},
   "outputs": [],
   "source": [
    "preds_resampled_cdf = autoencoder.decode(torch.Tensor(Z_resampled_cdf.data()).double())\n",
    "preds_resampled_pdf = autoencoder.decode(torch.Tensor(Z_resampled_pdf.data()).double())\n",
    "X_resampled_cdf = NodeData(preds_resampled_cdf.detach().numpy(), bins=X_train.edges())\n",
    "X_resampled_pdf = NodeData(preds_resampled_pdf.detach().numpy(), bins=X_train.edges())\n",
    "\n",
    "pX_resampled_cdf = GraphSampler(g_learned, X_resampled_cdf)\n",
    "pX_resampled_pdf = GraphSampler(g_learned, X_resampled_pdf)"
   ]
  },
  {
   "cell_type": "code",
   "execution_count": null,
   "metadata": {},
   "outputs": [],
   "source": [
    "fig, axs = plt.subplots(2, 4, sharex='col', sharey='col', figsize = (16,6))\n",
    "for col, (d,c) in col_plot_dict.items():\n",
    "    axs[0][col].set_title(r'$P_Z(%s|%s)$    (true histo)'%(d,c))\n",
    "    axs[0][col].contour(*pZ_learned.get_contour_conditional(d,c), levels=50)\n",
    "#     axs[1][col].set_title(r'$P_Z(%s|%s)$    (cdf resampled histo)'%(d,c))\n",
    "#     axs[1][col].contour(*pZ_resampled_cdf.get_contour_conditional(d,c), levels=50)\n",
    "    axs[1][col].set_title(r'$P_Z(%s|%s)$    (pdf resampled histo)'%(d,c))\n",
    "    axs[1][col].contour(*pZ_resampled_pdf.get_contour_conditional(d,c), levels=50)\n",
    "pass;"
   ]
  },
  {
   "cell_type": "code",
   "execution_count": null,
   "metadata": {},
   "outputs": [],
   "source": [
    "fig, axs = plt.subplots(3, 4, sharex='col', sharey='col', figsize = (16,9))\n",
    "for col, (d,c) in col_plot_dict.items():\n",
    "    axs[0][col].set_title(r'$P_X(%s|%s)$    (true histo)'%(d,c))\n",
    "    axs[0][col].contour(*pX_train.get_contour_conditional(d,c), levels=50)\n",
    "    axs[1][col].set_title(r'$P_X(%s|%s)$    (preds histo)'%(d,c))\n",
    "    axs[1][col].contour(*pXX_train.get_contour_conditional(d,c), levels=50)\n",
    "    axs[2][col].set_title(r'$P_X(%s|%s)$    (pdf resampled histo)'%(d,c))\n",
    "    axs[2][col].contour(*pX_resampled_pdf.get_contour_conditional(d,c), levels=50)\n",
    "pass;"
   ]
  },
  {
   "cell_type": "code",
   "execution_count": null,
   "metadata": {},
   "outputs": [],
   "source": [
    "# plt.plot(pX_train.node_data.axes(0)[0], pX_train.histogram.compute_joint(0)[1])\n",
    "# plt.plot(pX_train.node_data.axes(1)[0], pX_train.histogram.compute_joint(1)[1])\n",
    "# plt.show()\n",
    "# plt.plot(pX_mutil.node_data.axes(0)[0], pX_mutil.histogram.compute_joint(0)[1])\n",
    "# plt.plot(pX_mutil.node_data.axes(1)[0], pX_mutil.histogram.compute_joint(1)[1])\n",
    "# pass;"
   ]
  },
  {
   "cell_type": "code",
   "execution_count": null,
   "metadata": {},
   "outputs": [],
   "source": [
    "# truth = pX.histogram.compute_conditional(4,(2,))[1]\n",
    "# generated = pX_new.histogram.compute_conditional(4,(2,))[1]\n",
    "# _, truth_ = pX.histogram._epsilonize((), truth)\n",
    "# _, generated_ = pX.histogram._epsilonize((), generated)\n",
    "# np.sum(truth_*np.log((truth_/generated_)))/np.prod(truth.shape)"
   ]
  },
  {
   "cell_type": "code",
   "execution_count": null,
   "metadata": {},
   "outputs": [],
   "source": [
    "# np.sum(truth)\n",
    "# np.sum(truth_*np.log((truth_/generated_)), axis=0, keepdims=True)\n",
    "# np.exp(np.sum(-truth_*np.log((truth_/(truth_*0.1)))))"
   ]
  },
  {
   "cell_type": "code",
   "execution_count": null,
   "metadata": {},
   "outputs": [],
   "source": [
    "blah"
   ]
  },
  {
   "cell_type": "markdown",
   "metadata": {},
   "source": [
    "## Graph Mutilation Tests"
   ]
  },
  {
   "cell_type": "code",
   "execution_count": null,
   "metadata": {},
   "outputs": [],
   "source": [
    "sim_mutil = Simulator(g.mutilate(mutilate).numpy())\n",
    "sim_mutil.sem(7500, 'nonlinear_2')\n",
    "g_mutil = SpaceTime.simulation(sim_mutil)\n",
    "g_mutil.adj\n",
    "g_mutil.draw_graph()"
   ]
  },
  {
   "cell_type": "code",
   "execution_count": null,
   "metadata": {},
   "outputs": [],
   "source": [
    "g_learned.draw_graph()\n",
    "\n",
    "g_learned_mutil = SpaceTime.adjacency(g_learned.mutilate(mutilate).numpy())\n",
    "g_learned_mutil.draw_graph()"
   ]
  },
  {
   "cell_type": "code",
   "execution_count": null,
   "metadata": {},
   "outputs": [],
   "source": [
    "X_mutil = NodeData(g_mutil.data, bins=10)\n",
    "pX_mutil = GraphSampler(g, X_mutil)"
   ]
  },
  {
   "cell_type": "code",
   "execution_count": null,
   "metadata": {},
   "outputs": [],
   "source": [
    "Z_resampled_mutil_cdf = NodeData(pZ_learned.resample_from_cdf(size=10000, mutilate=[mutilate]), bins = Z_learned.edges())\n",
    "Z_resampled_mutil_pdf = NodeData(pZ_learned.resample_from_pdf(size=10000, mutilate=[mutilate]), bins = Z_learned.edges())\n",
    "pZ_resampled_mutil_cdf = GraphSampler(g_learned, Z_resampled_mutil_cdf)\n",
    "pZ_resampled_mutil_pdf = GraphSampler(g_learned, Z_resampled_mutil_pdf)"
   ]
  },
  {
   "cell_type": "code",
   "execution_count": null,
   "metadata": {},
   "outputs": [],
   "source": [
    "preds_resampled_mutil_cdf = autoencoder.decode(torch.Tensor(Z_resampled_mutil_cdf.data()).double(), \n",
    "                                       g_learned_mutil.adj, Wa_train)\n",
    "preds_resampled_mutil_pdf = autoencoder.decode(torch.Tensor(Z_resampled_mutil_pdf.data()).double(), \n",
    "                                       g_learned_mutil.adj, Wa_train)\n",
    "X_resampled_mutil_cdf = NodeData(preds_resampled_mutil_cdf.detach().numpy(), bins=X_learned.edges())\n",
    "X_resampled_mutil_pdf = NodeData(preds_resampled_mutil_pdf.detach().numpy(), bins=X_learned.edges())\n",
    "pX_resampled_mutil_cdf = GraphSampler(g_learned_mutil, X_resampled_mutil_cdf)\n",
    "pX_resampled_mutil_pdf = GraphSampler(g_learned_mutil, X_resampled_mutil_pdf)"
   ]
  },
  {
   "cell_type": "code",
   "execution_count": null,
   "metadata": {},
   "outputs": [],
   "source": [
    "fig, axs = plt.subplots(4, 4, sharex='col', sharey='col', figsize = (16,12))\n",
    "for col, (d,c) in col_plot_dict.items():\n",
    "    axs[0][col].set_title(r'$P_X(%s|%s)$    (true histo)'%(d,c))\n",
    "    axs[0][col].contour(*pX_train.get_contour_conditional(d,c), levels=50)\n",
    "    axs[1][col].set_title(r'$P_X(%s|%s)$    (true mutil histo)'%(d,c))\n",
    "    axs[1][col].contour(*pX_mutil.get_contour_conditional(d,c), levels=50)\n",
    "    axs[2][col].set_title(r'$P_X(%s|%s)$    (cdf resampled mutil histo)'%(d,c))\n",
    "    axs[2][col].contour(*pX_resampled_mutil_cdf.get_contour_conditional(d,c), levels=50)\n",
    "    axs[3][col].set_title(r'$P_X(%s|%s)$    (pdf resampled mutil histo)'%(d,c))\n",
    "    axs[3][col].contour(*pX_resampled_mutil_pdf.get_contour_conditional(d,c), levels=50)\n",
    "    \n",
    "pass;"
   ]
  },
  {
   "cell_type": "code",
   "execution_count": null,
   "metadata": {},
   "outputs": [],
   "source": [
    "fig, axs = plt.subplots(3, 3, sharex='col', sharey='col', figsize = (12,9))\n",
    "\n",
    "axs[0][0].set_title(r'$P_Z(%s|%s)$    (pdf resampled histo)'%(observe,mutilate))\n",
    "axs[0][0].contour(*pZ_resampled_pdf.get_contour_conditional(observe,mutilate), levels=50)\n",
    "axs[1][0].set_title(r'$P_Z(%s|%s)$    (cdf resampled mutil histo)'%(observe,mutilate))\n",
    "axs[1][0].contour(*pZ_resampled_mutil_cdf.get_contour_conditional(observe,mutilate), levels=50)\n",
    "axs[2][0].set_title(r'$P_Z(%s|%s)$    (pdf resampled mutil histo)'%(observe,mutilate))\n",
    "axs[2][0].contour(*pZ_resampled_mutil_pdf.get_contour_conditional(observe,mutilate), levels=50)\n",
    "pass;"
   ]
  },
  {
   "cell_type": "code",
   "execution_count": null,
   "metadata": {},
   "outputs": [],
   "source": [
    "def Pi_UNj_DOk(i, j, k, histogram):\n",
    "    do = np.zeros(histogram.compute_joint(i, k)[1].shape)\n",
    "    latent = histogram.compute_joint(j)[1]\n",
    "    \n",
    "    for n in range(len(latent)):\n",
    "        do += histogram.compute_conditional(i,(j,k))[1][:,n,:]*latent[n]\n",
    "    return do"
   ]
  },
  {
   "cell_type": "code",
   "execution_count": null,
   "metadata": {},
   "outputs": [],
   "source": [
    "fig, axs = plt.subplots(3, 3, sharex=True, sharey=True, figsize = (12,9))\n",
    "axs[0][0].set_title(r'$P_X(%s|%s)$    (true histo)'%(observe,mutilate))\n",
    "axs[0][0].contour(*pX_train.get_contour_conditional(observe,mutilate), levels=50)\n",
    "axs[1][0].set_title(r'$P_X(%s|%s)$    (cdf resampled histo)'%(observe,mutilate))\n",
    "axs[1][0].contour(*pX_resampled_cdf.get_contour_conditional(observe,mutilate), levels=50)\n",
    "axs[2][0].set_title(r'$P_X(%s|%s)$    (pdf resampled histo)'%(observe,mutilate))\n",
    "axs[2][0].contour(*pX_resampled_pdf.get_contour_conditional(observe,mutilate), levels=50)\n",
    "\n",
    "axs[0][1].set_title(r'$P_X(%s|%s)$    (true mutil histo)'%(observe,mutilate))\n",
    "axs[0][1].contour(*pX_mutil.get_contour_conditional(observe,mutilate), levels=50)\n",
    "axs[1][1].set_title(r'$P_X(%s|%s)$    (cdf resampled mutil histo)'%(observe,mutilate))\n",
    "axs[1][1].contour(*pX_resampled_mutil_cdf.get_contour_conditional(observe,mutilate), levels=50)\n",
    "axs[2][1].set_title(r'$P_X(%s|%s)$    (pdf resampled mutil histo)'%(observe,mutilate))\n",
    "axs[2][1].contour(*pX_resampled_mutil_pdf.get_contour_conditional(observe,mutilate), levels=50)\n",
    "\n",
    "\n",
    "\n",
    "axs[0][2].set_title(r'$P_X(%s|%s)$    (true adjusted histo)'%(observe,mutilate))\n",
    "axs[0][2].contour(*np.meshgrid(*pX_train.node_data.axes(observe,mutilate)), \n",
    "                  Pi_UNj_DOk(observe,latent,mutilate, pX_train.histogram).T, levels=50)\n",
    "pass;"
   ]
  }
 ],
 "metadata": {
  "kernelspec": {
   "display_name": "torch",
   "language": "python",
   "name": "torch"
  },
  "language_info": {
   "codemirror_mode": {
    "name": "ipython",
    "version": 3
   },
   "file_extension": ".py",
   "mimetype": "text/x-python",
   "name": "python",
   "nbconvert_exporter": "python",
   "pygments_lexer": "ipython3",
   "version": "3.6.10"
  }
 },
 "nbformat": 4,
 "nbformat_minor": 2
}
