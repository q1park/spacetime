{
 "cells": [
  {
   "cell_type": "code",
   "execution_count": 1,
   "metadata": {},
   "outputs": [],
   "source": [
    "from IPython.core.interactiveshell import InteractiveShell\n",
    "InteractiveShell.ast_node_interactivity = \"all\""
   ]
  },
  {
   "cell_type": "code",
   "execution_count": 2,
   "metadata": {},
   "outputs": [],
   "source": [
    "import os\n",
    "import time\n",
    "import torch\n",
    "import numpy as np\n",
    "import pandas as pd\n",
    "import networkx as nx\n",
    "import matplotlib.pyplot as plt\n",
    "\n",
    "import torch.optim as optim\n",
    "from torch.optim import lr_scheduler\n",
    "from copy import deepcopy"
   ]
  },
  {
   "cell_type": "code",
   "execution_count": 3,
   "metadata": {},
   "outputs": [],
   "source": [
    "from spacetime.spacetime import SpaceTime\n",
    "from spacetime.simulate import Simulator\n",
    "from spacetime.metrics import count_accuracy, adjacency_error\n",
    "from spacetime.models import MLPEncoder, MLPDecoder\n",
    "from spacetime.training import train, acyclicity\n",
    "from spacetime.utils import arguments, spacetime_mutilator, graph_clipper\n",
    "from spacetime.sampler import NodeData, GraphSampler"
   ]
  },
  {
   "cell_type": "code",
   "execution_count": 4,
   "metadata": {},
   "outputs": [
    {
     "name": "stdout",
     "output_type": "stream",
     "text": [
      "simulating a random 3-degree erdos-renyi dag with range (0.5, 2.0) (seed 0)\n"
     ]
    },
    {
     "data": {
      "text/plain": [
       "array([[ 0.        ,  0.        , -0.89683342,  0.        ,  0.        ],\n",
       "       [ 0.        ,  0.        ,  0.        , -0.5281847 , -1.41814358],\n",
       "       [ 0.        ,  0.        ,  0.        , -1.50015007,  0.        ],\n",
       "       [ 0.        ,  0.        ,  0.        ,  0.        ,  1.15554793],\n",
       "       [ 0.        ,  0.        ,  0.        ,  0.        ,  0.        ]])"
      ]
     },
     "execution_count": 4,
     "metadata": {},
     "output_type": "execute_result"
    },
    {
     "data": {
      "image/png": "[encoded data removed]",
      "text/plain": [
       "<Figure size 432x288 with 1 Axes>"
      ]
     },
     "metadata": {},
     "output_type": "display_data"
    }
   ],
   "source": [
    "args = arguments(node_dict = {0:[0,1], 1:[2], 2:[3], 3:[4]})\n",
    "args.data_sample_size=10000\n",
    "args.noise_scale = 0.6\n",
    "args.graph_type='erdos-renyi'\n",
    "args.graph_sem_type='linear-gauss'\n",
    "args.graph_linear_type='linear'\n",
    "args.graph_degree = 3\n",
    "\n",
    "# training hyperparameters\n",
    "args.graph_threshold=0.3  # 0.3 is good 0.2 is error prune\n",
    "args.tau_A=1e-8\n",
    "args.ordered_graph=True\n",
    "args.use_A_connect_loss=False\n",
    "args.use_A_positiver_loss=False\n",
    "\n",
    "args.seed=42\n",
    "args.epochs=5\n",
    "args.batch_size=100 # note: should be divisible by sample size otherwise throw an error\n",
    "args.encoder_hidden=64\n",
    "args.decoder_hidden=64\n",
    "\n",
    "g = SpaceTime.from_spacelike([0,1,3,2,4], simulate=True,\n",
    "                             degree=args.graph_degree, graph_type=args.graph_type, \n",
    "                             w_range=(0.5,2.0), force_positive=False, seed=0)\n",
    "g.show_adj()\n",
    "g.draw_graph()"
   ]
  },
  {
   "cell_type": "code",
   "execution_count": 5,
   "metadata": {},
   "outputs": [],
   "source": [
    "col_plot_dict = {0:(4,3), 1:(4,1), 2:(3,2), 3:(2,0)}\n",
    "mutilate = 3\n",
    "observe = 4\n",
    "latent = 1"
   ]
  },
  {
   "cell_type": "code",
   "execution_count": 6,
   "metadata": {},
   "outputs": [
    {
     "name": "stdout",
     "output_type": "stream",
     "text": [
      "simulating 10000 samples from a linear-gauss sem with linear causal effects\n"
     ]
    }
   ],
   "source": [
    "g.data = Simulator.sem(graph=g.graph, n=args.data_sample_size, x_dims=args.x_dims, \n",
    "                       sem_type=args.graph_sem_type, linear_type=args.graph_linear_type, \n",
    "                       noise_scale=args.noise_scale, seed=args.seed)\n",
    "train_loader, test_loader = g.torch_loader(g.data, args.batch_size)"
   ]
  },
  {
   "cell_type": "code",
   "execution_count": 7,
   "metadata": {},
   "outputs": [],
   "source": [
    "# n_trials = 1\n",
    "\n",
    "# shd_trials = list()\n",
    "# err_trials = list()\n",
    "# kl_trials = list()\n",
    "# nll_trials = list()\n",
    "# elbo_trials = list()\n",
    "# graph_trials = list()\n",
    "\n",
    "# for trial in range(n_trials):\n",
    "#     shd_train, err_train = list(), list()\n",
    "#     kl_train, nll_train, elbo_train = list(), list(), list()\n",
    "#     hA_train = list()\n",
    "#     graph_train = list()\n",
    "\n",
    "#     best_epoch = 0\n",
    "#     best_ELBO, best_ELBO_graph = np.inf, None\n",
    "#     best_KL, best_KL_graph = np.inf, None\n",
    "#     best_NLL, best_NLL_graph = np.inf, None\n",
    "\n",
    "#     # optimizer step on hyparameters\n",
    "#     c_A = args.c_A\n",
    "#     lambda_A = args.lambda_A\n",
    "    \n",
    "#     h_A_old, h_A_new = np.inf, torch.tensor(1.)\n",
    "#     h_tol = args.h_tol\n",
    "#     k_max_iter = int(args.k_max_iter)\n",
    "\n",
    "#     #===================================\n",
    "#     # load modules\n",
    "#     #===================================\n",
    "#     # add adjacency matrix A\n",
    "#     num_nodes = args.data_variable_size\n",
    "#     adj_A = np.zeros((num_nodes, num_nodes))\n",
    "\n",
    "#     encoder = MLPEncoder(args.x_dims, args.encoder_hidden, int(args.z_dims), adj_A).double()\n",
    "#     decoder = MLPDecoder(args.z_dims, args.x_dims, n_hid=args.decoder_hidden).double()\n",
    "\n",
    "#     #===================================\n",
    "#     # set up training parameters\n",
    "#     #===================================\n",
    "#     optimizer = optim.Adam(list(encoder.parameters()) + list(decoder.parameters()),lr=args.lr)\n",
    "#     scheduler = lr_scheduler.StepLR(optimizer, step_size=args.lr_decay, gamma=args.gamma)\n",
    "\n",
    "#     #===================================\n",
    "#     # train model\n",
    "#     #===================================\n",
    "#     t_total = time.time()\n",
    "#     for step_k in range(k_max_iter):\n",
    "#         while c_A < 1e+20:\n",
    "#             for epoch in range(args.epochs):\n",
    "#                 ELBO, KL, NLL, origin_A = train(lambda_A, c_A, optimizer, scheduler, \n",
    "#                                                 encoder, decoder, train_loader, args)\n",
    "#                 graph_clone, graph_full, graph = graph_clipper(origin_A, args.graph_threshold)\n",
    "                \n",
    "#                 if ELBO < best_ELBO:\n",
    "#                     best_epoch = epoch\n",
    "#                     best_ELBO = ELBO\n",
    "#                     best_ELBO_graph = graph\n",
    "#                     best_ELBO_graph_full = graph_full\n",
    "\n",
    "#                 if KL < best_KL:\n",
    "#                     best_KL = KL\n",
    "#                     best_KL_graph = graph\n",
    "\n",
    "#                 if NLL < best_NLL:\n",
    "#                     best_NLL = NLL\n",
    "#                     best_NLL_graph = graph\n",
    "                \n",
    "#                 hA = acyclicity(graph_clone, args)\n",
    "#                 fdr, tpr, fpr, shd, nnz = count_accuracy(g.show_adj(), best_ELBO_graph)\n",
    "#                 err = adjacency_error(g.show_adj(), best_ELBO_graph_full)\n",
    "\n",
    "#                 shd_train.append(shd)\n",
    "#                 err_train.append(err)\n",
    "#                 kl_train.append(best_KL)\n",
    "#                 nll_train.append(best_NLL)\n",
    "#                 elbo_train.append(best_ELBO)\n",
    "#                 hA_train.append(hA)\n",
    "                \n",
    "#             graph_train.append(best_ELBO_graph_full)\n",
    "#             print(\"Optimization Finished!\")\n",
    "#             print(\"Best Epoch: {:04d}\\t\".format(best_epoch),\n",
    "#                   \"ELBO: {:.10f}\".format(best_ELBO),\n",
    "#                   \"KL: {:.10f}\".format(best_KL),\n",
    "#                   \"NLL: {:.10f}\".format(best_NLL))\n",
    "            \n",
    "#             if ELBO > 2 * best_ELBO:\n",
    "#                 break\n",
    "\n",
    "#             # update parameters\n",
    "#             h_A_new = acyclicity(graph_clone, args)\n",
    "#             if h_A_new.item() > 0.25 * h_A_old:\n",
    "#                 c_A*=10\n",
    "#             else:\n",
    "#                 break\n",
    "\n",
    "#         h_A_old = h_A_new.item()\n",
    "#         lambda_A += c_A * h_A_new.item()\n",
    "\n",
    "#         if h_A_new.item() <= h_tol:\n",
    "#             break\n",
    "\n",
    "#     print(\"\\nTrial %s finished in %s seconds\"%(trial, time.time() - t_total))\n",
    "#     print('Best ELBO Stats: shd %s err %s\\n'%(shd, err))\n",
    "# #     print(best_ELBO_graph)\n",
    "\n",
    "# #     print('Ground truth graph')\n",
    "# #     print(g.show_adj(around=3))\n",
    "    \n",
    "#     shd_trials.append(shd_train)\n",
    "#     err_trials.append(err_train)\n",
    "#     kl_trials.append(kl_train)\n",
    "#     nll_trials.append(nll_train)\n",
    "#     elbo_trials.append(elbo_train)\n",
    "#     graph_trials.append(best_ELBO_graph)\n",
    "# pass;"
   ]
  },
  {
   "cell_type": "code",
   "execution_count": 8,
   "metadata": {},
   "outputs": [],
   "source": [
    "# fig, axs = plt.subplots(1, 5, figsize = (15,3))\n",
    "\n",
    "# for trial in range(n_trials):\n",
    "#     axs[0].plot(range(len(err_trials[trial])), err_trials[trial])\n",
    "#     axs[1].plot(range(len(shd_trials[trial])), shd_trials[trial])\n",
    "#     axs[2].plot(range(len(kl_trials[trial])), np.log10(kl_trials[trial]))\n",
    "#     axs[3].plot(range(len(nll_trials[trial])), np.log10(nll_trials[trial]))\n",
    "#     axs[4].plot(range(len(elbo_trials[trial])), np.log10(elbo_trials[trial]))\n",
    "# pass;"
   ]
  },
  {
   "cell_type": "markdown",
   "metadata": {},
   "source": [
    "# Attn Modules"
   ]
  },
  {
   "cell_type": "code",
   "execution_count": 9,
   "metadata": {},
   "outputs": [],
   "source": [
    "import copy, math\n",
    "import seaborn as sns\n",
    "\n",
    "from torch import nn\n",
    "import torch.nn.functional as F\n",
    "from torch.autograd import Variable\n",
    "\n",
    "def draw(data, x, y, ax):\n",
    "    sns.heatmap(data, xticklabels=x, square=True, yticklabels=y, \n",
    "                vmin=0.0, vmax=1.0, cbar=False, ax=ax)\n",
    "    \n",
    "def node_hot(x, pad=(0,0)):\n",
    "    expanded = torch.eye(x.shape[1])*x.unsqueeze(1)\n",
    "    return F.pad(expanded, pad=(*pad, 0, 0), mode='constant', value=0)"
   ]
  },
  {
   "cell_type": "code",
   "execution_count": 10,
   "metadata": {},
   "outputs": [],
   "source": [
    "class LayerNorm(nn.Module):\n",
    "    \"Construct a layernorm module (See citation for details).\"\n",
    "    def __init__(self, features, eps=1e-6):\n",
    "        super(LayerNorm, self).__init__()\n",
    "        self.a_2 = nn.Parameter(torch.ones(features))\n",
    "        self.b_2 = nn.Parameter(torch.zeros(features))\n",
    "        self.eps = eps\n",
    "\n",
    "    def forward(self, x):\n",
    "        mean = x.mean(-1, keepdim=True)\n",
    "        std = x.std(-1, keepdim=True)\n",
    "        return self.a_2 * (x - mean) / (std + self.eps) + self.b_2\n",
    "\n",
    "class SublayerConnection(nn.Module):\n",
    "    \"\"\"\n",
    "    A residual connection followed by a layer norm.\n",
    "    Note for code simplicity the norm is first as opposed to last.\n",
    "    \"\"\"\n",
    "    def __init__(self, size, dropout):\n",
    "        super(SublayerConnection, self).__init__()\n",
    "        self.norm = LayerNorm(size)\n",
    "        self.dropout = nn.Dropout(dropout)\n",
    "    \n",
    "    def forward(self, x, sublayer):\n",
    "        \"Apply residual connection to any sublayer with the same size.\"\n",
    "        return x + self.dropout(sublayer(self.norm(x)))\n",
    "    \n",
    "class PositionalEncoding(nn.Module):\n",
    "    \"Implement the PE function.\"\n",
    "    def __init__(self, d_embed, dropout, max_len=5000):\n",
    "        super(PositionalEncoding, self).__init__()\n",
    "        self.dropout = nn.Dropout(p=dropout)\n",
    "        \n",
    "        # Compute the positional encodings once in log space.\n",
    "        pe = torch.zeros(max_len, d_embed)\n",
    "        position = torch.arange(0, max_len).unsqueeze(1)\n",
    "        div_term = torch.exp(torch.arange(0, d_embed, 2) *\n",
    "                             -(math.log(10000.0) / d_embed))\n",
    "        pe[:, 0::2] = torch.sin(position * div_term)\n",
    "        pe[:, 1::2] = torch.cos(position * div_term)\n",
    "        pe = pe.unsqueeze(0)\n",
    "        self.register_buffer('pe', pe)\n",
    "        \n",
    "    def forward(self, x):\n",
    "        x = x + Variable(self.pe[:, :x.size(1)], \n",
    "                         requires_grad=False)\n",
    "        return self.dropout(x)"
   ]
  },
  {
   "cell_type": "code",
   "execution_count": 11,
   "metadata": {},
   "outputs": [],
   "source": [
    "class LinearBlock(nn.Module):\n",
    "    \"Implements FFN equation.\"\n",
    "    def __init__(self, d_in, d_hidden, d_out, dropout=0.1):\n",
    "        super(LinearBlock, self).__init__()\n",
    "        self.w_1 = nn.Linear(d_in, d_hidden)\n",
    "        self.w_2 = nn.Linear(d_hidden, d_out)\n",
    "        self.dropout = nn.Dropout(dropout)\n",
    "        self.init_weights()\n",
    "        \n",
    "    def init_weights(self):\n",
    "        for m in self.modules():\n",
    "            if isinstance(m, nn.Linear):\n",
    "                nn.init.xavier_normal_(m.weight.data)\n",
    "                m.bias.data.fill_(0.0)\n",
    "\n",
    "    def forward(self, x):\n",
    "        return self.w_2(self.dropout(F.relu(self.w_1(x))))\n",
    "    \n",
    "class EmbedBlock(nn.Module):\n",
    "    def __init__(self, d_in, d_out):\n",
    "        super(EmbedBlock, self).__init__()\n",
    "        self.proj = nn.Linear(d_in, d_out)\n",
    "        self.init_weights()\n",
    "        \n",
    "    def init_weights(self):\n",
    "        for m in self.modules():\n",
    "            if isinstance(m, nn.Linear):\n",
    "                nn.init.xavier_normal_(m.weight.data)\n",
    "                m.bias.data.fill_(0.0)\n",
    "\n",
    "    def forward(self, x):\n",
    "        return self.proj(x)"
   ]
  },
  {
   "cell_type": "code",
   "execution_count": 12,
   "metadata": {},
   "outputs": [],
   "source": [
    "class EncoderLayer(nn.Module):\n",
    "    \"Encoder is made up of self-attn and feed forward (defined below)\"\n",
    "    def __init__(self, d_embed, self_attn, feed_forward, dropout):\n",
    "        super(EncoderLayer, self).__init__()\n",
    "        self.self_attn = self_attn\n",
    "        self.feed_forward = feed_forward\n",
    "        self.sublayer = clones(SublayerConnection(d_embed, dropout), 2)\n",
    "        self.d_embed = d_embed\n",
    "\n",
    "    def forward(self, x):\n",
    "        \"Follow Figure 1 (left) for connections.\"\n",
    "        x = self.sublayer[0](x, lambda x: self.self_attn(x, x, x))\n",
    "        return self.sublayer[1](x, self.feed_forward)\n",
    "\n",
    "class DecoderLayer(nn.Module):\n",
    "    \"Decoder is made of self-attn, src-attn, and feed forward (defined below)\"\n",
    "    def __init__(self, d_embed, self_attn, src_attn, feed_forward, dropout):\n",
    "        super(DecoderLayer, self).__init__()\n",
    "        self.d_embed = d_embed\n",
    "        self.self_attn = self_attn\n",
    "        self.src_attn = src_attn\n",
    "        self.feed_forward = feed_forward\n",
    "        self.sublayer = SublayerConnection(d_embed, dropout)\n",
    "        self.norm = LayerNorm(d_embed)\n",
    " \n",
    "    def forward(self, x, memory):\n",
    "        \"Follow Figure 1 (right) for connections.\"\n",
    "        m = memory\n",
    "        x = self.norm(self.self_attn(x, x, x))\n",
    "        x = self.norm(self.src_attn(x, m, m))\n",
    "        return self.sublayer(x, self.feed_forward)\n",
    "    \n",
    "# class DecoderLayer(nn.Module):\n",
    "#     \"Decoder is made of self-attn, src-attn, and feed forward (defined below)\"\n",
    "#     def __init__(self, d_embed, self_attn, src_attn, feed_forward, dropout):\n",
    "#         super(DecoderLayer, self).__init__()\n",
    "#         self.d_embed = d_embed\n",
    "#         self.self_attn = self_attn\n",
    "#         self.src_attn = src_attn\n",
    "#         self.feed_forward = feed_forward\n",
    "#         self.sublayer = clones(SublayerConnection(d_embed, dropout), 3)\n",
    " \n",
    "#     def forward(self, x, memory):\n",
    "#         \"Follow Figure 1 (right) for connections.\"\n",
    "#         m = memory\n",
    "#         x = self.sublayer[0](x, lambda x: self.self_attn(x, x, x))\n",
    "#         x = self.sublayer[1](x, lambda x: self.src_attn(x, m, m))\n",
    "#         return self.sublayer[2](x, self.feed_forward)"
   ]
  },
  {
   "cell_type": "code",
   "execution_count": 13,
   "metadata": {},
   "outputs": [],
   "source": [
    "def clones(module, N):\n",
    "    \"Produce N identical layers.\"\n",
    "    return nn.ModuleList([copy.deepcopy(module) for _ in range(N)])\n",
    "\n",
    "def clone_encoder(mask, N, **kwargs):\n",
    "    d_embed, d_hidden = kwargs['d_embed'], kwargs['d_hidden']\n",
    "    self_attns = [CausalAttention(n_heads, d_embed, mask=mask) for _ in range(N)]\n",
    "    feed_forwards = [LinearBlock(d_embed, d_hidden, d_embed, dropout=0.1) for _ in range(N)]\n",
    "    modules = [EncoderLayer(d_embed, self_attn, feed_forward, dropout) \n",
    "               for self_attn, feed_forward in zip(self_attns, feed_forwards)]\n",
    "\n",
    "    return nn.ModuleList(modules)\n",
    "\n",
    "def clone_decoder(mask, N, **kwargs):\n",
    "    d_embed, d_hidden = kwargs['d_embed'], kwargs['d_hidden']\n",
    "    self_attns = [CausalAttention(n_heads, d_embed, mask=mask, mask_self=True) for _ in range(N)]\n",
    "    src_attns = [CausalAttention(n_heads, d_embed, mask=mask, mask_self=False) for _ in range(N)]\n",
    "    feed_forwards = [LinearBlock(d_embed, d_hidden, d_embed, dropout=0.1) for _ in range(N)]\n",
    "    \n",
    "    modules = [DecoderLayer(d_embed, self_attn, src_attn, feed_forward, dropout) \n",
    "               for self_attn, src_attn, feed_forward in zip(self_attns, src_attns, feed_forwards)]\n",
    "    return nn.ModuleList(modules)\n",
    "\n",
    "class Encoder(nn.Module):\n",
    "    \"Core encoder is a stack of N layers\"\n",
    "    def __init__(self, mask, n_nodes, d_embed, d_hidden, n_layers, n_heads, dropout):\n",
    "        super(Encoder, self).__init__()\n",
    "        self.mask = mask\n",
    "        self.layers = clone_encoder(self.mask, n_layers, d_embed=d_embed, d_hidden=d_hidden, dropout=dropout)\n",
    "        self.norm = LayerNorm(self.layers[0].d_embed)\n",
    "        \n",
    "    def forward(self, x):\n",
    "        \"Pass the input through each layer in turn.\"\n",
    "        for layer in self.layers:\n",
    "            x = layer(x)\n",
    "        return self.norm(x)\n",
    "    \n",
    "class Decoder(nn.Module):\n",
    "    \"Generic N layer decoder with masking.\"\n",
    "    def __init__(self, mask, n_nodes, d_embed, d_hidden, n_layers, n_heads, dropout):\n",
    "        super(Decoder, self).__init__()\n",
    "        self.mask = mask\n",
    "        self.layers = clone_decoder(self.mask, n_layers, d_embed=d_embed, d_hidden=d_hidden, dropout=dropout)\n",
    "        self.norm = LayerNorm(self.layers[0].d_embed)\n",
    "        \n",
    "    def forward(self, x, memory):\n",
    "        for layer in self.layers:\n",
    "            x = layer(x, memory)\n",
    "        return self.norm(x)"
   ]
  },
  {
   "cell_type": "code",
   "execution_count": 14,
   "metadata": {},
   "outputs": [],
   "source": [
    "# testt = torch.Tensor(g.show_adj())\n",
    "# testt[testt!=0]=1.0\n",
    "# testt=testt+1e-5"
   ]
  },
  {
   "cell_type": "code",
   "execution_count": 15,
   "metadata": {},
   "outputs": [],
   "source": [
    "class EncoderDecoder(nn.Module):\n",
    "    \"\"\"\n",
    "    A standard Encoder-Decoder architecture. Base for this and many other models.\n",
    "    \"\"\"\n",
    "    def __init__(self, n_nodes, d_embed, d_hidden, n_layers, n_heads, dropout):\n",
    "        super(EncoderDecoder, self).__init__()\n",
    "        self.e_mask = torch.eye(n_nodes).unsqueeze(0)\n",
    "#         self.e_mask = torch.tril(torch.ones((1, n_nodes, n_nodes)), diagonal=-1)\n",
    "#         self.d_mask = nn.Parameter(torch.tril(torch.ones((1, n_nodes, n_nodes)), diagonal=-1), requires_grad=True)\n",
    "#         self.d_mask = nn.Parameter(torch.ones((1, n_nodes, n_nodes)), requires_grad=True)\n",
    "        self.d_mask = nn.Parameter(torch.ones((1, n_nodes, n_nodes)), requires_grad=True)\n",
    "#         self.d_mask = testt.transpose(0,1)\n",
    "        self.encoder = Encoder(self.e_mask, n_nodes, d_embed, d_hidden, n_layers, n_heads, dropout)\n",
    "        self.decoder = Decoder(self.d_mask, n_nodes, d_embed, d_hidden, n_layers, n_heads, dropout)\n",
    "        self.embedder = EmbedBlock(n_nodes, d_embed)\n",
    "#         self.embedder = nn.Sequential(EmbedBlock(n_nodes, d_embed), PositionalEncoding(d_embed, dropout))\n",
    "        self.generator = EmbedBlock(d_embed, n_nodes)\n",
    "        self._init_weights()\n",
    "        \n",
    "    def _init_weights(self):\n",
    "        # This was important from their code. \n",
    "        # Initialize parameters with Glorot / fan_avg.\n",
    "        for p in self.parameters():\n",
    "            if p.dim() > 1:\n",
    "                nn.init.xavier_uniform_(p)\n",
    "    \n",
    "    def encode(self, src):\n",
    "        src = self.embedder(src)\n",
    "        src = self.encoder(src)\n",
    "        return src\n",
    "    \n",
    "    def decode(self, tgt, memory):\n",
    "        tgt = self.embedder(tgt)\n",
    "        tgt = self.decoder(tgt, memory)\n",
    "        return tgt\n",
    "    \n",
    "    def forward(self, src, tgt):\n",
    "        \"Take in and process masked src and target sequences.\"\n",
    "        memory = self.encode(src)\n",
    "        tgt = self.decode(tgt, memory)\n",
    "        tgt = self.generator(tgt)\n",
    "        \n",
    "        return tgt, memory, self.d_mask # F.softmax(-torch.exp(-(1e-10+torch.abs(self.d_mask)).log()), dim=-1)"
   ]
  },
  {
   "cell_type": "code",
   "execution_count": 16,
   "metadata": {},
   "outputs": [],
   "source": [
    "class CausalAttention(nn.Module):\n",
    "    def __init__(self, n_heads, d_embed, mask, mask_self=True, dropout=0.1):\n",
    "        \"Take in model size and number of n_headseads.\"\n",
    "        super(CausalAttention, self).__init__()\n",
    "        assert d_embed % n_heads == 0\n",
    "        # We assume d_v always equals d_k\n",
    "        self.d_k = d_embed // n_heads\n",
    "        self.h = n_heads\n",
    "        self.linears = clones(nn.Linear(d_embed, d_embed), 4)\n",
    "        self.attn = None\n",
    "        self.dropout = nn.Dropout(p=dropout)\n",
    "        self.eps = 1e-10\n",
    "        self.mask = mask\n",
    "        self.extra_linear = nn.Linear(d_embed, d_embed)\n",
    "        self.norm = LayerNorm(d_embed)\n",
    "        \n",
    "        if mask_self:\n",
    "            self.mask_add = torch.zeros((mask.shape[-1], mask.shape[-1])).unsqueeze(0)\n",
    "        else:\n",
    "            self.mask_add = torch.eye(mask.shape[-1]).unsqueeze(0)\n",
    "            \n",
    "    def add_mask(self):\n",
    "        return (self.eps+self.mask_add+torch.abs(self.mask)).unsqueeze(1)\n",
    "            \n",
    "    def get_mask(self):\n",
    "        return -torch.exp(-self.add_mask().log())\n",
    "    \n",
    "    def attention(self, query, key, value, dropout=None):\n",
    "        \"Compute 'Scaled Dot Product Attention'\"\n",
    "        d_k = query.size(-1)\n",
    "        scores = torch.matmul(query, key.transpose(-2,-1))/math.sqrt(d_k)\n",
    "#         scores += torch.abs(((self.mask_add+self.mask).unsqueeze(1)+self.eps)).log()\n",
    "#         scores += self.penalty()\n",
    "#         p_attn = F.softmax(scores, dim = -1)\n",
    "        p_attn = F.softmax(scores, dim = -1)*(self.mask_add+torch.abs(self.mask)).unsqueeze(1)\n",
    "    \n",
    "        if dropout is not None:\n",
    "            p_attn = dropout(p_attn)\n",
    "        return torch.matmul(p_attn, value), p_attn\n",
    "    \n",
    "    def bmm(self, adj, x):\n",
    "        return torch.einsum('ij,ajc->aic', adj, x)\n",
    "        \n",
    "    def forward(self, query, key, value):\n",
    "        \"Implements Figure 2\"\n",
    "        nbatches = query.size(0)\n",
    "        # batchwise linear projections from d_embed => n_heads x d_k \n",
    "        query, key, value = [l(x).view(nbatches, -1, self.h, self.d_k).transpose(1,2)\n",
    "                             for l, x in zip(self.linears, (query, key, value))]\n",
    "        x, self.attn = self.attention(query, key, value, dropout=self.dropout)\n",
    "        \n",
    "        # view contatentation and apply final linear layer \n",
    "        x = x.transpose(1, 2).contiguous().view(nbatches, -1, self.h*self.d_k)\n",
    "#         print((self.mask_add+torch.abs(self.mask)).shape, self.linears[-1](x).shape)\n",
    "        return self.linears[-1](x)\n",
    "#         return self.extra_linear(F.relu(self.linears[-1](x)))"
   ]
  },
  {
   "cell_type": "markdown",
   "metadata": {},
   "source": [
    "# Graph Attn"
   ]
  },
  {
   "cell_type": "code",
   "execution_count": 47,
   "metadata": {},
   "outputs": [],
   "source": [
    "class VecBatch:\n",
    "    \"Object for holding a batch of data with mask during training.\"\n",
    "    def __init__(self, src, tgt=None, pad=0):\n",
    "        self.src = node_hot(src)\n",
    "        if tgt is not None:\n",
    "            self.tgt = tgt[:, :]#node_hot(tgt[:, :], pad=(0,0))\n",
    "            self.tgt_y = tgt[:, :]#node_hot(tgt[:, :], pad=(0,0))\n",
    "            self.ntokens = (self.tgt_y != pad).data.sum()\n",
    "            \n",
    "def data_graph_gen(spacetime, batch, nbatches):\n",
    "    for i in range(nbatches):\n",
    "        data = torch.squeeze(torch.from_numpy(g.data[i*batch:(i+1)*batch]))\n",
    "        src = Variable(data, requires_grad=False).float()\n",
    "        tgt = Variable(data, requires_grad=False).float()\n",
    "        yield VecBatch(src, tgt, 0)"
   ]
  },
  {
   "cell_type": "code",
   "execution_count": 48,
   "metadata": {},
   "outputs": [],
   "source": [
    "from spacetime.training_att import LagrangeLoss, ActionOpt\n",
    "from spacetime.training_att import h_A, h_A_timed\n",
    "from spacetime.utils_att import Parameters\n",
    "# from spacetime.training_att import train, truth_evaluation"
   ]
  },
  {
   "cell_type": "code",
   "execution_count": 49,
   "metadata": {},
   "outputs": [],
   "source": [
    "def train(model, train_loader, loss):\n",
    "    t = time.time()\n",
    "    model.train()    \n",
    "\n",
    "    for i, batch in enumerate(train_loader):\n",
    "        preds, z_train, origin_A = model(batch.src.float(), batch.tgt.float())\n",
    "        if torch.sum(preds != preds):\n",
    "            raise ValueError('nan error\\n')\n",
    "        if torch.sum(origin_A != origin_A):\n",
    "            raise ValueError('nan error\\n')\n",
    "\n",
    "        loss(origin_A.squeeze().transpose(0,1), preds, batch.src.float(), z_train)\n",
    "    loss.end_epoch()"
   ]
  },
  {
   "cell_type": "code",
   "execution_count": 50,
   "metadata": {},
   "outputs": [],
   "source": [
    "# Train the simple copy task.\n",
    "n_nodes=5\n",
    "d_embed = 10\n",
    "d_hidden=5*d_embed\n",
    "\n",
    "n_layers=2\n",
    "n_heads = 5\n",
    "dropout=0.1\n",
    "\n",
    "trn_params = Parameters(batch_size=100, epochs=5)\n",
    "opt_params = Parameters(constraint=lambda x: h_A(x, n_nodes),\n",
    "                        lr=0.001, l=1e-2, c=1, h=np.inf, tau=1e-10, \n",
    "                        max_iters=50, h_tol=1e-6)"
   ]
  },
  {
   "cell_type": "code",
   "execution_count": 51,
   "metadata": {
    "scrolled": true
   },
   "outputs": [
    {
     "ename": "RuntimeError",
     "evalue": "size mismatch, m1: [300 x 5], m2: [1 x 10] at /pytorch/aten/src/TH/generic/THTensorMath.cpp:136",
     "output_type": "error",
     "traceback": [
      "\u001b[0;31m---------------------------------------------------------------------------\u001b[0m",
      "\u001b[0;31mRuntimeError\u001b[0m                              Traceback (most recent call last)",
      "\u001b[0;32m<ipython-input-51-b721e4c62210>\u001b[0m in \u001b[0;36m<module>\u001b[0;34m\u001b[0m\n\u001b[1;32m     25\u001b[0m     \u001b[0;32mwhile\u001b[0m \u001b[0moptimizerL\u001b[0m\u001b[0;34m.\u001b[0m\u001b[0m_iter\u001b[0m \u001b[0;34m<\u001b[0m \u001b[0moptimizerL\u001b[0m\u001b[0;34m.\u001b[0m\u001b[0mmax_iter\u001b[0m\u001b[0;34m:\u001b[0m\u001b[0;34m\u001b[0m\u001b[0;34m\u001b[0m\u001b[0m\n\u001b[1;32m     26\u001b[0m         \u001b[0;32mfor\u001b[0m \u001b[0mepoch\u001b[0m \u001b[0;32min\u001b[0m \u001b[0mrange\u001b[0m\u001b[0;34m(\u001b[0m\u001b[0mtrn_params\u001b[0m\u001b[0;34m.\u001b[0m\u001b[0mepochs\u001b[0m\u001b[0;34m)\u001b[0m\u001b[0;34m:\u001b[0m\u001b[0;34m\u001b[0m\u001b[0;34m\u001b[0m\u001b[0m\n\u001b[0;32m---> 27\u001b[0;31m             \u001b[0mtrain\u001b[0m\u001b[0;34m(\u001b[0m\u001b[0mautoencoder\u001b[0m\u001b[0;34m,\u001b[0m \u001b[0mdata_graph_gen\u001b[0m\u001b[0;34m(\u001b[0m\u001b[0mg\u001b[0m\u001b[0;34m,\u001b[0m \u001b[0;36m60\u001b[0m\u001b[0;34m,\u001b[0m \u001b[0;36m60\u001b[0m\u001b[0;34m)\u001b[0m\u001b[0;34m,\u001b[0m \u001b[0mlossL\u001b[0m\u001b[0;34m)\u001b[0m\u001b[0;34m\u001b[0m\u001b[0;34m\u001b[0m\u001b[0m\n\u001b[0m\u001b[1;32m     28\u001b[0m \u001b[0;31m#             shd, err = truth_evaluation(g.adj, optimizerL, mod_params.graph_threshold)\u001b[0m\u001b[0;34m\u001b[0m\u001b[0;34m\u001b[0m\u001b[0;34m\u001b[0m\u001b[0m\n\u001b[1;32m     29\u001b[0m \u001b[0;31m#             shd_train.append(shd)\u001b[0m\u001b[0;34m\u001b[0m\u001b[0;34m\u001b[0m\u001b[0;34m\u001b[0m\u001b[0m\n",
      "\u001b[0;32m<ipython-input-49-b1f9c05a6182>\u001b[0m in \u001b[0;36mtrain\u001b[0;34m(model, train_loader, loss)\u001b[0m\n\u001b[1;32m      4\u001b[0m \u001b[0;34m\u001b[0m\u001b[0m\n\u001b[1;32m      5\u001b[0m     \u001b[0;32mfor\u001b[0m \u001b[0mi\u001b[0m\u001b[0;34m,\u001b[0m \u001b[0mbatch\u001b[0m \u001b[0;32min\u001b[0m \u001b[0menumerate\u001b[0m\u001b[0;34m(\u001b[0m\u001b[0mtrain_loader\u001b[0m\u001b[0;34m)\u001b[0m\u001b[0;34m:\u001b[0m\u001b[0;34m\u001b[0m\u001b[0;34m\u001b[0m\u001b[0m\n\u001b[0;32m----> 6\u001b[0;31m         \u001b[0mpreds\u001b[0m\u001b[0;34m,\u001b[0m \u001b[0mz_train\u001b[0m\u001b[0;34m,\u001b[0m \u001b[0morigin_A\u001b[0m \u001b[0;34m=\u001b[0m \u001b[0mmodel\u001b[0m\u001b[0;34m(\u001b[0m\u001b[0mbatch\u001b[0m\u001b[0;34m.\u001b[0m\u001b[0msrc\u001b[0m\u001b[0;34m.\u001b[0m\u001b[0mfloat\u001b[0m\u001b[0;34m(\u001b[0m\u001b[0;34m)\u001b[0m\u001b[0;34m,\u001b[0m \u001b[0mbatch\u001b[0m\u001b[0;34m.\u001b[0m\u001b[0mtgt\u001b[0m\u001b[0;34m.\u001b[0m\u001b[0mfloat\u001b[0m\u001b[0;34m(\u001b[0m\u001b[0;34m)\u001b[0m\u001b[0;34m)\u001b[0m\u001b[0;34m\u001b[0m\u001b[0;34m\u001b[0m\u001b[0m\n\u001b[0m\u001b[1;32m      7\u001b[0m         \u001b[0;32mif\u001b[0m \u001b[0mtorch\u001b[0m\u001b[0;34m.\u001b[0m\u001b[0msum\u001b[0m\u001b[0;34m(\u001b[0m\u001b[0mpreds\u001b[0m \u001b[0;34m!=\u001b[0m \u001b[0mpreds\u001b[0m\u001b[0;34m)\u001b[0m\u001b[0;34m:\u001b[0m\u001b[0;34m\u001b[0m\u001b[0;34m\u001b[0m\u001b[0m\n\u001b[1;32m      8\u001b[0m             \u001b[0;32mraise\u001b[0m \u001b[0mValueError\u001b[0m\u001b[0;34m(\u001b[0m\u001b[0;34m'nan error\\n'\u001b[0m\u001b[0;34m)\u001b[0m\u001b[0;34m\u001b[0m\u001b[0;34m\u001b[0m\u001b[0m\n",
      "\u001b[0;32m~/anaconda3/envs/torch/lib/python3.6/site-packages/torch/nn/modules/module.py\u001b[0m in \u001b[0;36m__call__\u001b[0;34m(self, *input, **kwargs)\u001b[0m\n\u001b[1;32m    530\u001b[0m             \u001b[0mresult\u001b[0m \u001b[0;34m=\u001b[0m \u001b[0mself\u001b[0m\u001b[0;34m.\u001b[0m\u001b[0m_slow_forward\u001b[0m\u001b[0;34m(\u001b[0m\u001b[0;34m*\u001b[0m\u001b[0minput\u001b[0m\u001b[0;34m,\u001b[0m \u001b[0;34m**\u001b[0m\u001b[0mkwargs\u001b[0m\u001b[0;34m)\u001b[0m\u001b[0;34m\u001b[0m\u001b[0;34m\u001b[0m\u001b[0m\n\u001b[1;32m    531\u001b[0m         \u001b[0;32melse\u001b[0m\u001b[0;34m:\u001b[0m\u001b[0;34m\u001b[0m\u001b[0;34m\u001b[0m\u001b[0m\n\u001b[0;32m--> 532\u001b[0;31m             \u001b[0mresult\u001b[0m \u001b[0;34m=\u001b[0m \u001b[0mself\u001b[0m\u001b[0;34m.\u001b[0m\u001b[0mforward\u001b[0m\u001b[0;34m(\u001b[0m\u001b[0;34m*\u001b[0m\u001b[0minput\u001b[0m\u001b[0;34m,\u001b[0m \u001b[0;34m**\u001b[0m\u001b[0mkwargs\u001b[0m\u001b[0;34m)\u001b[0m\u001b[0;34m\u001b[0m\u001b[0;34m\u001b[0m\u001b[0m\n\u001b[0m\u001b[1;32m    533\u001b[0m         \u001b[0;32mfor\u001b[0m \u001b[0mhook\u001b[0m \u001b[0;32min\u001b[0m \u001b[0mself\u001b[0m\u001b[0;34m.\u001b[0m\u001b[0m_forward_hooks\u001b[0m\u001b[0;34m.\u001b[0m\u001b[0mvalues\u001b[0m\u001b[0;34m(\u001b[0m\u001b[0;34m)\u001b[0m\u001b[0;34m:\u001b[0m\u001b[0;34m\u001b[0m\u001b[0;34m\u001b[0m\u001b[0m\n\u001b[1;32m    534\u001b[0m             \u001b[0mhook_result\u001b[0m \u001b[0;34m=\u001b[0m \u001b[0mhook\u001b[0m\u001b[0;34m(\u001b[0m\u001b[0mself\u001b[0m\u001b[0;34m,\u001b[0m \u001b[0minput\u001b[0m\u001b[0;34m,\u001b[0m \u001b[0mresult\u001b[0m\u001b[0;34m)\u001b[0m\u001b[0;34m\u001b[0m\u001b[0;34m\u001b[0m\u001b[0m\n",
      "\u001b[0;32m<ipython-input-15-17260ba71c81>\u001b[0m in \u001b[0;36mforward\u001b[0;34m(self, src, tgt)\u001b[0m\n\u001b[1;32m     37\u001b[0m     \u001b[0;32mdef\u001b[0m \u001b[0mforward\u001b[0m\u001b[0;34m(\u001b[0m\u001b[0mself\u001b[0m\u001b[0;34m,\u001b[0m \u001b[0msrc\u001b[0m\u001b[0;34m,\u001b[0m \u001b[0mtgt\u001b[0m\u001b[0;34m)\u001b[0m\u001b[0;34m:\u001b[0m\u001b[0;34m\u001b[0m\u001b[0;34m\u001b[0m\u001b[0m\n\u001b[1;32m     38\u001b[0m         \u001b[0;34m\"Take in and process masked src and target sequences.\"\u001b[0m\u001b[0;34m\u001b[0m\u001b[0;34m\u001b[0m\u001b[0m\n\u001b[0;32m---> 39\u001b[0;31m         \u001b[0mmemory\u001b[0m \u001b[0;34m=\u001b[0m \u001b[0mself\u001b[0m\u001b[0;34m.\u001b[0m\u001b[0mencode\u001b[0m\u001b[0;34m(\u001b[0m\u001b[0msrc\u001b[0m\u001b[0;34m)\u001b[0m\u001b[0;34m\u001b[0m\u001b[0;34m\u001b[0m\u001b[0m\n\u001b[0m\u001b[1;32m     40\u001b[0m         \u001b[0mtgt\u001b[0m \u001b[0;34m=\u001b[0m \u001b[0mself\u001b[0m\u001b[0;34m.\u001b[0m\u001b[0mdecode\u001b[0m\u001b[0;34m(\u001b[0m\u001b[0mtgt\u001b[0m\u001b[0;34m,\u001b[0m \u001b[0mmemory\u001b[0m\u001b[0;34m)\u001b[0m\u001b[0;34m\u001b[0m\u001b[0;34m\u001b[0m\u001b[0m\n\u001b[1;32m     41\u001b[0m         \u001b[0mtgt\u001b[0m \u001b[0;34m=\u001b[0m \u001b[0mself\u001b[0m\u001b[0;34m.\u001b[0m\u001b[0mgenerator\u001b[0m\u001b[0;34m(\u001b[0m\u001b[0mtgt\u001b[0m\u001b[0;34m)\u001b[0m\u001b[0;34m\u001b[0m\u001b[0;34m\u001b[0m\u001b[0m\n",
      "\u001b[0;32m<ipython-input-15-17260ba71c81>\u001b[0m in \u001b[0;36mencode\u001b[0;34m(self, src)\u001b[0m\n\u001b[1;32m     26\u001b[0m \u001b[0;34m\u001b[0m\u001b[0m\n\u001b[1;32m     27\u001b[0m     \u001b[0;32mdef\u001b[0m \u001b[0mencode\u001b[0m\u001b[0;34m(\u001b[0m\u001b[0mself\u001b[0m\u001b[0;34m,\u001b[0m \u001b[0msrc\u001b[0m\u001b[0;34m)\u001b[0m\u001b[0;34m:\u001b[0m\u001b[0;34m\u001b[0m\u001b[0;34m\u001b[0m\u001b[0m\n\u001b[0;32m---> 28\u001b[0;31m         \u001b[0msrc\u001b[0m \u001b[0;34m=\u001b[0m \u001b[0mself\u001b[0m\u001b[0;34m.\u001b[0m\u001b[0membedder\u001b[0m\u001b[0;34m(\u001b[0m\u001b[0msrc\u001b[0m\u001b[0;34m)\u001b[0m\u001b[0;34m\u001b[0m\u001b[0;34m\u001b[0m\u001b[0m\n\u001b[0m\u001b[1;32m     29\u001b[0m         \u001b[0msrc\u001b[0m \u001b[0;34m=\u001b[0m \u001b[0mself\u001b[0m\u001b[0;34m.\u001b[0m\u001b[0mencoder\u001b[0m\u001b[0;34m(\u001b[0m\u001b[0msrc\u001b[0m\u001b[0;34m)\u001b[0m\u001b[0;34m\u001b[0m\u001b[0;34m\u001b[0m\u001b[0m\n\u001b[1;32m     30\u001b[0m         \u001b[0;32mreturn\u001b[0m \u001b[0msrc\u001b[0m\u001b[0;34m\u001b[0m\u001b[0;34m\u001b[0m\u001b[0m\n",
      "\u001b[0;32m~/anaconda3/envs/torch/lib/python3.6/site-packages/torch/nn/modules/module.py\u001b[0m in \u001b[0;36m__call__\u001b[0;34m(self, *input, **kwargs)\u001b[0m\n\u001b[1;32m    530\u001b[0m             \u001b[0mresult\u001b[0m \u001b[0;34m=\u001b[0m \u001b[0mself\u001b[0m\u001b[0;34m.\u001b[0m\u001b[0m_slow_forward\u001b[0m\u001b[0;34m(\u001b[0m\u001b[0;34m*\u001b[0m\u001b[0minput\u001b[0m\u001b[0;34m,\u001b[0m \u001b[0;34m**\u001b[0m\u001b[0mkwargs\u001b[0m\u001b[0;34m)\u001b[0m\u001b[0;34m\u001b[0m\u001b[0;34m\u001b[0m\u001b[0m\n\u001b[1;32m    531\u001b[0m         \u001b[0;32melse\u001b[0m\u001b[0;34m:\u001b[0m\u001b[0;34m\u001b[0m\u001b[0;34m\u001b[0m\u001b[0m\n\u001b[0;32m--> 532\u001b[0;31m             \u001b[0mresult\u001b[0m \u001b[0;34m=\u001b[0m \u001b[0mself\u001b[0m\u001b[0;34m.\u001b[0m\u001b[0mforward\u001b[0m\u001b[0;34m(\u001b[0m\u001b[0;34m*\u001b[0m\u001b[0minput\u001b[0m\u001b[0;34m,\u001b[0m \u001b[0;34m**\u001b[0m\u001b[0mkwargs\u001b[0m\u001b[0;34m)\u001b[0m\u001b[0;34m\u001b[0m\u001b[0;34m\u001b[0m\u001b[0m\n\u001b[0m\u001b[1;32m    533\u001b[0m         \u001b[0;32mfor\u001b[0m \u001b[0mhook\u001b[0m \u001b[0;32min\u001b[0m \u001b[0mself\u001b[0m\u001b[0;34m.\u001b[0m\u001b[0m_forward_hooks\u001b[0m\u001b[0;34m.\u001b[0m\u001b[0mvalues\u001b[0m\u001b[0;34m(\u001b[0m\u001b[0;34m)\u001b[0m\u001b[0;34m:\u001b[0m\u001b[0;34m\u001b[0m\u001b[0;34m\u001b[0m\u001b[0m\n\u001b[1;32m    534\u001b[0m             \u001b[0mhook_result\u001b[0m \u001b[0;34m=\u001b[0m \u001b[0mhook\u001b[0m\u001b[0;34m(\u001b[0m\u001b[0mself\u001b[0m\u001b[0;34m,\u001b[0m \u001b[0minput\u001b[0m\u001b[0;34m,\u001b[0m \u001b[0mresult\u001b[0m\u001b[0;34m)\u001b[0m\u001b[0;34m\u001b[0m\u001b[0;34m\u001b[0m\u001b[0m\n",
      "\u001b[0;32m<ipython-input-11-49870581e0a3>\u001b[0m in \u001b[0;36mforward\u001b[0;34m(self, x)\u001b[0m\n\u001b[1;32m     30\u001b[0m \u001b[0;34m\u001b[0m\u001b[0m\n\u001b[1;32m     31\u001b[0m     \u001b[0;32mdef\u001b[0m \u001b[0mforward\u001b[0m\u001b[0;34m(\u001b[0m\u001b[0mself\u001b[0m\u001b[0;34m,\u001b[0m \u001b[0mx\u001b[0m\u001b[0;34m)\u001b[0m\u001b[0;34m:\u001b[0m\u001b[0;34m\u001b[0m\u001b[0;34m\u001b[0m\u001b[0m\n\u001b[0;32m---> 32\u001b[0;31m         \u001b[0;32mreturn\u001b[0m \u001b[0mself\u001b[0m\u001b[0;34m.\u001b[0m\u001b[0mproj\u001b[0m\u001b[0;34m(\u001b[0m\u001b[0mx\u001b[0m\u001b[0;34m)\u001b[0m\u001b[0;34m\u001b[0m\u001b[0;34m\u001b[0m\u001b[0m\n\u001b[0m",
      "\u001b[0;32m~/anaconda3/envs/torch/lib/python3.6/site-packages/torch/nn/modules/module.py\u001b[0m in \u001b[0;36m__call__\u001b[0;34m(self, *input, **kwargs)\u001b[0m\n\u001b[1;32m    530\u001b[0m             \u001b[0mresult\u001b[0m \u001b[0;34m=\u001b[0m \u001b[0mself\u001b[0m\u001b[0;34m.\u001b[0m\u001b[0m_slow_forward\u001b[0m\u001b[0;34m(\u001b[0m\u001b[0;34m*\u001b[0m\u001b[0minput\u001b[0m\u001b[0;34m,\u001b[0m \u001b[0;34m**\u001b[0m\u001b[0mkwargs\u001b[0m\u001b[0;34m)\u001b[0m\u001b[0;34m\u001b[0m\u001b[0;34m\u001b[0m\u001b[0m\n\u001b[1;32m    531\u001b[0m         \u001b[0;32melse\u001b[0m\u001b[0;34m:\u001b[0m\u001b[0;34m\u001b[0m\u001b[0;34m\u001b[0m\u001b[0m\n\u001b[0;32m--> 532\u001b[0;31m             \u001b[0mresult\u001b[0m \u001b[0;34m=\u001b[0m \u001b[0mself\u001b[0m\u001b[0;34m.\u001b[0m\u001b[0mforward\u001b[0m\u001b[0;34m(\u001b[0m\u001b[0;34m*\u001b[0m\u001b[0minput\u001b[0m\u001b[0;34m,\u001b[0m \u001b[0;34m**\u001b[0m\u001b[0mkwargs\u001b[0m\u001b[0;34m)\u001b[0m\u001b[0;34m\u001b[0m\u001b[0;34m\u001b[0m\u001b[0m\n\u001b[0m\u001b[1;32m    533\u001b[0m         \u001b[0;32mfor\u001b[0m \u001b[0mhook\u001b[0m \u001b[0;32min\u001b[0m \u001b[0mself\u001b[0m\u001b[0;34m.\u001b[0m\u001b[0m_forward_hooks\u001b[0m\u001b[0;34m.\u001b[0m\u001b[0mvalues\u001b[0m\u001b[0;34m(\u001b[0m\u001b[0;34m)\u001b[0m\u001b[0;34m:\u001b[0m\u001b[0;34m\u001b[0m\u001b[0;34m\u001b[0m\u001b[0m\n\u001b[1;32m    534\u001b[0m             \u001b[0mhook_result\u001b[0m \u001b[0;34m=\u001b[0m \u001b[0mhook\u001b[0m\u001b[0;34m(\u001b[0m\u001b[0mself\u001b[0m\u001b[0;34m,\u001b[0m \u001b[0minput\u001b[0m\u001b[0;34m,\u001b[0m \u001b[0mresult\u001b[0m\u001b[0;34m)\u001b[0m\u001b[0;34m\u001b[0m\u001b[0;34m\u001b[0m\u001b[0m\n",
      "\u001b[0;32m~/anaconda3/envs/torch/lib/python3.6/site-packages/torch/nn/modules/linear.py\u001b[0m in \u001b[0;36mforward\u001b[0;34m(self, input)\u001b[0m\n\u001b[1;32m     85\u001b[0m \u001b[0;34m\u001b[0m\u001b[0m\n\u001b[1;32m     86\u001b[0m     \u001b[0;32mdef\u001b[0m \u001b[0mforward\u001b[0m\u001b[0;34m(\u001b[0m\u001b[0mself\u001b[0m\u001b[0;34m,\u001b[0m \u001b[0minput\u001b[0m\u001b[0;34m)\u001b[0m\u001b[0;34m:\u001b[0m\u001b[0;34m\u001b[0m\u001b[0;34m\u001b[0m\u001b[0m\n\u001b[0;32m---> 87\u001b[0;31m         \u001b[0;32mreturn\u001b[0m \u001b[0mF\u001b[0m\u001b[0;34m.\u001b[0m\u001b[0mlinear\u001b[0m\u001b[0;34m(\u001b[0m\u001b[0minput\u001b[0m\u001b[0;34m,\u001b[0m \u001b[0mself\u001b[0m\u001b[0;34m.\u001b[0m\u001b[0mweight\u001b[0m\u001b[0;34m,\u001b[0m \u001b[0mself\u001b[0m\u001b[0;34m.\u001b[0m\u001b[0mbias\u001b[0m\u001b[0;34m)\u001b[0m\u001b[0;34m\u001b[0m\u001b[0;34m\u001b[0m\u001b[0m\n\u001b[0m\u001b[1;32m     88\u001b[0m \u001b[0;34m\u001b[0m\u001b[0m\n\u001b[1;32m     89\u001b[0m     \u001b[0;32mdef\u001b[0m \u001b[0mextra_repr\u001b[0m\u001b[0;34m(\u001b[0m\u001b[0mself\u001b[0m\u001b[0;34m)\u001b[0m\u001b[0;34m:\u001b[0m\u001b[0;34m\u001b[0m\u001b[0;34m\u001b[0m\u001b[0m\n",
      "\u001b[0;32m~/anaconda3/envs/torch/lib/python3.6/site-packages/torch/nn/functional.py\u001b[0m in \u001b[0;36mlinear\u001b[0;34m(input, weight, bias)\u001b[0m\n\u001b[1;32m   1370\u001b[0m         \u001b[0mret\u001b[0m \u001b[0;34m=\u001b[0m \u001b[0mtorch\u001b[0m\u001b[0;34m.\u001b[0m\u001b[0maddmm\u001b[0m\u001b[0;34m(\u001b[0m\u001b[0mbias\u001b[0m\u001b[0;34m,\u001b[0m \u001b[0minput\u001b[0m\u001b[0;34m,\u001b[0m \u001b[0mweight\u001b[0m\u001b[0;34m.\u001b[0m\u001b[0mt\u001b[0m\u001b[0;34m(\u001b[0m\u001b[0;34m)\u001b[0m\u001b[0;34m)\u001b[0m\u001b[0;34m\u001b[0m\u001b[0;34m\u001b[0m\u001b[0m\n\u001b[1;32m   1371\u001b[0m     \u001b[0;32melse\u001b[0m\u001b[0;34m:\u001b[0m\u001b[0;34m\u001b[0m\u001b[0;34m\u001b[0m\u001b[0m\n\u001b[0;32m-> 1372\u001b[0;31m         \u001b[0moutput\u001b[0m \u001b[0;34m=\u001b[0m \u001b[0minput\u001b[0m\u001b[0;34m.\u001b[0m\u001b[0mmatmul\u001b[0m\u001b[0;34m(\u001b[0m\u001b[0mweight\u001b[0m\u001b[0;34m.\u001b[0m\u001b[0mt\u001b[0m\u001b[0;34m(\u001b[0m\u001b[0;34m)\u001b[0m\u001b[0;34m)\u001b[0m\u001b[0;34m\u001b[0m\u001b[0;34m\u001b[0m\u001b[0m\n\u001b[0m\u001b[1;32m   1373\u001b[0m         \u001b[0;32mif\u001b[0m \u001b[0mbias\u001b[0m \u001b[0;32mis\u001b[0m \u001b[0;32mnot\u001b[0m \u001b[0;32mNone\u001b[0m\u001b[0;34m:\u001b[0m\u001b[0;34m\u001b[0m\u001b[0;34m\u001b[0m\u001b[0m\n\u001b[1;32m   1374\u001b[0m             \u001b[0moutput\u001b[0m \u001b[0;34m+=\u001b[0m \u001b[0mbias\u001b[0m\u001b[0;34m\u001b[0m\u001b[0;34m\u001b[0m\u001b[0m\n",
      "\u001b[0;31mRuntimeError\u001b[0m: size mismatch, m1: [300 x 5], m2: [1 x 10] at /pytorch/aten/src/TH/generic/THTensorMath.cpp:136"
     ]
    }
   ],
   "source": [
    "n_trials = 1\n",
    "shd_trials, err_trials = list(), list()\n",
    "graph_trials = list()\n",
    "\n",
    "loss_log = {k:[] for k in ('elbo', 'kld', 'nll')}\n",
    "param_log = {k:[] for k in ('lr', 'l', 'c', 'h')}\n",
    "\n",
    "for trial in range(n_trials):\n",
    "    shd_train, err_train = list(), list()\n",
    "    graph_train = list()\n",
    "    \n",
    "    #===================================\n",
    "    # load modules\n",
    "    #===================================\n",
    "\n",
    "    autoencoder = EncoderDecoder(n_nodes, d_embed, d_hidden, n_layers, n_heads, dropout)\n",
    "    optimizerL = ActionOpt(autoencoder, opt_params, h_factor=0.25*(2), c_factor=10.0/(3), warmups=500)\n",
    "    lossL = LagrangeLoss(opt=optimizerL)\n",
    "    \n",
    "    #===================================\n",
    "    # train model\n",
    "    #===================================\n",
    "    \n",
    "    t_total = time.time()\n",
    "    while optimizerL._iter < optimizerL.max_iter:\n",
    "        for epoch in range(trn_params.epochs):\n",
    "            train(autoencoder, data_graph_gen(g, 60, 60), lossL)\n",
    "#             shd, err = truth_evaluation(g.adj, optimizerL, mod_params.graph_threshold)\n",
    "#             shd_train.append(shd)\n",
    "#             err_train.append(err)\n",
    "#             graph_train.append(optimizerL.adj.data.clone())\n",
    "        \n",
    "        print(\"Iteration: %s, Best Epoch: %s/%s\"%(optimizerL._iter, optimizerL.best_epoch, trn_params.epochs))\n",
    "        print(\"   ELBO: {:.7f}, KL: 10^{:.3f}, NLL: 10^{:.3f} || h: 10^{:.3f}, c: 10^{:.3f}, l: {:.7f}, lr: {:.7f}\".format(\n",
    "            optimizerL.min_elbo, np.log10(optimizerL.min_kld), np.log10(optimizerL.min_nll),\n",
    "            np.log10(optimizerL.h), np.log10(optimizerL.c), optimizerL.l, optimizerL.log['lr'][-1])\n",
    "        )\n",
    "\n",
    "        # update parameters\n",
    "        optimizerL.iterate()\n",
    "        if optimizerL._iter > 10: #or optimizerL.h <= optimizerL.h_tol:\n",
    "            break\n",
    "    \n",
    "    print(\"\\nTrial %s finished in %s seconds\"%(trial, time.time() - t_total))\n",
    "#     print('Best ELBO Stats: shd %s err %s\\n'%(shd, err))\n",
    "\n",
    "#     shd_trials.append(shd_train)\n",
    "#     err_trials.append(err_train)\n",
    "#     graph_trials.append(optimizerL.show_adj(mod_params.graph_threshold))\n",
    "    \n",
    "    for k,v in loss_log.items():\n",
    "        v += [optimizerL.log[k]]\n",
    "        \n",
    "    for k,v in param_log.items():\n",
    "        v += [optimizerL.log[k]]\n",
    "pass;"
   ]
  },
  {
   "cell_type": "code",
   "execution_count": 22,
   "metadata": {
    "scrolled": true
   },
   "outputs": [
    {
     "data": {
      "text/plain": [
       "Parameter containing:\n",
       "tensor([[ 0.1193, -0.4492,  0.4254,  0.0621,  0.0237,  0.2819,  0.0104, -0.0384,\n",
       "         -0.2486,  0.2828],\n",
       "        [-0.3062, -0.1032,  0.2413,  0.3355, -0.4903,  0.3087,  0.0521,  0.3256,\n",
       "         -0.1620,  0.1895],\n",
       "        [ 0.1029,  0.2870,  0.4716,  0.2158, -0.2303,  0.1722, -0.0608,  0.0098,\n",
       "          0.1577,  0.1352],\n",
       "        [-0.0458, -0.3567,  0.0708,  0.2658, -0.2714,  0.2759, -0.1890,  0.1003,\n",
       "          0.4124, -0.2212],\n",
       "        [ 0.2419,  0.1536,  0.5711,  0.3045, -0.3411,  0.2656, -0.1090, -0.5575,\n",
       "         -0.3022,  0.2990],\n",
       "        [ 0.1037,  0.4232,  0.2404, -0.1859, -0.5152,  0.5648, -0.1156,  0.3097,\n",
       "         -0.0942,  0.5054],\n",
       "        [ 0.7625,  0.6232, -0.0817, -0.1277,  0.5739, -0.5966, -0.0820, -0.4224,\n",
       "          0.0364, -0.3697],\n",
       "        [-0.0877,  0.2231, -0.5447, -0.0317, -0.2013, -0.2952,  0.4793, -0.3667,\n",
       "          0.3009, -0.2715],\n",
       "        [-0.5126, -0.4344, -0.3224,  0.2834,  0.2986,  0.0407, -0.1337,  0.2643,\n",
       "         -0.2885, -0.3725],\n",
       "        [-0.3459, -0.1690,  0.0503, -0.2753, -0.0869, -0.3276, -0.5226,  0.0368,\n",
       "         -0.3778,  0.1948]], requires_grad=True)"
      ]
     },
     "execution_count": 22,
     "metadata": {},
     "output_type": "execute_result"
    }
   ],
   "source": [
    "autoencoder.decoder.layers[1].self_attn.linears[0].weight"
   ]
  },
  {
   "cell_type": "code",
   "execution_count": 23,
   "metadata": {},
   "outputs": [
    {
     "data": {
      "image/png": "[encoded data removed]",
      "text/plain": [
       "<Figure size 864x216 with 3 Axes>"
      ]
     },
     "metadata": {
      "needs_background": "light"
     },
     "output_type": "display_data"
    }
   ],
   "source": [
    "fig, axs = plt.subplots(1, 3, figsize = (12,3))\n",
    "\n",
    "for trial in range(n_trials):\n",
    "    axs[0].plot(range(len(loss_log['nll'][trial])), np.log10(loss_log['nll'][trial]))\n",
    "    axs[1].plot(range(len(param_log['c'][trial])), np.log10(param_log['c'][trial]))\n",
    "    axs[2].plot(range(len(param_log['lr'][trial])), np.log10(param_log['lr'][trial]))\n",
    "pass;"
   ]
  },
  {
   "cell_type": "code",
   "execution_count": 24,
   "metadata": {},
   "outputs": [],
   "source": [
    "def threshold(adj, threshold):\n",
    "    return nn.Threshold(threshold, 0.0)(adj)-nn.Threshold(threshold, 0.0)(-adj)\n",
    "\n",
    "def time_scores(adj):\n",
    "    n_nodes = adj.shape[0]\n",
    "    I = torch.eye(n_nodes).double()\n",
    "    expA = torch.matrix_power(I+(1/n_nodes)*torch.tanh(adj)**2, n_nodes)\n",
    "    scores = torch.div(1.0, torch.sum(expA, dim=1))-torch.div(1.0, torch.sum(expA, dim=0))\n",
    "    return scores\n",
    "\n",
    "def time_sort(adj):\n",
    "    return torch.argsort(time_scores(adj.squeeze()))\n",
    "\n",
    "testdata = iter(data_graph_gen(g, 30, 60))"
   ]
  },
  {
   "cell_type": "code",
   "execution_count": 25,
   "metadata": {},
   "outputs": [],
   "source": [
    "batch = next(testdata)\n",
    "preds, z_train, origin_A = autoencoder(batch.src.float(), batch.tgt.float())"
   ]
  },
  {
   "cell_type": "code",
   "execution_count": 26,
   "metadata": {},
   "outputs": [
    {
     "data": {
      "text/plain": [
       "tensor([[[-0.2987,  0.0000,  0.0000,  0.0000,  0.0000],\n",
       "         [ 0.0000,  0.2391,  0.0000,  0.0000,  0.0000],\n",
       "         [ 0.0000,  0.0000,  0.3398,  0.0000,  0.0000],\n",
       "         [ 0.0000,  0.0000,  0.0000, -2.3008,  0.0000],\n",
       "         [ 0.0000,  0.0000,  0.0000,  0.0000, -2.9215]]],\n",
       "       grad_fn=<SubBackward0>)"
      ]
     },
     "execution_count": 26,
     "metadata": {},
     "output_type": "execute_result"
    },
    {
     "data": {
      "text/plain": [
       "tensor([[[-0.4071,  0.0000,  0.0000,  0.0000,  0.0000],\n",
       "         [ 0.0000,  0.2980,  0.0000,  0.0000,  0.0000],\n",
       "         [ 0.0000,  0.0000,  0.5741,  0.0000,  0.0000],\n",
       "         [ 0.0000,  0.0000,  0.0000, -2.2069,  0.0000],\n",
       "         [ 0.0000,  0.0000,  0.0000,  0.0000, -3.2560]]])"
      ]
     },
     "execution_count": 26,
     "metadata": {},
     "output_type": "execute_result"
    }
   ],
   "source": [
    "threshold(preds[:1],0.2)\n",
    "threshold(batch.src.float()[:1], 0.)"
   ]
  },
  {
   "cell_type": "code",
   "execution_count": 46,
   "metadata": {},
   "outputs": [
    {
     "data": {
      "text/plain": [
       "tensor([[[-2.9022e-04, -7.9821e-03, -3.3828e-03,  1.0188e-02, -7.9877e-03],\n",
       "         [-2.0454e-02,  4.0573e-03, -1.2769e-02, -2.7223e-02, -5.3379e-02],\n",
       "         [-7.4511e-05,  3.1597e-05, -7.6642e-06, -5.8616e-02,  3.1565e-04],\n",
       "         [ 1.0150e-02, -1.2034e-02,  2.6101e-03, -1.1727e-01,  2.3391e-02],\n",
       "         [-6.5065e-03, -9.3396e-03,  1.8781e-02, -7.8410e-02, -1.3961e-01]],\n",
       "\n",
       "        [[-1.3068e-04,  2.2219e-03, -1.9704e-03,  5.0353e-03, -1.3130e-03],\n",
       "         [-9.2098e-03, -1.1294e-03, -7.4378e-03, -1.3455e-02, -8.7741e-03],\n",
       "         [-3.3549e-05, -8.7953e-06, -4.4643e-06, -2.8971e-02,  5.1885e-05],\n",
       "         [ 4.5700e-03,  3.3497e-03,  1.5203e-03, -5.7960e-02,  3.8448e-03],\n",
       "         [-2.9296e-03,  2.5998e-03,  1.0939e-02, -3.8754e-02, -2.2949e-02]]],\n",
       "       dtype=torch.float64, grad_fn=<SliceBackward>)"
      ]
     },
     "execution_count": 46,
     "metadata": {},
     "output_type": "execute_result"
    },
    {
     "data": {
      "text/plain": [
       "tensor([[[-2.9870e-01,  1.3985e-01, -5.0413e-02,  2.7639e-02, -1.1741e-01],\n",
       "         [-6.7768e-02,  2.3912e-01, -6.4426e-02, -1.3186e-01, -8.4290e-02],\n",
       "         [ 2.2298e-02, -1.0419e-01,  3.3979e-01, -2.7972e-02,  7.8569e-03],\n",
       "         [-4.0249e-02, -7.7361e-02, -6.6776e-02, -2.3008e+00, -2.4949e-02],\n",
       "         [ 1.7619e-01, -8.7317e-02, -6.9571e-02,  1.2637e-02, -2.9215e+00]],\n",
       "\n",
       "        [[-1.0076e-01, -3.9031e-02,  7.6385e-02, -8.7580e-04,  3.2760e-02],\n",
       "         [-6.5328e-02, -8.8365e-03, -5.2924e-02,  1.3918e-02, -9.9846e-02],\n",
       "         [ 2.3413e-02, -3.4533e-02,  2.8645e-01, -3.6898e-03, -1.1689e-01],\n",
       "         [ 8.8663e-02, -1.0485e-02,  1.1543e-01, -1.1473e+00, -5.5003e-02],\n",
       "         [ 2.0078e-01,  6.0658e-02, -1.2348e-02, -5.8608e-02, -6.4431e-01]]],\n",
       "       grad_fn=<SliceBackward>)"
      ]
     },
     "execution_count": 46,
     "metadata": {},
     "output_type": "execute_result"
    }
   ],
   "source": [
    "bmm(origin_A.double(), batch.src.double())[:2]\n",
    "preds[:2]"
   ]
  },
  {
   "cell_type": "code",
   "execution_count": 44,
   "metadata": {},
   "outputs": [
    {
     "data": {
      "text/plain": [
       "tensor([[[ 0.2984, -0.1478,  0.0470, -0.0175,  0.1094],\n",
       "         [ 0.0473, -0.2351,  0.0517,  0.1046,  0.0309],\n",
       "         [-0.0224,  0.1042, -0.3398, -0.0306, -0.0075],\n",
       "         [ 0.0504,  0.0653,  0.0694,  2.1835,  0.0483],\n",
       "         [-0.1827,  0.0780,  0.0884, -0.0910,  2.7819]],\n",
       "\n",
       "        [[ 0.1006,  0.0413, -0.0784,  0.0059, -0.0341],\n",
       "         [ 0.0561,  0.0077,  0.0455, -0.0274,  0.0911],\n",
       "         [-0.0234,  0.0345, -0.2865, -0.0253,  0.1169],\n",
       "         [-0.0841,  0.0138, -0.1139,  1.0893,  0.0588],\n",
       "         [-0.2037, -0.0581,  0.0233,  0.0199,  0.6214]]], dtype=torch.float64,\n",
       "       grad_fn=<SliceBackward>)"
      ]
     },
     "execution_count": 44,
     "metadata": {},
     "output_type": "execute_result"
    }
   ],
   "source": [
    "(bmm(origin_A.double(), batch.src.double())-preds.double())[:2]"
   ]
  },
  {
   "cell_type": "code",
   "execution_count": 45,
   "metadata": {},
   "outputs": [
    {
     "data": {
      "text/plain": [
       "Parameter containing:\n",
       "tensor([[[ 7.1291e-04, -2.6783e-02, -5.8926e-03, -4.6161e-03,  2.4532e-03],\n",
       "         [ 5.0244e-02,  1.3614e-02, -2.2243e-02,  1.2335e-02,  1.6394e-02],\n",
       "         [ 1.8303e-04,  1.0602e-04, -1.3351e-05,  2.6560e-02, -9.6944e-05],\n",
       "         [-2.4932e-02, -4.0378e-02,  4.5466e-03,  5.3135e-02, -7.1838e-03],\n",
       "         [ 1.5983e-02, -3.1338e-02,  3.2715e-02,  3.5529e-02,  4.2879e-02]]],\n",
       "       requires_grad=True)"
      ]
     },
     "execution_count": 45,
     "metadata": {},
     "output_type": "execute_result"
    }
   ],
   "source": [
    "origin_A"
   ]
  },
  {
   "cell_type": "code",
   "execution_count": 27,
   "metadata": {},
   "outputs": [
    {
     "data": {
      "text/plain": [
       "tensor([[ 0.0000, -0.0268,  0.0000,  0.0000,  0.0000],\n",
       "        [ 0.0502,  0.0136, -0.0222,  0.0123,  0.0164],\n",
       "        [ 0.0000,  0.0000,  0.0000,  0.0266,  0.0000],\n",
       "        [-0.0249, -0.0404,  0.0000,  0.0531,  0.0000],\n",
       "        [ 0.0160, -0.0313,  0.0327,  0.0355,  0.0429]],\n",
       "       grad_fn=<SqueezeBackward0>)"
      ]
     },
     "execution_count": 27,
     "metadata": {},
     "output_type": "execute_result"
    }
   ],
   "source": [
    "threshold(autoencoder.d_mask, 0.01).squeeze()"
   ]
  },
  {
   "cell_type": "code",
   "execution_count": 28,
   "metadata": {},
   "outputs": [
    {
     "data": {
      "text/plain": [
       "torch.Size([1, 5, 5])"
      ]
     },
     "execution_count": 28,
     "metadata": {},
     "output_type": "execute_result"
    }
   ],
   "source": [
    "origin_A.shape"
   ]
  },
  {
   "cell_type": "code",
   "execution_count": 29,
   "metadata": {},
   "outputs": [
    {
     "data": {
      "text/plain": [
       "Parameter containing:\n",
       "tensor([[[ 7.1291e-04, -2.6783e-02, -5.8926e-03, -4.6161e-03,  2.4532e-03],\n",
       "         [ 5.0244e-02,  1.3614e-02, -2.2243e-02,  1.2335e-02,  1.6394e-02],\n",
       "         [ 1.8303e-04,  1.0602e-04, -1.3351e-05,  2.6560e-02, -9.6944e-05],\n",
       "         [-2.4932e-02, -4.0378e-02,  4.5466e-03,  5.3135e-02, -7.1838e-03],\n",
       "         [ 1.5983e-02, -3.1338e-02,  3.2715e-02,  3.5529e-02,  4.2879e-02]]],\n",
       "       requires_grad=True)"
      ]
     },
     "execution_count": 29,
     "metadata": {},
     "output_type": "execute_result"
    }
   ],
   "source": [
    "origin_A"
   ]
  },
  {
   "cell_type": "code",
   "execution_count": 30,
   "metadata": {},
   "outputs": [
    {
     "data": {
      "text/plain": [
       "Parameter containing:\n",
       "tensor([[[ 7.1291e-04, -2.6783e-02, -5.8926e-03, -4.6161e-03,  2.4532e-03],\n",
       "         [ 5.0244e-02,  1.3614e-02, -2.2243e-02,  1.2335e-02,  1.6394e-02],\n",
       "         [ 1.8303e-04,  1.0602e-04, -1.3351e-05,  2.6560e-02, -9.6944e-05],\n",
       "         [-2.4932e-02, -4.0378e-02,  4.5466e-03,  5.3135e-02, -7.1838e-03],\n",
       "         [ 1.5983e-02, -3.1338e-02,  3.2715e-02,  3.5529e-02,  4.2879e-02]]],\n",
       "       requires_grad=True)"
      ]
     },
     "execution_count": 30,
     "metadata": {},
     "output_type": "execute_result"
    },
    {
     "data": {
      "text/plain": [
       "tensor([[[1., 0., 0., 0., 0.],\n",
       "         [0., 1., 0., 0., 0.],\n",
       "         [0., 0., 1., 0., 0.],\n",
       "         [0., 0., 0., 1., 0.],\n",
       "         [0., 0., 0., 0., 1.]]])"
      ]
     },
     "execution_count": 30,
     "metadata": {},
     "output_type": "execute_result"
    },
    {
     "data": {
      "text/plain": [
       "tensor([[[ 0.0000, -0.0268,  0.0000,  0.0000,  0.0000],\n",
       "         [ 0.0502,  0.0136, -0.0222,  0.0123,  0.0164],\n",
       "         [ 0.0000,  0.0000,  0.0000,  0.0266,  0.0000],\n",
       "         [-0.0249, -0.0404,  0.0000,  0.0531,  0.0000],\n",
       "         [ 0.0160, -0.0313,  0.0327,  0.0355,  0.0429]]],\n",
       "       grad_fn=<SubBackward0>)"
      ]
     },
     "execution_count": 30,
     "metadata": {},
     "output_type": "execute_result"
    },
    {
     "data": {
      "text/plain": [
       "tensor(0.0049, dtype=torch.float64, grad_fn=<SubBackward0>)"
      ]
     },
     "execution_count": 30,
     "metadata": {},
     "output_type": "execute_result"
    }
   ],
   "source": [
    "autoencoder.d_mask\n",
    "autoencoder.e_mask\n",
    "threshold(autoencoder.d_mask, 0.01)\n",
    "\n",
    "optimizerL.constraint(autoencoder.d_mask.squeeze())"
   ]
  },
  {
   "cell_type": "code",
   "execution_count": 31,
   "metadata": {},
   "outputs": [],
   "source": [
    "def bmm(adj, data):\n",
    "    return torch.einsum('ij,ajc->aic', adj.squeeze(), data.double())"
   ]
  },
  {
   "cell_type": "code",
   "execution_count": 32,
   "metadata": {},
   "outputs": [
    {
     "data": {
      "text/plain": [
       "tensor(0.9107, dtype=torch.float64, grad_fn=<MeanBackward0>)"
      ]
     },
     "execution_count": 32,
     "metadata": {},
     "output_type": "execute_result"
    }
   ],
   "source": [
    "torch.mean(torch.sum(torch.abs(bmm(origin_A.double(), batch.src.double())-preds.double()), dim=1))"
   ]
  },
  {
   "cell_type": "code",
   "execution_count": 33,
   "metadata": {},
   "outputs": [
    {
     "data": {
      "text/plain": [
       "tensor([[[2.9022e-04, 7.9821e-03, 3.3828e-03, 1.0188e-02, 7.9877e-03],\n",
       "         [2.0454e-02, 4.0573e-03, 1.2769e-02, 2.7223e-02, 5.3379e-02],\n",
       "         [7.4511e-05, 3.1597e-05, 7.6642e-06, 5.8616e-02, 3.1565e-04],\n",
       "         [1.0150e-02, 1.2034e-02, 2.6101e-03, 1.1727e-01, 2.3391e-02],\n",
       "         [6.5065e-03, 9.3396e-03, 1.8781e-02, 7.8410e-02, 1.3961e-01]],\n",
       "\n",
       "        [[1.3068e-04, 2.2219e-03, 1.9704e-03, 5.0353e-03, 1.3130e-03],\n",
       "         [9.2098e-03, 1.1294e-03, 7.4378e-03, 1.3455e-02, 8.7741e-03],\n",
       "         [3.3549e-05, 8.7953e-06, 4.4643e-06, 2.8971e-02, 5.1885e-05],\n",
       "         [4.5700e-03, 3.3497e-03, 1.5203e-03, 5.7960e-02, 3.8448e-03],\n",
       "         [2.9296e-03, 2.5998e-03, 1.0939e-02, 3.8754e-02, 2.2949e-02]]],\n",
       "       dtype=torch.float64, grad_fn=<SliceBackward>)"
      ]
     },
     "execution_count": 33,
     "metadata": {},
     "output_type": "execute_result"
    },
    {
     "data": {
      "text/plain": [
       "tensor([[[-2.9870e-01,  1.3985e-01, -5.0413e-02,  2.7639e-02, -1.1741e-01],\n",
       "         [-6.7768e-02,  2.3912e-01, -6.4426e-02, -1.3186e-01, -8.4290e-02],\n",
       "         [ 2.2298e-02, -1.0419e-01,  3.3979e-01, -2.7972e-02,  7.8569e-03],\n",
       "         [-4.0249e-02, -7.7361e-02, -6.6776e-02, -2.3008e+00, -2.4949e-02],\n",
       "         [ 1.7619e-01, -8.7317e-02, -6.9571e-02,  1.2637e-02, -2.9215e+00]],\n",
       "\n",
       "        [[-1.0076e-01, -3.9031e-02,  7.6385e-02, -8.7580e-04,  3.2760e-02],\n",
       "         [-6.5328e-02, -8.8365e-03, -5.2924e-02,  1.3918e-02, -9.9846e-02],\n",
       "         [ 2.3413e-02, -3.4533e-02,  2.8645e-01, -3.6898e-03, -1.1689e-01],\n",
       "         [ 8.8663e-02, -1.0485e-02,  1.1543e-01, -1.1473e+00, -5.5003e-02],\n",
       "         [ 2.0078e-01,  6.0658e-02, -1.2348e-02, -5.8608e-02, -6.4431e-01]]],\n",
       "       dtype=torch.float64, grad_fn=<SliceBackward>)"
      ]
     },
     "execution_count": 33,
     "metadata": {},
     "output_type": "execute_result"
    }
   ],
   "source": [
    "torch.abs(bmm(origin_A.double(), batch.src.double()))[:2]\n",
    "preds.double()[:2]"
   ]
  },
  {
   "cell_type": "code",
   "execution_count": 34,
   "metadata": {},
   "outputs": [
    {
     "data": {
      "text/plain": [
       "array([[ 0.        ,  0.        ,  0.        ,  0.        ,  0.        ],\n",
       "       [ 0.        ,  0.        ,  0.        ,  0.        ,  0.        ],\n",
       "       [-0.89683342,  0.        ,  0.        ,  0.        ,  0.        ],\n",
       "       [ 0.        , -0.5281847 , -1.50015007,  0.        ,  0.        ],\n",
       "       [ 0.        , -1.41814358,  0.        ,  1.15554793,  0.        ]])"
      ]
     },
     "execution_count": 34,
     "metadata": {},
     "output_type": "execute_result"
    }
   ],
   "source": [
    "g.show_adj().T"
   ]
  },
  {
   "cell_type": "code",
   "execution_count": 35,
   "metadata": {},
   "outputs": [],
   "source": [
    "testt2 = torch.Tensor([[ 2.6456e-06, -9.5818e-08, -8.6945e-01,  2.0426e-02,  5.9849e-03],\n",
    "        [-1.0854e-07,  2.3277e-06,  2.6204e-02, -5.4377e-01, -1.4878e+00],\n",
    "        [-1.7013e-05,  2.5015e-09,  2.7552e-06, -1.5096e+00,  3.8229e-02],\n",
    "        [ 2.6729e-05, -1.0530e-05, -2.9288e-05,  2.4118e-06,  1.2162e+00],\n",
    "        [ 3.2156e-05, -4.2439e-05, -3.4324e-05,  2.3741e-05,  2.5642e-06]])"
   ]
  },
  {
   "cell_type": "code",
   "execution_count": 36,
   "metadata": {},
   "outputs": [
    {
     "data": {
      "text/plain": [
       "tensor([[-3.7797e+05, -1.0447e+07, -1.1502e+00, -4.8957e+01, -1.6709e+02],\n",
       "        [-9.2217e+06, -4.2959e+05, -3.8162e+01, -1.8390e+00, -6.7213e-01],\n",
       "        [-5.8779e+04, -3.8439e+08, -3.6294e+05, -6.6243e-01, -2.6158e+01],\n",
       "        [-3.7412e+04, -9.4968e+04, -3.4144e+04, -4.1461e+05, -8.2223e-01],\n",
       "        [-3.1098e+04, -2.3563e+04, -2.9134e+04, -4.2121e+04, -3.8997e+05]])"
      ]
     },
     "execution_count": 36,
     "metadata": {},
     "output_type": "execute_result"
    },
    {
     "data": {
      "text/plain": [
       "tensor([[0.0000e+00, 0.0000e+00, 1.0000e+00, 1.7285e-21, 0.0000e+00],\n",
       "        [0.0000e+00, 0.0000e+00, 3.9865e-17, 2.3742e-01, 7.6258e-01],\n",
       "        [0.0000e+00, 0.0000e+00, 0.0000e+00, 1.0000e+00, 8.4596e-12],\n",
       "        [0.0000e+00, 0.0000e+00, 0.0000e+00, 0.0000e+00, 1.0000e+00],\n",
       "        [0.0000e+00, 1.0000e+00, 0.0000e+00, 0.0000e+00, 0.0000e+00]])"
      ]
     },
     "execution_count": 36,
     "metadata": {},
     "output_type": "execute_result"
    }
   ],
   "source": [
    "-torch.exp(-(torch.abs(testt2+1e-10).log()))\n",
    "F.softmax(-torch.exp(-(torch.abs(testt2)+1e-10).log()), dim = -1)"
   ]
  },
  {
   "cell_type": "code",
   "execution_count": 37,
   "metadata": {},
   "outputs": [
    {
     "data": {
      "text/plain": [
       "tensor([[0.0000e+00, 0.0000e+00, 3.1659e-01, 5.4721e-22, 0.0000e+00],\n",
       "        [0.0000e+00, 0.0000e+00, 2.6693e-17, 1.5897e-01, 5.1062e-01],\n",
       "        [0.0000e+00, 0.0000e+00, 0.0000e+00, 5.1560e-01, 4.3617e-12],\n",
       "        [0.0000e+00, 0.0000e+00, 0.0000e+00, 0.0000e+00, 4.3945e-01],\n",
       "        [0.0000e+00, 0.0000e+00, 0.0000e+00, 0.0000e+00, 0.0000e+00]])"
      ]
     },
     "execution_count": 37,
     "metadata": {},
     "output_type": "execute_result"
    }
   ],
   "source": [
    "torch.exp(-torch.exp(-(torch.abs(testt2)+1e-10).log()))"
   ]
  },
  {
   "cell_type": "code",
   "execution_count": 38,
   "metadata": {},
   "outputs": [
    {
     "data": {
      "text/plain": [
       "tensor([[-3.7797e+05, -1.0426e+07, -1.1502e+00, -4.8957e+01, -1.6709e+02],\n",
       "        [-9.2047e+06, -4.2959e+05, -3.8162e+01, -1.8390e+00, -6.7213e-01],\n",
       "        [-5.8778e+04, -3.8439e+08, -3.6294e+05, -6.6243e-01, -2.6158e+01],\n",
       "        [-3.7412e+04, -9.4966e+04, -3.4144e+04, -4.1461e+05, -8.2223e-01],\n",
       "        [-3.1098e+04, -2.3563e+04, -2.9134e+04, -4.2121e+04, -3.8997e+05]])"
      ]
     },
     "execution_count": 38,
     "metadata": {},
     "output_type": "execute_result"
    }
   ],
   "source": [
    "-torch.exp(-(torch.abs(testt2)+1e-10).log())"
   ]
  },
  {
   "cell_type": "code",
   "execution_count": 39,
   "metadata": {},
   "outputs": [
    {
     "data": {
      "text/plain": [
       "tensor([[-3.7797e+05, -1.0426e+07, -1.1502e+00, -4.8957e+01, -1.6709e+02],\n",
       "        [-9.2047e+06, -4.2959e+05, -3.8162e+01, -1.8390e+00, -6.7213e-01],\n",
       "        [-5.8778e+04, -3.8439e+08, -3.6294e+05, -6.6243e-01, -2.6158e+01],\n",
       "        [-3.7412e+04, -9.4966e+04, -3.4144e+04, -4.1461e+05, -8.2223e-01],\n",
       "        [-3.1098e+04, -2.3563e+04, -2.9134e+04, -4.2121e+04, -3.8997e+05]])"
      ]
     },
     "execution_count": 39,
     "metadata": {},
     "output_type": "execute_result"
    }
   ],
   "source": [
    "-1/(torch.abs(testt2)+1e-10)"
   ]
  },
  {
   "cell_type": "code",
   "execution_count": 40,
   "metadata": {},
   "outputs": [
    {
     "data": {
      "text/plain": [
       "tensor([[2.6456e-06, 9.5818e-08, 8.6945e-01, 2.0426e-02, 5.9849e-03],\n",
       "        [1.0854e-07, 2.3277e-06, 2.6204e-02, 5.4377e-01, 1.4878e+00],\n",
       "        [1.7013e-05, 2.5015e-09, 2.7552e-06, 1.5096e+00, 3.8229e-02],\n",
       "        [2.6729e-05, 1.0530e-05, 2.9288e-05, 2.4118e-06, 1.2162e+00],\n",
       "        [3.2156e-05, 4.2439e-05, 3.4324e-05, 2.3741e-05, 2.5642e-06]])"
      ]
     },
     "execution_count": 40,
     "metadata": {},
     "output_type": "execute_result"
    }
   ],
   "source": [
    "torch.abs(testt2)"
   ]
  },
  {
   "cell_type": "code",
   "execution_count": 41,
   "metadata": {},
   "outputs": [
    {
     "data": {
      "text/plain": [
       "tensor([[ 0.0000,  0.0000, -0.8694,  0.0000,  0.0000],\n",
       "        [ 0.0000,  0.0000,  0.0000, -0.5438, -1.4878],\n",
       "        [ 0.0000,  0.0000,  0.0000, -1.5096,  0.0000],\n",
       "        [ 0.0000,  0.0000,  0.0000,  0.0000,  1.2162],\n",
       "        [ 0.0000,  0.0000,  0.0000,  0.0000,  0.0000]])"
      ]
     },
     "execution_count": 41,
     "metadata": {},
     "output_type": "execute_result"
    },
    {
     "data": {
      "text/plain": [
       "tensor([[-3.7797e+05, -1.0426e+07, -1.1502e+00, -4.8957e+01, -1.6709e+02],\n",
       "        [-9.2047e+06, -4.2959e+05, -3.8162e+01, -1.8390e+00, -6.7213e-01],\n",
       "        [-5.8778e+04, -3.8439e+08, -3.6294e+05, -6.6243e-01, -2.6158e+01],\n",
       "        [-3.7412e+04, -9.4966e+04, -3.4144e+04, -4.1461e+05, -8.2223e-01],\n",
       "        [-3.1098e+04, -2.3563e+04, -2.9134e+04, -4.2121e+04, -3.8997e+05]])"
      ]
     },
     "execution_count": 41,
     "metadata": {},
     "output_type": "execute_result"
    },
    {
     "data": {
      "text/plain": [
       "tensor([[0.0000, 0.0000, 1.0000, 0.0000, 0.0000],\n",
       "        [0.0000, 0.0000, 0.0000, 0.2374, 0.7626],\n",
       "        [0.0000, 0.0000, 0.0000, 1.0000, 0.0000],\n",
       "        [0.0000, 0.0000, 0.0000, 0.0000, 1.0000],\n",
       "        [0.0000, 1.0000, 0.0000, 0.0000, 0.0000]])"
      ]
     },
     "execution_count": 41,
     "metadata": {},
     "output_type": "execute_result"
    },
    {
     "data": {
      "text/plain": [
       "tensor([[0.0000, 0.0000, 0.3166, 0.0000, 0.0000],\n",
       "        [0.0000, 0.0000, 0.0000, 0.1590, 0.5106],\n",
       "        [0.0000, 0.0000, 0.0000, 0.5156, 0.0000],\n",
       "        [0.0000, 0.0000, 0.0000, 0.0000, 0.4394],\n",
       "        [0.0000, 0.0000, 0.0000, 0.0000, 0.0000]])"
      ]
     },
     "execution_count": 41,
     "metadata": {},
     "output_type": "execute_result"
    }
   ],
   "source": [
    "threshold(testt2, 0.1)\n",
    "threshold(-torch.exp(-(torch.abs(testt2)+1e-10).log()), 0.1)\n",
    "threshold(F.softmax(-torch.exp(-(torch.abs(testt2)+1e-10).log()), dim = -1), 0.1)\n",
    "threshold(torch.exp(-torch.exp(-(torch.abs(testt2)+1e-10).log())), 0.1)"
   ]
  },
  {
   "cell_type": "code",
   "execution_count": 42,
   "metadata": {},
   "outputs": [],
   "source": [
    "# -torch.exp(-(torch.eye(autoencoder.d_mask.shape[1])+1e-10).log())\n",
    "# -torch.exp(-5*(torch.abs(autoencoder.d_mask)+1e-4).log())"
   ]
  },
  {
   "cell_type": "code",
   "execution_count": 43,
   "metadata": {
    "scrolled": true
   },
   "outputs": [
    {
     "ename": "NameError",
     "evalue": "name 'mask_norm' is not defined",
     "output_type": "error",
     "traceback": [
      "\u001b[0;31m---------------------------------------------------------------------------\u001b[0m",
      "\u001b[0;31mNameError\u001b[0m                                 Traceback (most recent call last)",
      "\u001b[0;32m<ipython-input-43-cc2537df8ccb>\u001b[0m in \u001b[0;36m<module>\u001b[0;34m\u001b[0m\n\u001b[1;32m      1\u001b[0m \u001b[0mfig\u001b[0m\u001b[0;34m,\u001b[0m \u001b[0maxs\u001b[0m \u001b[0;34m=\u001b[0m \u001b[0mplt\u001b[0m\u001b[0;34m.\u001b[0m\u001b[0msubplots\u001b[0m\u001b[0;34m(\u001b[0m\u001b[0;36m1\u001b[0m\u001b[0;34m,\u001b[0m\u001b[0;36m2\u001b[0m\u001b[0;34m,\u001b[0m \u001b[0mfigsize\u001b[0m\u001b[0;34m=\u001b[0m\u001b[0;34m(\u001b[0m\u001b[0;36m10\u001b[0m\u001b[0;34m,\u001b[0m \u001b[0;36m5\u001b[0m\u001b[0;34m)\u001b[0m\u001b[0;34m)\u001b[0m\u001b[0;34m\u001b[0m\u001b[0;34m\u001b[0m\u001b[0m\n\u001b[1;32m      2\u001b[0m \u001b[0mdraw\u001b[0m\u001b[0;34m(\u001b[0m\u001b[0mtorch\u001b[0m\u001b[0;34m.\u001b[0m\u001b[0mabs\u001b[0m\u001b[0;34m(\u001b[0m\u001b[0mautoencoder\u001b[0m\u001b[0;34m.\u001b[0m\u001b[0md_mask\u001b[0m\u001b[0;34m.\u001b[0m\u001b[0mdetach\u001b[0m\u001b[0;34m(\u001b[0m\u001b[0;34m)\u001b[0m\u001b[0;34m.\u001b[0m\u001b[0msqueeze\u001b[0m\u001b[0;34m(\u001b[0m\u001b[0;34m)\u001b[0m\u001b[0;34m)\u001b[0m\u001b[0;34m,\u001b[0m \u001b[0mlist\u001b[0m\u001b[0;34m(\u001b[0m\u001b[0mrange\u001b[0m\u001b[0;34m(\u001b[0m\u001b[0;36m5\u001b[0m\u001b[0;34m)\u001b[0m\u001b[0;34m)\u001b[0m\u001b[0;34m,\u001b[0m \u001b[0mlist\u001b[0m\u001b[0;34m(\u001b[0m\u001b[0mrange\u001b[0m\u001b[0;34m(\u001b[0m\u001b[0;36m5\u001b[0m\u001b[0;34m)\u001b[0m\u001b[0;34m)\u001b[0m \u001b[0;32mif\u001b[0m \u001b[0mn_heads\u001b[0m \u001b[0;34m==\u001b[0m\u001b[0;36m0\u001b[0m \u001b[0;32melse\u001b[0m \u001b[0;34m[\u001b[0m\u001b[0;34m]\u001b[0m\u001b[0;34m,\u001b[0m \u001b[0max\u001b[0m\u001b[0;34m=\u001b[0m\u001b[0maxs\u001b[0m\u001b[0;34m[\u001b[0m\u001b[0;36m0\u001b[0m\u001b[0;34m]\u001b[0m\u001b[0;34m)\u001b[0m\u001b[0;34m\u001b[0m\u001b[0;34m\u001b[0m\u001b[0m\n\u001b[0;32m----> 3\u001b[0;31m \u001b[0mdraw\u001b[0m\u001b[0;34m(\u001b[0m\u001b[0mtorch\u001b[0m\u001b[0;34m.\u001b[0m\u001b[0mabs\u001b[0m\u001b[0;34m(\u001b[0m\u001b[0mmask_norm\u001b[0m\u001b[0;34m.\u001b[0m\u001b[0mdetach\u001b[0m\u001b[0;34m(\u001b[0m\u001b[0;34m)\u001b[0m\u001b[0;34m.\u001b[0m\u001b[0msqueeze\u001b[0m\u001b[0;34m(\u001b[0m\u001b[0;34m)\u001b[0m\u001b[0;34m)\u001b[0m\u001b[0;34m,\u001b[0m \u001b[0mlist\u001b[0m\u001b[0;34m(\u001b[0m\u001b[0mrange\u001b[0m\u001b[0;34m(\u001b[0m\u001b[0;36m5\u001b[0m\u001b[0;34m)\u001b[0m\u001b[0;34m)\u001b[0m\u001b[0;34m,\u001b[0m \u001b[0mlist\u001b[0m\u001b[0;34m(\u001b[0m\u001b[0mrange\u001b[0m\u001b[0;34m(\u001b[0m\u001b[0;36m5\u001b[0m\u001b[0;34m)\u001b[0m\u001b[0;34m)\u001b[0m \u001b[0;32mif\u001b[0m \u001b[0mn_heads\u001b[0m \u001b[0;34m==\u001b[0m\u001b[0;36m0\u001b[0m \u001b[0;32melse\u001b[0m \u001b[0;34m[\u001b[0m\u001b[0;34m]\u001b[0m\u001b[0;34m,\u001b[0m \u001b[0max\u001b[0m\u001b[0;34m=\u001b[0m\u001b[0maxs\u001b[0m\u001b[0;34m[\u001b[0m\u001b[0;36m1\u001b[0m\u001b[0;34m]\u001b[0m\u001b[0;34m)\u001b[0m\u001b[0;34m\u001b[0m\u001b[0;34m\u001b[0m\u001b[0m\n\u001b[0m\u001b[1;32m      4\u001b[0m \u001b[0mplt\u001b[0m\u001b[0;34m.\u001b[0m\u001b[0mshow\u001b[0m\u001b[0;34m(\u001b[0m\u001b[0;34m)\u001b[0m\u001b[0;34m\u001b[0m\u001b[0;34m\u001b[0m\u001b[0m\n",
      "\u001b[0;31mNameError\u001b[0m: name 'mask_norm' is not defined"
     ]
    },
    {
     "data": {
      "image/png": "[encoded data removed]",
      "text/plain": [
       "<Figure size 720x360 with 2 Axes>"
      ]
     },
     "metadata": {
      "needs_background": "light"
     },
     "output_type": "display_data"
    }
   ],
   "source": [
    "fig, axs = plt.subplots(1,2, figsize=(10, 5))\n",
    "draw(torch.abs(autoencoder.d_mask.detach().squeeze()), list(range(5)), list(range(5)) if n_heads ==0 else [], ax=axs[0])\n",
    "draw(torch.abs(mask_norm.detach().squeeze()), list(range(5)), list(range(5)) if n_heads ==0 else [], ax=axs[1])\n",
    "plt.show()"
   ]
  },
  {
   "cell_type": "code",
   "execution_count": null,
   "metadata": {},
   "outputs": [],
   "source": [
    "g.draw_graph()"
   ]
  },
  {
   "cell_type": "code",
   "execution_count": null,
   "metadata": {},
   "outputs": [],
   "source": [
    "time_scores(mask_norm.squeeze().transpose(0,1))\n",
    "torch.argsort(time_scores(mask_norm.squeeze().transpose(0,1)))"
   ]
  },
  {
   "cell_type": "code",
   "execution_count": null,
   "metadata": {},
   "outputs": [],
   "source": [
    "autoencoder.decoder.layers[1].self_attn.attn[0, 0].data"
   ]
  },
  {
   "cell_type": "code",
   "execution_count": null,
   "metadata": {},
   "outputs": [],
   "source": [
    "sent = list(range(5))\n",
    "tgt_sent = list(range(5))\n",
    "\n",
    "autoencoder.decoder.layers[0].self_attn.attn[0, 0].data\n",
    "\n",
    "for layer in range(0,2):\n",
    "    fig, axs = plt.subplots(1,2, figsize=(10, 10))\n",
    "    print(\"Decoder Self Layer\", layer+1)\n",
    "    for h in range(1):\n",
    "        draw(autoencoder.decoder.layers[layer].self_attn.attn[0, h].data[:len(tgt_sent), :len(tgt_sent)], \n",
    "            tgt_sent[:-1], tgt_sent[:-1] if h ==0 else [], ax=axs[h])\n",
    "    plt.show()\n",
    "    print(\"Decoder Src Layer\", layer+1)\n",
    "    fig, axs = plt.subplots(1,2, figsize=(10, 10))\n",
    "    for h in range(1):\n",
    "        draw(autoencoder.decoder.layers[layer].src_attn.attn[0, h].data[:len(tgt_sent), :len(sent)], \n",
    "            sent, tgt_sent if h ==0 else [], ax=axs[h])\n",
    "    plt.show()\n",
    "pass;"
   ]
  },
  {
   "cell_type": "code",
   "execution_count": null,
   "metadata": {},
   "outputs": [],
   "source": []
  }
 ],
 "metadata": {
  "kernelspec": {
   "display_name": "torch",
   "language": "python",
   "name": "torch"
  },
  "language_info": {
   "codemirror_mode": {
    "name": "ipython",
    "version": 3
   },
   "file_extension": ".py",
   "mimetype": "text/x-python",
   "name": "python",
   "nbconvert_exporter": "python",
   "pygments_lexer": "ipython3",
   "version": "3.6.10"
  }
 },
 "nbformat": 4,
 "nbformat_minor": 2
}
