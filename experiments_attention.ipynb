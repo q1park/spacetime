{
 "cells": [
  {
   "cell_type": "code",
   "execution_count": 1,
   "metadata": {},
   "outputs": [],
   "source": [
    "from IPython.core.interactiveshell import InteractiveShell\n",
    "InteractiveShell.ast_node_interactivity = \"all\""
   ]
  },
  {
   "cell_type": "code",
   "execution_count": 2,
   "metadata": {},
   "outputs": [],
   "source": [
    "import os\n",
    "import time\n",
    "import torch\n",
    "import numpy as np\n",
    "import pandas as pd\n",
    "import networkx as nx\n",
    "import matplotlib.pyplot as plt\n",
    "\n",
    "import torch.optim as optim\n",
    "from torch.optim import lr_scheduler\n",
    "from copy import deepcopy"
   ]
  },
  {
   "cell_type": "code",
   "execution_count": 3,
   "metadata": {},
   "outputs": [],
   "source": [
    "from spacetime.spacetime import SpaceTime\n",
    "from spacetime.simulate import Simulator\n",
    "from spacetime.metrics import count_accuracy, adjacency_error\n",
    "from spacetime.models import MLPEncoder, MLPDecoder\n",
    "from spacetime.training import train, acyclicity\n",
    "from spacetime.utils import arguments, spacetime_mutilator, graph_clipper\n",
    "from spacetime.sampler import NodeData, GraphSampler"
   ]
  },
  {
   "cell_type": "code",
   "execution_count": 4,
   "metadata": {},
   "outputs": [
    {
     "name": "stdout",
     "output_type": "stream",
     "text": [
      "simulating a random 3-degree erdos-renyi dag with range (0.5, 2.0) (seed 0)\n"
     ]
    },
    {
     "data": {
      "text/plain": [
       "array([[ 0.        ,  0.        , -0.89683342,  0.        ,  0.        ],\n",
       "       [ 0.        ,  0.        ,  0.        , -0.5281847 , -1.41814358],\n",
       "       [ 0.        ,  0.        ,  0.        , -1.50015007,  0.        ],\n",
       "       [ 0.        ,  0.        ,  0.        ,  0.        ,  1.15554793],\n",
       "       [ 0.        ,  0.        ,  0.        ,  0.        ,  0.        ]])"
      ]
     },
     "execution_count": 4,
     "metadata": {},
     "output_type": "execute_result"
    },
    {
     "data": {
      "image/png": "[encoded data removed]",
      "text/plain": [
       "<Figure size 432x288 with 1 Axes>"
      ]
     },
     "metadata": {},
     "output_type": "display_data"
    }
   ],
   "source": [
    "args = arguments(node_dict = {0:[0,1], 1:[2], 2:[3], 3:[4]})\n",
    "args.data_sample_size=10000\n",
    "args.noise_scale = 0.6\n",
    "args.graph_type='erdos-renyi'\n",
    "args.graph_sem_type='linear-gauss'\n",
    "args.graph_linear_type='linear'\n",
    "args.graph_degree = 3\n",
    "\n",
    "# training hyperparameters\n",
    "args.graph_threshold=0.3  # 0.3 is good 0.2 is error prune\n",
    "args.tau_A=1e-8\n",
    "args.ordered_graph=True\n",
    "args.use_A_connect_loss=False\n",
    "args.use_A_positiver_loss=False\n",
    "\n",
    "args.seed=42\n",
    "args.epochs=5\n",
    "args.batch_size=100 # note: should be divisible by sample size otherwise throw an error\n",
    "args.encoder_hidden=64\n",
    "args.decoder_hidden=64\n",
    "\n",
    "g = SpaceTime.from_spacelike([0,1,3,2,4], simulate=True,\n",
    "                             degree=args.graph_degree, graph_type=args.graph_type, \n",
    "                             w_range=(0.5,2.0), force_positive=False, seed=0)\n",
    "g.show_adj()\n",
    "g.draw_graph()"
   ]
  },
  {
   "cell_type": "code",
   "execution_count": 5,
   "metadata": {},
   "outputs": [],
   "source": [
    "col_plot_dict = {0:(4,3), 1:(4,1), 2:(3,2), 3:(2,0)}\n",
    "mutilate = 3\n",
    "observe = 4\n",
    "latent = 1"
   ]
  },
  {
   "cell_type": "code",
   "execution_count": 6,
   "metadata": {},
   "outputs": [
    {
     "name": "stdout",
     "output_type": "stream",
     "text": [
      "simulating 10000 samples from a linear-gauss sem with linear causal effects\n"
     ]
    }
   ],
   "source": [
    "g.data = Simulator.sem(graph=g.graph, n=args.data_sample_size, x_dims=args.x_dims, \n",
    "                       sem_type=args.graph_sem_type, linear_type=args.graph_linear_type, \n",
    "                       noise_scale=args.noise_scale, seed=args.seed)\n",
    "train_loader, test_loader = g.torch_loader(g.data, args.batch_size)"
   ]
  },
  {
   "cell_type": "code",
   "execution_count": 7,
   "metadata": {},
   "outputs": [],
   "source": [
    "# n_trials = 1\n",
    "\n",
    "# shd_trials = list()\n",
    "# err_trials = list()\n",
    "# kl_trials = list()\n",
    "# nll_trials = list()\n",
    "# elbo_trials = list()\n",
    "# graph_trials = list()\n",
    "\n",
    "# for trial in range(n_trials):\n",
    "#     shd_train, err_train = list(), list()\n",
    "#     kl_train, nll_train, elbo_train = list(), list(), list()\n",
    "#     hA_train = list()\n",
    "#     graph_train = list()\n",
    "\n",
    "#     best_epoch = 0\n",
    "#     best_ELBO, best_ELBO_graph = np.inf, None\n",
    "#     best_KL, best_KL_graph = np.inf, None\n",
    "#     best_NLL, best_NLL_graph = np.inf, None\n",
    "\n",
    "#     # optimizer step on hyparameters\n",
    "#     c_A = args.c_A\n",
    "#     lambda_A = args.lambda_A\n",
    "    \n",
    "#     h_A_old, h_A_new = np.inf, torch.tensor(1.)\n",
    "#     h_tol = args.h_tol\n",
    "#     k_max_iter = int(args.k_max_iter)\n",
    "\n",
    "#     #===================================\n",
    "#     # load modules\n",
    "#     #===================================\n",
    "#     # add adjacency matrix A\n",
    "#     num_nodes = args.data_variable_size\n",
    "#     adj_A = np.zeros((num_nodes, num_nodes))\n",
    "\n",
    "#     encoder = MLPEncoder(args.x_dims, args.encoder_hidden, int(args.z_dims), adj_A).double()\n",
    "#     decoder = MLPDecoder(args.z_dims, args.x_dims, n_hid=args.decoder_hidden).double()\n",
    "\n",
    "#     #===================================\n",
    "#     # set up training parameters\n",
    "#     #===================================\n",
    "#     optimizer = optim.Adam(list(encoder.parameters()) + list(decoder.parameters()),lr=args.lr)\n",
    "#     scheduler = lr_scheduler.StepLR(optimizer, step_size=args.lr_decay, gamma=args.gamma)\n",
    "\n",
    "#     #===================================\n",
    "#     # train model\n",
    "#     #===================================\n",
    "#     t_total = time.time()\n",
    "#     for step_k in range(k_max_iter):\n",
    "#         while c_A < 1e+20:\n",
    "#             for epoch in range(args.epochs):\n",
    "#                 ELBO, KL, NLL, origin_A = train(lambda_A, c_A, optimizer, scheduler, \n",
    "#                                                 encoder, decoder, train_loader, args)\n",
    "#                 graph_clone, graph_full, graph = graph_clipper(origin_A, args.graph_threshold)\n",
    "                \n",
    "#                 if ELBO < best_ELBO:\n",
    "#                     best_epoch = epoch\n",
    "#                     best_ELBO = ELBO\n",
    "#                     best_ELBO_graph = graph\n",
    "#                     best_ELBO_graph_full = graph_full\n",
    "\n",
    "#                 if KL < best_KL:\n",
    "#                     best_KL = KL\n",
    "#                     best_KL_graph = graph\n",
    "\n",
    "#                 if NLL < best_NLL:\n",
    "#                     best_NLL = NLL\n",
    "#                     best_NLL_graph = graph\n",
    "                \n",
    "#                 hA = acyclicity(graph_clone, args)\n",
    "#                 fdr, tpr, fpr, shd, nnz = count_accuracy(g.show_adj(), best_ELBO_graph)\n",
    "#                 err = adjacency_error(g.show_adj(), best_ELBO_graph_full)\n",
    "\n",
    "#                 shd_train.append(shd)\n",
    "#                 err_train.append(err)\n",
    "#                 kl_train.append(best_KL)\n",
    "#                 nll_train.append(best_NLL)\n",
    "#                 elbo_train.append(best_ELBO)\n",
    "#                 hA_train.append(hA)\n",
    "                \n",
    "#             graph_train.append(best_ELBO_graph_full)\n",
    "#             print(\"Optimization Finished!\")\n",
    "#             print(\"Best Epoch: {:04d}\\t\".format(best_epoch),\n",
    "#                   \"ELBO: {:.10f}\".format(best_ELBO),\n",
    "#                   \"KL: {:.10f}\".format(best_KL),\n",
    "#                   \"NLL: {:.10f}\".format(best_NLL))\n",
    "            \n",
    "#             if ELBO > 2 * best_ELBO:\n",
    "#                 break\n",
    "\n",
    "#             # update parameters\n",
    "#             h_A_new = acyclicity(graph_clone, args)\n",
    "#             if h_A_new.item() > 0.25 * h_A_old:\n",
    "#                 c_A*=10\n",
    "#             else:\n",
    "#                 break\n",
    "\n",
    "#         h_A_old = h_A_new.item()\n",
    "#         lambda_A += c_A * h_A_new.item()\n",
    "\n",
    "#         if h_A_new.item() <= h_tol:\n",
    "#             break\n",
    "\n",
    "#     print(\"\\nTrial %s finished in %s seconds\"%(trial, time.time() - t_total))\n",
    "#     print('Best ELBO Stats: shd %s err %s\\n'%(shd, err))\n",
    "# #     print(best_ELBO_graph)\n",
    "\n",
    "# #     print('Ground truth graph')\n",
    "# #     print(g.show_adj(around=3))\n",
    "    \n",
    "#     shd_trials.append(shd_train)\n",
    "#     err_trials.append(err_train)\n",
    "#     kl_trials.append(kl_train)\n",
    "#     nll_trials.append(nll_train)\n",
    "#     elbo_trials.append(elbo_train)\n",
    "#     graph_trials.append(best_ELBO_graph)\n",
    "# pass;"
   ]
  },
  {
   "cell_type": "code",
   "execution_count": 8,
   "metadata": {},
   "outputs": [],
   "source": [
    "# fig, axs = plt.subplots(1, 5, figsize = (15,3))\n",
    "\n",
    "# for trial in range(n_trials):\n",
    "#     axs[0].plot(range(len(err_trials[trial])), err_trials[trial])\n",
    "#     axs[1].plot(range(len(shd_trials[trial])), shd_trials[trial])\n",
    "#     axs[2].plot(range(len(kl_trials[trial])), np.log10(kl_trials[trial]))\n",
    "#     axs[3].plot(range(len(nll_trials[trial])), np.log10(nll_trials[trial]))\n",
    "#     axs[4].plot(range(len(elbo_trials[trial])), np.log10(elbo_trials[trial]))\n",
    "# pass;"
   ]
  },
  {
   "cell_type": "markdown",
   "metadata": {},
   "source": [
    "# Attn Modules"
   ]
  },
  {
   "cell_type": "code",
   "execution_count": 9,
   "metadata": {},
   "outputs": [],
   "source": [
    "import copy, math\n",
    "import seaborn as sns\n",
    "\n",
    "from torch import nn\n",
    "import torch.nn.functional as F\n",
    "from torch.autograd import Variable\n",
    "\n",
    "def draw(data, x, y, ax):\n",
    "    sns.heatmap(data, xticklabels=x, square=True, yticklabels=y, \n",
    "                vmin=0.0, vmax=1.0, cbar=False, ax=ax)\n",
    "    \n",
    "def node_hot(x, pad=(0,0)):\n",
    "    expanded = torch.eye(x.shape[1])*x.unsqueeze(1)\n",
    "    return F.pad(expanded, pad=(*pad, 0, 0), mode='constant', value=0)"
   ]
  },
  {
   "cell_type": "code",
   "execution_count": 10,
   "metadata": {},
   "outputs": [],
   "source": [
    "class LayerNorm(nn.Module):\n",
    "    \"Construct a layernorm module (See citation for details).\"\n",
    "    def __init__(self, features, eps=1e-6):\n",
    "        super(LayerNorm, self).__init__()\n",
    "        self.a_2 = nn.Parameter(torch.ones(features))\n",
    "        self.b_2 = nn.Parameter(torch.zeros(features))\n",
    "        self.eps = eps\n",
    "\n",
    "    def forward(self, x):\n",
    "        mean = x.mean(-1, keepdim=True)\n",
    "        std = x.std(-1, keepdim=True)\n",
    "        return self.a_2 * (x - mean) / (std + self.eps) + self.b_2\n",
    "\n",
    "class SublayerConnection(nn.Module):\n",
    "    \"\"\"\n",
    "    A residual connection followed by a layer norm.\n",
    "    Note for code simplicity the norm is first as opposed to last.\n",
    "    \"\"\"\n",
    "    def __init__(self, size, dropout):\n",
    "        super(SublayerConnection, self).__init__()\n",
    "        self.norm = LayerNorm(size)\n",
    "        self.dropout = nn.Dropout(dropout)\n",
    "    \n",
    "    def forward(self, x, sublayer):\n",
    "        \"Apply residual connection to any sublayer with the same size.\"\n",
    "        return x + self.dropout(sublayer(self.norm(x)))\n",
    "    \n",
    "class PositionalEncoding(nn.Module):\n",
    "    \"Implement the PE function.\"\n",
    "    def __init__(self, d_embed, dropout, max_len=5000):\n",
    "        super(PositionalEncoding, self).__init__()\n",
    "        self.dropout = nn.Dropout(p=dropout)\n",
    "        \n",
    "        # Compute the positional encodings once in log space.\n",
    "        pe = torch.zeros(max_len, d_embed)\n",
    "        position = torch.arange(0, max_len).unsqueeze(1)\n",
    "        div_term = torch.exp(torch.arange(0, d_embed, 2) *\n",
    "                             -(math.log(10000.0) / d_embed))\n",
    "        pe[:, 0::2] = torch.sin(position * div_term)\n",
    "        pe[:, 1::2] = torch.cos(position * div_term)\n",
    "        pe = pe.unsqueeze(0)\n",
    "        self.register_buffer('pe', pe)\n",
    "        \n",
    "    def forward(self, x):\n",
    "        x = x + Variable(self.pe[:, :x.size(1)], \n",
    "                         requires_grad=False)\n",
    "        return self.dropout(x)"
   ]
  },
  {
   "cell_type": "code",
   "execution_count": 11,
   "metadata": {},
   "outputs": [],
   "source": [
    "class LinearBlock(nn.Module):\n",
    "    \"Implements FFN equation.\"\n",
    "    def __init__(self, d_in, d_hidden, d_out, dropout=0.1):\n",
    "        super(LinearBlock, self).__init__()\n",
    "        self.w_1 = nn.Linear(d_in, d_hidden)\n",
    "        self.w_2 = nn.Linear(d_hidden, d_out)\n",
    "        self.dropout = nn.Dropout(dropout)\n",
    "        self.init_weights()\n",
    "        \n",
    "    def init_weights(self):\n",
    "        for m in self.modules():\n",
    "            if isinstance(m, nn.Linear):\n",
    "                nn.init.xavier_normal_(m.weight.data)\n",
    "                m.bias.data.fill_(0.0)\n",
    "\n",
    "    def forward(self, x):\n",
    "        return self.w_2(self.dropout(F.relu(self.w_1(x))))\n",
    "    \n",
    "class EmbedBlock(nn.Module):\n",
    "    def __init__(self, d_in, d_out):\n",
    "        super(EmbedBlock, self).__init__()\n",
    "        self.proj = nn.Linear(d_in, d_out)\n",
    "        self.init_weights()\n",
    "        \n",
    "    def init_weights(self):\n",
    "        for m in self.modules():\n",
    "            if isinstance(m, nn.Linear):\n",
    "                nn.init.xavier_normal_(m.weight.data)\n",
    "                m.bias.data.fill_(0.0)\n",
    "\n",
    "    def forward(self, x):\n",
    "        return self.proj(x)"
   ]
  },
  {
   "cell_type": "code",
   "execution_count": 12,
   "metadata": {},
   "outputs": [],
   "source": [
    "class EncoderLayer(nn.Module):\n",
    "    \"Encoder is made up of self-attn and feed forward (defined below)\"\n",
    "    def __init__(self, d_embed, self_attn, feed_forward, dropout):\n",
    "        super(EncoderLayer, self).__init__()\n",
    "        self.self_attn = self_attn\n",
    "        self.feed_forward = feed_forward\n",
    "        self.sublayer = clones(SublayerConnection(d_embed, dropout), 2)\n",
    "        self.d_embed = d_embed\n",
    "\n",
    "    def forward(self, x):\n",
    "        \"Follow Figure 1 (left) for connections.\"\n",
    "        x = self.sublayer[0](x, lambda x: self.self_attn(x, x, x))\n",
    "        return self.sublayer[1](x, self.feed_forward)\n",
    "\n",
    "# class DecoderLayer(nn.Module):\n",
    "#     \"Decoder is made of self-attn, src-attn, and feed forward (defined below)\"\n",
    "#     def __init__(self, d_embed, self_attn, src_attn, feed_forward, dropout):\n",
    "#         super(DecoderLayer, self).__init__()\n",
    "#         self.d_embed = d_embed\n",
    "#         self.self_attn = self_attn\n",
    "#         self.src_attn = src_attn\n",
    "#         self.feed_forward = feed_forward\n",
    "#         self.sublayer = SublayerConnection(d_embed, dropout)\n",
    "#         self.norm = LayerNorm(d_embed)\n",
    " \n",
    "#     def forward(self, x, memory):\n",
    "#         \"Follow Figure 1 (right) for connections.\"\n",
    "#         m = memory\n",
    "#         x = self.norm(self.self_attn(x, x, x))\n",
    "#         x = self.norm(self.src_attn(x, m, m))\n",
    "#         return self.sublayer(x, self.feed_forward)\n",
    "    \n",
    "class DecoderLayer(nn.Module):\n",
    "    \"Decoder is made of self-attn, src-attn, and feed forward (defined below)\"\n",
    "    def __init__(self, d_embed, self_attn, src_attn, feed_forward, dropout):\n",
    "        super(DecoderLayer, self).__init__()\n",
    "        self.d_embed = d_embed\n",
    "        self.self_attn = self_attn\n",
    "        self.src_attn = src_attn\n",
    "        self.feed_forward = feed_forward\n",
    "        self.sublayer = clones(SublayerConnection(d_embed, dropout), 3)\n",
    " \n",
    "    def forward(self, x, memory):\n",
    "        \"Follow Figure 1 (right) for connections.\"\n",
    "        m = memory\n",
    "        x = self.sublayer[0](x, lambda x: self.self_attn(x, x, x))\n",
    "        x = self.sublayer[1](x, lambda x: self.src_attn(x, m, m))\n",
    "        return self.sublayer[2](x, self.feed_forward)"
   ]
  },
  {
   "cell_type": "code",
   "execution_count": 13,
   "metadata": {},
   "outputs": [],
   "source": [
    "def clones(module, N):\n",
    "    \"Produce N identical layers.\"\n",
    "    return nn.ModuleList([copy.deepcopy(module) for _ in range(N)])\n",
    "\n",
    "def clone_encoder(mask, N, **kwargs):\n",
    "    d_embed, d_hidden = kwargs['d_embed'], kwargs['d_hidden']\n",
    "    self_attns = [CausalAttention(n_heads, d_embed, mask=mask) for _ in range(N)]\n",
    "    feed_forwards = [LinearBlock(d_embed, d_hidden, d_embed, dropout=0.1) for _ in range(N)]\n",
    "    modules = [EncoderLayer(d_embed, self_attn, feed_forward, dropout) \n",
    "               for self_attn, feed_forward in zip(self_attns, feed_forwards)]\n",
    "\n",
    "    return nn.ModuleList(modules)\n",
    "\n",
    "def clone_decoder(mask, N, **kwargs):\n",
    "    d_embed, d_hidden = kwargs['d_embed'], kwargs['d_hidden']\n",
    "    self_attns = [CausalAttention(n_heads, d_embed, mask=mask, mask_self=True) for _ in range(N)]\n",
    "    src_attns = [CausalAttention(n_heads, d_embed, mask=mask, mask_self=True) for _ in range(N)]\n",
    "    feed_forwards = [LinearBlock(d_embed, d_hidden, d_embed, dropout=0.1) for _ in range(N)]\n",
    "    \n",
    "    modules = [DecoderLayer(d_embed, self_attn, src_attn, feed_forward, dropout) \n",
    "               for self_attn, src_attn, feed_forward in zip(self_attns, src_attns, feed_forwards)]\n",
    "    return nn.ModuleList(modules)\n",
    "\n",
    "class Encoder(nn.Module):\n",
    "    \"Core encoder is a stack of N layers\"\n",
    "    def __init__(self, mask, n_nodes, d_embed, d_hidden, n_layers, n_heads, dropout):\n",
    "        super(Encoder, self).__init__()\n",
    "        self.mask = mask\n",
    "        self.layers = clone_encoder(self.mask, n_layers, d_embed=d_embed, d_hidden=d_hidden, dropout=dropout)\n",
    "        self.norm = LayerNorm(self.layers[0].d_embed)\n",
    "        \n",
    "    def forward(self, x):\n",
    "        \"Pass the input through each layer in turn.\"\n",
    "        for layer in self.layers:\n",
    "            x = layer(x)\n",
    "        return self.norm(x)\n",
    "    \n",
    "class Decoder(nn.Module):\n",
    "    \"Generic N layer decoder with masking.\"\n",
    "    def __init__(self, mask, n_nodes, d_embed, d_hidden, n_layers, n_heads, dropout):\n",
    "        super(Decoder, self).__init__()\n",
    "        self.mask = mask\n",
    "        self.layers = clone_decoder(self.mask, n_layers, d_embed=d_embed, d_hidden=d_hidden, dropout=dropout)\n",
    "        self.norm = LayerNorm(self.layers[0].d_embed)\n",
    "        \n",
    "    def forward(self, x, memory):\n",
    "        for layer in self.layers:\n",
    "            x = layer(x, memory)\n",
    "        return self.norm(x)"
   ]
  },
  {
   "cell_type": "code",
   "execution_count": 14,
   "metadata": {},
   "outputs": [
    {
     "data": {
      "text/plain": [
       "tensor([[0., 0., 1., 0., 0.],\n",
       "        [0., 0., 0., 1., 1.],\n",
       "        [0., 0., 0., 1., 0.],\n",
       "        [0., 0., 0., 0., 1.],\n",
       "        [0., 0., 0., 0., 0.]])"
      ]
     },
     "execution_count": 14,
     "metadata": {},
     "output_type": "execute_result"
    }
   ],
   "source": [
    "testt = torch.Tensor(g.show_adj())\n",
    "testt[testt!=0]=1.0\n",
    "testt"
   ]
  },
  {
   "cell_type": "code",
   "execution_count": 15,
   "metadata": {},
   "outputs": [],
   "source": [
    "class EncoderDecoder(nn.Module):\n",
    "    \"\"\"\n",
    "    A standard Encoder-Decoder architecture. Base for this and many other models.\n",
    "    \"\"\"\n",
    "    def __init__(self, n_nodes, d_embed, d_hidden, n_layers, n_heads, dropout):\n",
    "        super(EncoderDecoder, self).__init__()\n",
    "        self.e_mask = torch.eye(n_nodes).unsqueeze(0)\n",
    "#         self.e_mask = torch.tril(torch.ones((1, n_nodes, n_nodes)), diagonal=-1)\n",
    "#         self.d_mask = nn.Parameter(torch.tril(torch.ones((1, n_nodes, n_nodes)), diagonal=-1), requires_grad=True)\n",
    "#         self.d_mask = nn.Parameter(torch.ones((1, n_nodes, n_nodes)), requires_grad=True)\n",
    "#         self.d_mask = nn.Parameter(torch.ones((1, n_nodes, n_nodes)), requires_grad=True)\n",
    "        self.d_mask = testt.transpose(0,1)\n",
    "        self.encoder = Encoder(self.e_mask, n_nodes, d_embed, d_hidden, n_layers, n_heads, dropout)\n",
    "        self.decoder = Decoder(self.d_mask, n_nodes, d_embed, d_hidden, n_layers, n_heads, dropout)\n",
    "#         self.embedder = EmbedBlock(n_nodes, d_embed)\n",
    "        self.embedder = nn.Sequential(EmbedBlock(n_nodes, d_embed), PositionalEncoding(d_embed, dropout))\n",
    "        self.generator = EmbedBlock(d_embed, n_nodes)\n",
    "        self._init_weights()\n",
    "        \n",
    "    def _init_weights(self):\n",
    "        # This was important from their code. \n",
    "        # Initialize parameters with Glorot / fan_avg.\n",
    "        for p in self.parameters():\n",
    "            if p.dim() > 1:\n",
    "                nn.init.xavier_uniform_(p)\n",
    "    \n",
    "    def encode(self, src):\n",
    "        src = self.embedder(src)\n",
    "        src = self.encoder(src)\n",
    "        return src\n",
    "    \n",
    "    def decode(self, tgt, memory):\n",
    "        tgt = self.embedder(tgt)\n",
    "        tgt = self.decoder(tgt, memory)\n",
    "        return tgt\n",
    "    \n",
    "    def forward(self, src, tgt):\n",
    "        \"Take in and process masked src and target sequences.\"\n",
    "        memory = self.encode(src)\n",
    "        tgt = self.decode(tgt, memory)\n",
    "        tgt = self.generator(tgt)\n",
    "        \n",
    "        return tgt, memory, F.softmax(-torch.exp(-(1e-10+torch.abs(self.d_mask)).log()), dim=-1)"
   ]
  },
  {
   "cell_type": "code",
   "execution_count": 16,
   "metadata": {},
   "outputs": [],
   "source": [
    "class CausalAttention(nn.Module):\n",
    "    def __init__(self, n_heads, d_embed, mask, mask_self=True, dropout=0.1):\n",
    "        \"Take in model size and number of n_headseads.\"\n",
    "        super(CausalAttention, self).__init__()\n",
    "        assert d_embed % n_heads == 0\n",
    "        # We assume d_v always equals d_k\n",
    "        self.d_k = d_embed // n_heads\n",
    "        self.h = n_heads\n",
    "        self.linears = clones(nn.Linear(d_embed, d_embed), 4)\n",
    "        self.attn = None\n",
    "        self.dropout = nn.Dropout(p=dropout)\n",
    "        self.eps = 1e-10\n",
    "        self.mask = mask\n",
    "        \n",
    "        if mask_self:\n",
    "            self.mask_add = torch.zeros((mask.shape[-1], mask.shape[-1])).unsqueeze(0)\n",
    "        else:\n",
    "            self.mask_add = torch.eye(mask.shape[-1]).unsqueeze(0)\n",
    "            \n",
    "    def add_mask(self):\n",
    "        return (self.eps+self.mask_add+torch.abs(self.mask)).unsqueeze(1)\n",
    "            \n",
    "    def get_mask(self):\n",
    "        return -torch.exp(-self.add_mask().log())\n",
    "    \n",
    "    def attention(self, query, key, value, dropout=None):\n",
    "        \"Compute 'Scaled Dot Product Attention'\"\n",
    "        d_k = query.size(-1)\n",
    "        scores = torch.matmul(query, key.transpose(-2,-1))/math.sqrt(d_k)\n",
    "#         scores += torch.abs(((self.mask_add+self.mask).unsqueeze(1)+self.eps)).log()\n",
    "#         scores += self.penalty()\n",
    "#         p_attn = F.softmax(scores, dim = -1)\n",
    "        p_attn = F.softmax(scores+self.get_mask(), dim = -1)\n",
    "    \n",
    "        if dropout is not None:\n",
    "            p_attn = dropout(p_attn)\n",
    "        return torch.matmul(p_attn, value), p_attn\n",
    "        \n",
    "    def forward(self, query, key, value):\n",
    "        \"Implements Figure 2\"\n",
    "        nbatches = query.size(0)\n",
    "        # batchwise linear projections from d_embed => n_heads x d_k \n",
    "        query, key, value = [l(x).view(nbatches, -1, self.h, self.d_k).transpose(1,2)\n",
    "                             for l, x in zip(self.linears, (query, key, value))]\n",
    "        x, self.attn = self.attention(query, key, value, dropout=self.dropout)\n",
    "        \n",
    "        # view contatentation and apply final linear layer \n",
    "        x = x.transpose(1, 2).contiguous().view(nbatches, -1, self.h*self.d_k)\n",
    "        return self.linears[-1](x)"
   ]
  },
  {
   "cell_type": "markdown",
   "metadata": {},
   "source": [
    "# Graph Attn"
   ]
  },
  {
   "cell_type": "code",
   "execution_count": 17,
   "metadata": {},
   "outputs": [],
   "source": [
    "class VecBatch:\n",
    "    \"Object for holding a batch of data with mask during training.\"\n",
    "    def __init__(self, src, tgt=None, pad=0):\n",
    "        self.src = node_hot(src)\n",
    "        if tgt is not None:\n",
    "            self.tgt = node_hot(tgt[:, :], pad=(0,0))\n",
    "            self.tgt_y = node_hot(tgt[:, :], pad=(0,0))\n",
    "            self.ntokens = (self.tgt_y != pad).data.sum()\n",
    "            \n",
    "def data_graph_gen(spacetime, batch, nbatches):\n",
    "    for i in range(nbatches):\n",
    "        data = torch.squeeze(torch.from_numpy(g.data[i*batch:(i+1)*batch]))\n",
    "        src = Variable(data, requires_grad=False).float()\n",
    "        tgt = Variable(data, requires_grad=False).float()\n",
    "        yield VecBatch(src, tgt, 0)"
   ]
  },
  {
   "cell_type": "code",
   "execution_count": 18,
   "metadata": {},
   "outputs": [],
   "source": [
    "from spacetime.training_att import LagrangeLoss, ActionOpt\n",
    "from spacetime.training_att import h_A, h_A_timed\n",
    "from spacetime.utils_att import Parameters\n",
    "# from spacetime.training_att import train, truth_evaluation"
   ]
  },
  {
   "cell_type": "code",
   "execution_count": 19,
   "metadata": {},
   "outputs": [],
   "source": [
    "def train(model, train_loader, loss):\n",
    "    t = time.time()\n",
    "    model.train()    \n",
    "\n",
    "    for i, batch in enumerate(train_loader):\n",
    "        preds, z_train, origin_A = model(batch.src.float(), batch.tgt.float())\n",
    "        if torch.sum(preds != preds):\n",
    "            raise ValueError('nan error\\n')\n",
    "        if torch.sum(origin_A != origin_A):\n",
    "            raise ValueError('nan error\\n')\n",
    "\n",
    "        loss(origin_A.squeeze(), preds, batch.src.float(), z_train)\n",
    "    loss.end_epoch()"
   ]
  },
  {
   "cell_type": "code",
   "execution_count": 20,
   "metadata": {},
   "outputs": [],
   "source": [
    "# Train the simple copy task.\n",
    "n_nodes=5\n",
    "d_embed = 10\n",
    "d_hidden=8*d_embed\n",
    "\n",
    "n_layers=2\n",
    "n_heads = 2\n",
    "dropout=0.1\n",
    "\n",
    "trn_params = Parameters(batch_size=100, epochs=5)\n",
    "opt_params = Parameters(constraint=lambda x: h_A(x, n_nodes),\n",
    "                        lr=0.005, l=1e-2, c=1e-3, h=np.inf, tau=1e-10, \n",
    "                        max_iters=50, h_tol=0.001)"
   ]
  },
  {
   "cell_type": "code",
   "execution_count": 21,
   "metadata": {},
   "outputs": [
    {
     "name": "stdout",
     "output_type": "stream",
     "text": [
      "Iteration: 0, Best Epoch: 4/5\n",
      "   ELBO: 12.1124894, KL: 10^0.984, NLL: 10^0.392 || h: 10^inf, c: 10^-3.000, l: 0.0100000, lr: 0.0014935\n",
      "Iteration: 1, Best Epoch: 4/5\n",
      "   ELBO: 1.2920252, KL: 10^-0.766, NLL: 10^0.050 || h: 10^-0.870, c: 10^-3.000, l: 0.0101349, lr: 0.0029920\n",
      "Iteration: 2, Best Epoch: 4/5\n",
      "   ELBO: 0.7292062, KL: 10^-1.066, NLL: 10^-0.192 || h: 10^-0.870, c: 10^-2.301, l: 0.0101349, lr: 0.0044905\n",
      "Iteration: 3, Best Epoch: 4/5\n",
      "   ELBO: 0.4583035, KL: 10^-1.337, NLL: 10^-0.385 || h: 10^-0.870, c: 10^-1.602, l: 0.0101349, lr: 0.0049900\n",
      "Iteration: 4, Best Epoch: 4/5\n",
      "   ELBO: 0.3475474, KL: 10^-1.523, NLL: 10^-0.498 || h: 10^-0.870, c: 10^-0.903, l: 0.0101349, lr: 0.0050000\n",
      "Iteration: 5, Best Epoch: 4/5\n",
      "   ELBO: 0.2953622, KL: 10^-1.613, NLL: 10^-0.567 || h: 10^-0.870, c: 10^-0.204, l: 0.0101349, lr: 0.0029430\n",
      "Iteration: 6, Best Epoch: 4/5\n",
      "   ELBO: 0.2770754, KL: 10^-1.665, NLL: 10^-0.593 || h: 10^-0.870, c: 10^0.495, l: 0.0101349, lr: 0.0020851\n",
      "Iteration: 7, Best Epoch: 2/5\n",
      "   ELBO: 0.2489413, KL: 10^-1.716, NLL: 10^-0.643 || h: 10^-0.870, c: 10^1.194, l: 0.0101349, lr: 0.0016145\n",
      "Iteration: 8, Best Epoch: 2/5\n",
      "   ELBO: 0.2324355, KL: 10^-1.735, NLL: 10^-0.670 || h: 10^-0.870, c: 10^1.893, l: 0.0101349, lr: 0.0013172\n",
      "Iteration: 9, Best Epoch: 4/5\n",
      "   ELBO: 0.2250562, KL: 10^-1.753, NLL: 10^-0.683 || h: 10^-0.870, c: 10^2.592, l: 0.0101349, lr: 0.0011124\n",
      "Iteration: 10, Best Epoch: 0/5\n",
      "   ELBO: 0.2172293, KL: 10^-1.791, NLL: 10^-0.700 || h: 10^-0.870, c: 10^3.291, l: 0.0101349, lr: 0.0009627\n",
      "\n",
      "Trial 0 finished in 59.37730813026428 seconds\n"
     ]
    }
   ],
   "source": [
    "n_trials = 1\n",
    "shd_trials, err_trials = list(), list()\n",
    "graph_trials = list()\n",
    "\n",
    "loss_log = {k:[] for k in ('elbo', 'kld', 'nll')}\n",
    "param_log = {k:[] for k in ('lr', 'l', 'c', 'h')}\n",
    "\n",
    "for trial in range(n_trials):\n",
    "    shd_train, err_train = list(), list()\n",
    "    graph_train = list()\n",
    "    #===================================\n",
    "    # load modules\n",
    "    #===================================\n",
    "\n",
    "    autoencoder = EncoderDecoder(n_nodes, d_embed, d_hidden, n_layers, n_heads, dropout)\n",
    "    optimizerL = ActionOpt(autoencoder, opt_params, h_factor=0.25*(2), c_factor=10.0/(2), warmups=1000)\n",
    "    lossL = LagrangeLoss(opt=optimizerL)\n",
    "    \n",
    "    #===================================\n",
    "    # train model\n",
    "    #===================================\n",
    "    \n",
    "    t_total = time.time()\n",
    "    while optimizerL._iter < optimizerL.max_iter:\n",
    "        for epoch in range(trn_params.epochs):\n",
    "            train(autoencoder, data_graph_gen(g, 30, 60), lossL)\n",
    "#             shd, err = truth_evaluation(g.adj, optimizerL, mod_params.graph_threshold)\n",
    "#             shd_train.append(shd)\n",
    "#             err_train.append(err)\n",
    "#             graph_train.append(optimizerL.adj.data.clone())\n",
    "        \n",
    "        print(\"Iteration: %s, Best Epoch: %s/%s\"%(optimizerL._iter, optimizerL.best_epoch, trn_params.epochs))\n",
    "        print(\"   ELBO: {:.7f}, KL: 10^{:.3f}, NLL: 10^{:.3f} || h: 10^{:.3f}, c: 10^{:.3f}, l: {:.7f}, lr: {:.7f}\".format(\n",
    "            optimizerL.min_elbo, np.log10(optimizerL.min_kld), np.log10(optimizerL.min_nll),\n",
    "            np.log10(optimizerL.h), np.log10(optimizerL.c), optimizerL.l, optimizerL.log['lr'][-1])\n",
    "        )\n",
    "\n",
    "        # update parameters\n",
    "        optimizerL.iterate()\n",
    "        if optimizerL.h <= optimizerL.h_tol or optimizerL._iter > 10:\n",
    "            break\n",
    "\n",
    "    print(\"\\nTrial %s finished in %s seconds\"%(trial, time.time() - t_total))\n",
    "#     print('Best ELBO Stats: shd %s err %s\\n'%(shd, err))\n",
    "\n",
    "#     shd_trials.append(shd_train)\n",
    "#     err_trials.append(err_train)\n",
    "#     graph_trials.append(optimizerL.show_adj(mod_params.graph_threshold))\n",
    "    \n",
    "    for k,v in loss_log.items():\n",
    "        v += [optimizerL.log[k]]\n",
    "        \n",
    "    for k,v in param_log.items():\n",
    "        v += [optimizerL.log[k]]\n",
    "pass;"
   ]
  },
  {
   "cell_type": "code",
   "execution_count": 22,
   "metadata": {},
   "outputs": [
    {
     "data": {
      "text/plain": [
       "[<matplotlib.lines.Line2D at 0x7fe40d3670f0>]"
      ]
     },
     "execution_count": 22,
     "metadata": {},
     "output_type": "execute_result"
    },
    {
     "data": {
      "text/plain": [
       "[<matplotlib.lines.Line2D at 0x7fe40c2669e8>]"
      ]
     },
     "execution_count": 22,
     "metadata": {},
     "output_type": "execute_result"
    },
    {
     "data": {
      "image/png": "[encoded data removed]",
      "text/plain": [
       "<Figure size 720x216 with 2 Axes>"
      ]
     },
     "metadata": {
      "needs_background": "light"
     },
     "output_type": "display_data"
    }
   ],
   "source": [
    "fig, axs = plt.subplots(1,2, figsize=(10, 3))\n",
    "axs[0].plot(range(len(optimizerL.log['c'])), np.log10(optimizerL.log['c']))\n",
    "axs[1].plot(range(len(optimizerL.log['lr'])), optimizerL.log['lr'])"
   ]
  },
  {
   "cell_type": "code",
   "execution_count": 23,
   "metadata": {},
   "outputs": [],
   "source": [
    "def threshold(adj, threshold):\n",
    "    return nn.Threshold(threshold, 0.0)(adj)-nn.Threshold(threshold, 0.0)(-adj)\n",
    "\n",
    "def time_scores(adj):\n",
    "    n_nodes = adj.shape[0]\n",
    "    I = torch.eye(n_nodes).double()\n",
    "    expA = torch.matrix_power(I+(1/n_nodes)*torch.tanh(adj)**2, n_nodes)\n",
    "    scores = torch.div(1.0, torch.sum(expA, dim=1))-torch.div(1.0, torch.sum(expA, dim=0))\n",
    "    return scores\n",
    "\n",
    "testdata = iter(data_graph_gen(g, 30, 60))"
   ]
  },
  {
   "cell_type": "code",
   "execution_count": 24,
   "metadata": {},
   "outputs": [],
   "source": [
    "batch = next(testdata)\n",
    "preds, z_train, origin_A = autoencoder(batch.src.float(), batch.tgt.float())"
   ]
  },
  {
   "cell_type": "code",
   "execution_count": 25,
   "metadata": {},
   "outputs": [
    {
     "data": {
      "text/plain": [
       "tensor([[[-0.4302,  0.0000,  0.0000,  0.0000,  0.0000],\n",
       "         [ 0.0000,  0.1835,  0.0000,  0.0000,  0.0000],\n",
       "         [ 0.0000,  0.0000,  0.5552,  0.0000,  0.1553],\n",
       "         [ 0.2012, -0.2138,  0.0000, -1.9856,  0.0000],\n",
       "         [ 0.0000,  0.0000,  0.0000,  0.0000, -3.0806]]],\n",
       "       grad_fn=<SubBackward0>)"
      ]
     },
     "execution_count": 25,
     "metadata": {},
     "output_type": "execute_result"
    },
    {
     "data": {
      "text/plain": [
       "tensor([[[-0.4071,  0.0000,  0.0000,  0.0000,  0.0000],\n",
       "         [ 0.0000,  0.2980,  0.0000,  0.0000,  0.0000],\n",
       "         [ 0.0000,  0.0000,  0.5741,  0.0000,  0.0000],\n",
       "         [ 0.0000,  0.0000,  0.0000, -2.2069,  0.0000],\n",
       "         [ 0.0000,  0.0000,  0.0000,  0.0000, -3.2560]]])"
      ]
     },
     "execution_count": 25,
     "metadata": {},
     "output_type": "execute_result"
    }
   ],
   "source": [
    "threshold(preds[:1],0.1)\n",
    "threshold(batch.src.float()[:1], 0.)"
   ]
  },
  {
   "cell_type": "code",
   "execution_count": 26,
   "metadata": {},
   "outputs": [
    {
     "ename": "NameError",
     "evalue": "name 'blah' is not defined",
     "output_type": "error",
     "traceback": [
      "\u001b[0;31m---------------------------------------------------------------------------\u001b[0m",
      "\u001b[0;31mNameError\u001b[0m                                 Traceback (most recent call last)",
      "\u001b[0;32m<ipython-input-26-4cbd040533a2>\u001b[0m in \u001b[0;36m<module>\u001b[0;34m\u001b[0m\n\u001b[0;32m----> 1\u001b[0;31m \u001b[0mblah\u001b[0m\u001b[0;34m\u001b[0m\u001b[0;34m\u001b[0m\u001b[0m\n\u001b[0m",
      "\u001b[0;31mNameError\u001b[0m: name 'blah' is not defined"
     ]
    }
   ],
   "source": [
    "blah"
   ]
  },
  {
   "cell_type": "code",
   "execution_count": null,
   "metadata": {},
   "outputs": [],
   "source": [
    "mask_norm = F.softmax(-torch.exp(-(torch.abs(autoencoder.d_mask)+1e-10).log()), dim = -1)\n",
    "\n",
    "autoencoder.d_mask\n",
    "autoencoder.e_mask\n",
    "threshold(mask_norm, 0.1)\n",
    "\n",
    "optimizerL.constraint(mask_norm.squeeze())"
   ]
  },
  {
   "cell_type": "code",
   "execution_count": null,
   "metadata": {},
   "outputs": [],
   "source": []
  },
  {
   "cell_type": "code",
   "execution_count": null,
   "metadata": {},
   "outputs": [],
   "source": [
    "testt2 = torch.Tensor([[ 2.6456e-06, -9.5818e-08, -8.6945e-01,  2.0426e-02,  5.9849e-03],\n",
    "        [-1.0854e-07,  2.3277e-06,  2.6204e-02, -5.4377e-01, -1.4878e+00],\n",
    "        [-1.7013e-05,  2.5015e-09,  2.7552e-06, -1.5096e+00,  3.8229e-02],\n",
    "        [ 2.6729e-05, -1.0530e-05, -2.9288e-05,  2.4118e-06,  1.2162e+00],\n",
    "        [ 3.2156e-05, -4.2439e-05, -3.4324e-05,  2.3741e-05,  2.5642e-06]])"
   ]
  },
  {
   "cell_type": "code",
   "execution_count": null,
   "metadata": {},
   "outputs": [],
   "source": [
    "-torch.exp(-(torch.abs(testt2+1e-10).log()))\n",
    "F.softmax(-torch.exp(-(torch.abs(testt2)+1e-10).log()), dim = -1)"
   ]
  },
  {
   "cell_type": "code",
   "execution_count": null,
   "metadata": {},
   "outputs": [],
   "source": [
    "torch.exp(-torch.exp(-(torch.abs(testt2)+1e-10).log()))"
   ]
  },
  {
   "cell_type": "code",
   "execution_count": null,
   "metadata": {},
   "outputs": [],
   "source": [
    "-torch.exp(-(torch.abs(testt2)+1e-10).log())"
   ]
  },
  {
   "cell_type": "code",
   "execution_count": null,
   "metadata": {},
   "outputs": [],
   "source": [
    "-1/(torch.abs(testt2)+1e-10)"
   ]
  },
  {
   "cell_type": "code",
   "execution_count": null,
   "metadata": {},
   "outputs": [],
   "source": [
    "torch.abs(testt2)"
   ]
  },
  {
   "cell_type": "code",
   "execution_count": null,
   "metadata": {},
   "outputs": [],
   "source": [
    "threshold(testt2, 0.1)\n",
    "threshold(-torch.exp(-(torch.abs(testt2)+1e-10).log()), 0.1)\n",
    "threshold(F.softmax(-torch.exp(-(torch.abs(testt2)+1e-10).log()), dim = -1), 0.1)\n",
    "threshold(torch.exp(-torch.exp(-(torch.abs(testt2)+1e-10).log())), 0.1)"
   ]
  },
  {
   "cell_type": "code",
   "execution_count": null,
   "metadata": {},
   "outputs": [],
   "source": [
    "# -torch.exp(-(torch.eye(autoencoder.d_mask.shape[1])+1e-10).log())\n",
    "# -torch.exp(-5*(torch.abs(autoencoder.d_mask)+1e-4).log())"
   ]
  },
  {
   "cell_type": "code",
   "execution_count": null,
   "metadata": {
    "scrolled": true
   },
   "outputs": [],
   "source": [
    "fig, axs = plt.subplots(1,2, figsize=(10, 5))\n",
    "draw(torch.abs(autoencoder.d_mask.detach().squeeze()), list(range(5)), list(range(5)) if n_heads ==0 else [], ax=axs[0])\n",
    "draw(torch.abs(mask_norm.detach().squeeze()), list(range(5)), list(range(5)) if n_heads ==0 else [], ax=axs[1])\n",
    "plt.show()"
   ]
  },
  {
   "cell_type": "code",
   "execution_count": null,
   "metadata": {},
   "outputs": [],
   "source": [
    "g.draw_graph()"
   ]
  },
  {
   "cell_type": "code",
   "execution_count": null,
   "metadata": {},
   "outputs": [],
   "source": [
    "time_scores(mask_norm.squeeze().transpose(0,1))\n",
    "torch.argsort(time_scores(mask_norm.squeeze().transpose(0,1)))"
   ]
  },
  {
   "cell_type": "code",
   "execution_count": null,
   "metadata": {},
   "outputs": [],
   "source": [
    "# sent = list(range(5))\n",
    "# tgt_sent = list(range(5))\n",
    "\n",
    "# autoencoder.decoder.layers[0].self_attn.attn[0, 1].data\n",
    "\n",
    "# for layer in range(0,2):\n",
    "#     fig, axs = plt.subplots(1,2, figsize=(10, 10))\n",
    "#     print(\"Decoder Self Layer\", layer+1)\n",
    "#     for h in range(2):\n",
    "#         draw(autoencoder.decoder.layers[layer].self_attn.attn[0, h].data[:len(tgt_sent), :len(tgt_sent)], \n",
    "#             tgt_sent[:-1], tgt_sent[:-1] if h ==0 else [], ax=axs[h])\n",
    "#     plt.show()\n",
    "#     print(\"Decoder Src Layer\", layer+1)\n",
    "#     fig, axs = plt.subplots(1,2, figsize=(10, 10))\n",
    "#     for h in range(2):\n",
    "#         draw(autoencoder.decoder.layers[layer].src_attn.attn[0, h].data[:len(tgt_sent)+1, :len(sent)+1], \n",
    "#             sent, tgt_sent if h ==0 else [], ax=axs[h])\n",
    "#     plt.show()\n",
    "# pass;"
   ]
  },
  {
   "cell_type": "code",
   "execution_count": null,
   "metadata": {},
   "outputs": [],
   "source": [
    "blah"
   ]
  },
  {
   "cell_type": "code",
   "execution_count": null,
   "metadata": {},
   "outputs": [],
   "source": [
    "class NoamOpt:\n",
    "    \"Optim wrapper that implements rate.\"\n",
    "    def __init__(self, model_size, factor, warmup, optimizer):\n",
    "        self.optimizer = optimizer\n",
    "        self._step = 0\n",
    "        self.warmup = warmup\n",
    "        self.factor = factor\n",
    "        self.model_size = model_size\n",
    "        self._rate = 0\n",
    "        \n",
    "    def step(self):\n",
    "        \"Update parameters and rate\"\n",
    "        self._step += 1\n",
    "        rate = self.rate()\n",
    "        for p in self.optimizer.param_groups:\n",
    "            p['lr'] = rate\n",
    "        self._rate = rate\n",
    "        self.optimizer.step()\n",
    "        \n",
    "    def rate(self, step = None):\n",
    "        \"Implement `lrate` above\"\n",
    "        if step is None:\n",
    "            step = self._step\n",
    "        return self.factor * \\\n",
    "            (self.model_size ** (-0.5) *\n",
    "            min(step ** (-0.5), step * self.warmup ** (-1.5)))\n",
    "\n",
    "class KLSimple(nn.Module):\n",
    "    \"KL Loss\"\n",
    "    def __init__(self, generator, opt=None):\n",
    "        super(KLSimple, self).__init__()\n",
    "        self.generator = generator\n",
    "#         self.criterion = nn.KLDivLoss(reduction='sum')\n",
    "        self.criterion = LagrangeLoss.nll_gauss\n",
    "        self.opt = opt\n",
    "        \n",
    "    def __call__(self, mask, memory, x, y, norm):\n",
    "        loss = 0.1*torch.sum(torch.abs(mask)) + self.criterion(x, y, 0.0)/norm\n",
    "        loss.backward()\n",
    "        if self.opt is not None:\n",
    "            self.opt.step()\n",
    "            self.opt.optimizer.zero_grad()\n",
    "\n",
    "        return loss.data.item()*norm"
   ]
  },
  {
   "cell_type": "code",
   "execution_count": null,
   "metadata": {},
   "outputs": [],
   "source": [
    "def run_graph_epoch(data_iter, model, loss_compute):\n",
    "    \"Standard Training and Logging Function\"\n",
    "    start = time.time()\n",
    "    total_tokens = 0\n",
    "    total_loss = 0\n",
    "    tokens = 0\n",
    "    for i, batch in enumerate(data_iter):\n",
    "        out, memory, mask = model.forward(batch.src.float(), batch.tgt.float())\n",
    "        loss = loss_compute(mask, memory, out, batch.tgt_y.float(), batch.ntokens)\n",
    "#         print(loss.item(), total_tokens)\n",
    "        total_loss += loss\n",
    "        total_tokens += batch.ntokens\n",
    "        tokens += batch.ntokens\n",
    "        if i % 50 == 1:\n",
    "            elapsed = time.time() - start\n",
    "            print(\"Epoch Step: %d Loss: %f Tokens per Sec: %f\" %\n",
    "                    (i, loss / batch.ntokens, tokens / elapsed))\n",
    "            start = time.time()\n",
    "            tokens = 0\n",
    "    return total_loss / total_tokens\n",
    "\n",
    "# Train the simple copy task.\n",
    "n_nodes=5\n",
    "d_embed = 10\n",
    "d_hidden=4*d_embed\n",
    "\n",
    "n_layers= 4\n",
    "n_heads = 2\n",
    "dropout=0.1\n",
    "\n",
    "model = EncoderDecoder(n_nodes, d_embed, d_hidden, n_layers, n_heads, dropout)\n",
    "model_opt = NoamOpt(d_embed, 1, 400, torch.optim.Adam(model.parameters(), lr=0, betas=(0.9, 0.98), eps=1e-9))\n",
    "lossKL = KLSimple(model.generator, model_opt)\n",
    "\n",
    "for epoch in range(5):\n",
    "    model.train()\n",
    "    run_graph_epoch(data_graph_gen(g, 30, 60), model, lossKL)\n",
    "    model.eval()\n",
    "    eval_results = run_graph_epoch(data_graph_gen(g, 30, 5), model, KLSimple(model.generator, None))\n",
    "    print(\"Results: %s\"%eval_results)\n",
    "pass;"
   ]
  },
  {
   "cell_type": "code",
   "execution_count": null,
   "metadata": {},
   "outputs": [],
   "source": [
    "testdata = iter(data_graph_gen(g, 100, 60))"
   ]
  },
  {
   "cell_type": "code",
   "execution_count": null,
   "metadata": {},
   "outputs": [],
   "source": [
    "batch = next(testdata)\n",
    "preds, z_train, mask = model.forward(batch.src.float(), batch.tgt.float())\n",
    "preds[:1]\n",
    "batch.tgt_y[:1]"
   ]
  },
  {
   "cell_type": "code",
   "execution_count": null,
   "metadata": {},
   "outputs": [],
   "source": [
    "# batch = next(testdata)\n",
    "# preds, z_train, mask = model.forward(batch.src.float(), batch.tgt.float())\n",
    "# test_loss = nn.KLDivLoss(reduction='sum')\n",
    "\n",
    "# lossKL(mask, z_train, preds, batch.tgt_y.float(), batch.ntokens)\n",
    "# test_loss(preds[:1], batch.tgt_y[:1])+0.1*torch.sum(torch.abs(mask))\n",
    "# 0.1*torch.sum(torch.abs(mask))"
   ]
  },
  {
   "cell_type": "code",
   "execution_count": null,
   "metadata": {},
   "outputs": [],
   "source": [
    "sent = list(range(batch.src.shape[1]))\n",
    "tgt_sent = list(range(preds.shape[1]))\n",
    "\n",
    "fig, axs = plt.subplots(1,1, figsize=(5, 5))\n",
    "draw(20*mask.detach().squeeze(), tgt_sent[:-1], tgt_sent[:-1] if n_heads ==0 else [], ax=axs)\n",
    "model.decoder.mask\n",
    "plt.show()"
   ]
  },
  {
   "cell_type": "code",
   "execution_count": null,
   "metadata": {},
   "outputs": [],
   "source": [
    "model.decoder.layers[0].self_attn.attn[0, 1].data\n",
    "\n",
    "for layer in range(0,2):\n",
    "    fig, axs = plt.subplots(1,2, figsize=(10, 10))\n",
    "    print(\"Decoder Self Layer\", layer+1)\n",
    "    for h in range(2):\n",
    "        draw(model.decoder.layers[layer].self_attn.attn[0, h].data[:len(tgt_sent), :len(tgt_sent)], \n",
    "            tgt_sent[:-1], tgt_sent[:-1] if h ==0 else [], ax=axs[h])\n",
    "    plt.show()\n",
    "    print(\"Decoder Src Layer\", layer+1)\n",
    "    fig, axs = plt.subplots(1,2, figsize=(10, 10))\n",
    "    for h in range(2):\n",
    "        draw(model.decoder.layers[layer].src_attn.attn[0, h].data[:len(tgt_sent)+1, :len(sent)+1], \n",
    "            sent, tgt_sent if h ==0 else [], ax=axs[h])\n",
    "    plt.show()\n",
    "pass;"
   ]
  },
  {
   "cell_type": "code",
   "execution_count": null,
   "metadata": {
    "scrolled": true
   },
   "outputs": [],
   "source": [
    "blah"
   ]
  },
  {
   "cell_type": "markdown",
   "metadata": {},
   "source": [
    "## SEM Evaluation"
   ]
  },
  {
   "cell_type": "code",
   "execution_count": null,
   "metadata": {},
   "outputs": [],
   "source": [
    "encoder.eval()\n",
    "decoder.eval()\n",
    "\n",
    "data = next(iter(test_loader))[0].double()\n",
    "_, noise, _, _, _, _, Wa_train = encoder(data)\n",
    "_, preds = decoder(noise, g_learned.torch_graph(), Wa_train)"
   ]
  },
  {
   "cell_type": "code",
   "execution_count": null,
   "metadata": {},
   "outputs": [],
   "source": [
    "Wa_train"
   ]
  },
  {
   "cell_type": "code",
   "execution_count": null,
   "metadata": {},
   "outputs": [],
   "source": [
    "X_train = NodeData(g.data, bins=10)\n",
    "Z_learned = NodeData(noise.detach().numpy(), bins=10)\n",
    "X_learned = NodeData(preds.detach().numpy(), bins=10)\n",
    "\n",
    "pX_train = GraphSampler(g, X_train)\n",
    "pZ_learned = GraphSampler(g_learned, Z_learned)\n",
    "pX_learned = GraphSampler(g_learned, X_learned)"
   ]
  },
  {
   "cell_type": "code",
   "execution_count": null,
   "metadata": {},
   "outputs": [],
   "source": [
    "Z_resampled_cdf = NodeData(pZ_learned.resample_from_cdf(size=10000), bins = Z_learned.edges())\n",
    "Z_resampled_pdf = NodeData(pZ_learned.resample_from_pdf(size=10000), bins = Z_learned.edges())"
   ]
  },
  {
   "cell_type": "code",
   "execution_count": null,
   "metadata": {},
   "outputs": [],
   "source": [
    "pZ_resampled_cdf = GraphSampler(g_learned, Z_resampled_cdf)\n",
    "pZ_resampled_pdf = GraphSampler(g_learned, Z_resampled_pdf)"
   ]
  },
  {
   "cell_type": "code",
   "execution_count": null,
   "metadata": {},
   "outputs": [],
   "source": [
    "_, preds_resampled_cdf = decoder(g_learned.torch_data(Z_resampled_cdf.data()), g_learned.torch_graph(), Wa_train)\n",
    "_, preds_resampled_pdf = decoder(g_learned.torch_data(Z_resampled_pdf.data()), g_learned.torch_graph(), Wa_train)\n",
    "X_resampled_cdf = NodeData(preds_resampled_cdf.detach().numpy(), bins=15)\n",
    "X_resampled_pdf = NodeData(preds_resampled_pdf.detach().numpy(), bins=15)\n",
    "\n",
    "pX_resampled_cdf = GraphSampler(g_learned, X_resampled_cdf)\n",
    "pX_resampled_pdf = GraphSampler(g_learned, X_resampled_pdf)"
   ]
  },
  {
   "cell_type": "code",
   "execution_count": null,
   "metadata": {},
   "outputs": [],
   "source": [
    "fig, axs = plt.subplots(3, 4, sharex='col', sharey='col', figsize = (16,9))\n",
    "for col, (d,c) in col_plot_dict.items():\n",
    "    axs[0][col].set_title(r'$P_Z(%s|%s)$    (true histo)'%(d,c))\n",
    "    axs[0][col].contour(*pZ_learned.get_contour_conditional(d,c), levels=50)\n",
    "    axs[1][col].set_title(r'$P_Z(%s|%s)$    (cdf resampled histo)'%(d,c))\n",
    "    axs[1][col].contour(*pZ_resampled_cdf.get_contour_conditional(d,c), levels=50)\n",
    "    axs[2][col].set_title(r'$P_Z(%s|%s)$    (pdf resampled histo)'%(d,c))\n",
    "    axs[2][col].contour(*pZ_resampled_pdf.get_contour_conditional(d,c), levels=50)\n",
    "pass;"
   ]
  },
  {
   "cell_type": "code",
   "execution_count": null,
   "metadata": {},
   "outputs": [],
   "source": [
    "fig, axs = plt.subplots(3, 4, sharex='col', sharey='col', figsize = (16,9))\n",
    "for col, (d,c) in col_plot_dict.items():\n",
    "    axs[0][col].set_title(r'$P_X(%s|%s)$    (true histo)'%(d,c))\n",
    "    axs[0][col].contour(*pX_train.get_contour_conditional(d,c), levels=50)\n",
    "    axs[1][col].set_title(r'$P_X(%s|%s)$    (cdf resampled histo)'%(d,c))\n",
    "    axs[1][col].contour(*pX_resampled_cdf.get_contour_conditional(d,c), levels=50)\n",
    "    axs[2][col].set_title(r'$P_X(%s|%s)$    (pdf resampled histo)'%(d,c))\n",
    "    axs[2][col].contour(*pX_resampled_pdf.get_contour_conditional(d,c), levels=50)\n",
    "pass;"
   ]
  },
  {
   "cell_type": "code",
   "execution_count": null,
   "metadata": {},
   "outputs": [],
   "source": [
    "# plt.plot(pX_train.node_data.axes(0)[0], pX_train.histogram.compute_joint(0)[1])\n",
    "# plt.plot(pX_train.node_data.axes(1)[0], pX_train.histogram.compute_joint(1)[1])\n",
    "# plt.show()\n",
    "# plt.plot(pX_mutil.node_data.axes(0)[0], pX_mutil.histogram.compute_joint(0)[1])\n",
    "# plt.plot(pX_mutil.node_data.axes(1)[0], pX_mutil.histogram.compute_joint(1)[1])\n",
    "# pass;"
   ]
  },
  {
   "cell_type": "code",
   "execution_count": null,
   "metadata": {},
   "outputs": [],
   "source": [
    "# truth = pX.histogram.compute_conditional(4,(2,))[1]\n",
    "# generated = pX_new.histogram.compute_conditional(4,(2,))[1]\n",
    "# _, truth_ = pX.histogram._epsilonize((), truth)\n",
    "# _, generated_ = pX.histogram._epsilonize((), generated)\n",
    "# np.sum(truth_*np.log((truth_/generated_)))/np.prod(truth.shape)"
   ]
  },
  {
   "cell_type": "code",
   "execution_count": null,
   "metadata": {},
   "outputs": [],
   "source": [
    "# np.sum(truth)\n",
    "# np.sum(truth_*np.log((truth_/generated_)), axis=0, keepdims=True)\n",
    "# np.exp(np.sum(-truth_*np.log((truth_/(truth_*0.1)))))"
   ]
  },
  {
   "cell_type": "markdown",
   "metadata": {},
   "source": [
    "## Graph Mutilation Tests"
   ]
  },
  {
   "cell_type": "code",
   "execution_count": null,
   "metadata": {},
   "outputs": [],
   "source": [
    "g_mutil = spacetime_mutilator(g, mutilate=[mutilate])\n",
    "g_mutil.data = Simulator.sem(graph=g_mutil.graph, n=10000, x_dims=args.x_dims, \n",
    "                             sem_type=args.graph_sem_type, linear_type=args.graph_linear_type, \n",
    "                             noise_scale=args.noise_scale, seed=args.seed)"
   ]
  },
  {
   "cell_type": "code",
   "execution_count": null,
   "metadata": {},
   "outputs": [],
   "source": [
    "g_learned.draw_graph()\n",
    "\n",
    "g_learned_mutil = spacetime_mutilator(g_learned, mutilate=[mutilate])\n",
    "g_learned_mutil.draw_graph()"
   ]
  },
  {
   "cell_type": "code",
   "execution_count": null,
   "metadata": {},
   "outputs": [],
   "source": [
    "X_mutil = NodeData(g_mutil.data, bins=10)\n",
    "pX_mutil = GraphSampler(g, X_mutil)"
   ]
  },
  {
   "cell_type": "code",
   "execution_count": null,
   "metadata": {},
   "outputs": [],
   "source": [
    "Z_resampled_mutil_cdf = NodeData(pZ_learned.resample_from_cdf(size=10000, mutilate=[mutilate]), bins = Z_learned.edges())\n",
    "Z_resampled_mutil_pdf = NodeData(pZ_learned.resample_from_pdf(size=10000, mutilate=[mutilate]), bins = Z_learned.edges())\n",
    "pZ_resampled_mutil_cdf = GraphSampler(g_learned, Z_resampled_mutil_cdf)\n",
    "pZ_resampled_mutil_pdf = GraphSampler(g_learned, Z_resampled_mutil_pdf)"
   ]
  },
  {
   "cell_type": "code",
   "execution_count": null,
   "metadata": {},
   "outputs": [],
   "source": [
    "_, preds_resampled_mutil_cdf = decoder(g_learned_mutil.torch_data(Z_resampled_mutil_cdf.data()), \n",
    "                                       g_learned_mutil.torch_graph(), Wa_train)\n",
    "_, preds_resampled_mutil_pdf = decoder(g_learned_mutil.torch_data(Z_resampled_mutil_pdf.data()), \n",
    "                                       g_learned_mutil.torch_graph(), Wa_train)\n",
    "X_resampled_mutil_cdf = NodeData(preds_resampled_mutil_cdf.detach().numpy(), bins=X_learned.edges())\n",
    "X_resampled_mutil_pdf = NodeData(preds_resampled_mutil_pdf.detach().numpy(), bins=X_learned.edges())\n",
    "pX_resampled_mutil_cdf = GraphSampler(g_learned_mutil, X_resampled_mutil_cdf)\n",
    "pX_resampled_mutil_pdf = GraphSampler(g_learned_mutil, X_resampled_mutil_pdf)"
   ]
  },
  {
   "cell_type": "code",
   "execution_count": null,
   "metadata": {},
   "outputs": [],
   "source": [
    "fig, axs = plt.subplots(4, 4, sharex='col', sharey='col', figsize = (16,12))\n",
    "for col, (d,c) in col_plot_dict.items():\n",
    "    axs[0][col].set_title(r'$P_X(%s|%s)$    (true histo)'%(d,c))\n",
    "    axs[0][col].contour(*pX_train.get_contour_conditional(d,c), levels=50)\n",
    "    axs[1][col].set_title(r'$P_X(%s|%s)$    (true mutil histo)'%(d,c))\n",
    "    axs[1][col].contour(*pX_mutil.get_contour_conditional(d,c), levels=50)\n",
    "    axs[2][col].set_title(r'$P_X(%s|%s)$    (cdf resampled mutil histo)'%(d,c))\n",
    "    axs[2][col].contour(*pX_resampled_mutil_cdf.get_contour_conditional(d,c), levels=50)\n",
    "    axs[3][col].set_title(r'$P_X(%s|%s)$    (pdf resampled mutil histo)'%(d,c))\n",
    "    axs[3][col].contour(*pX_resampled_mutil_pdf.get_contour_conditional(d,c), levels=50)\n",
    "    \n",
    "pass;"
   ]
  },
  {
   "cell_type": "code",
   "execution_count": null,
   "metadata": {},
   "outputs": [],
   "source": [
    "fig, axs = plt.subplots(3, 3, sharex='col', sharey='col', figsize = (12,9))\n",
    "\n",
    "axs[0][0].set_title(r'$P_Z(%s|%s)$    (pdf resampled histo)'%(observe,mutilate))\n",
    "axs[0][0].contour(*pZ_resampled_pdf.get_contour_conditional(observe,mutilate), levels=50)\n",
    "axs[1][0].set_title(r'$P_Z(%s|%s)$    (cdf resampled mutil histo)'%(observe,mutilate))\n",
    "axs[1][0].contour(*pZ_resampled_mutil_cdf.get_contour_conditional(observe,mutilate), levels=50)\n",
    "axs[2][0].set_title(r'$P_Z(%s|%s)$    (pdf resampled mutil histo)'%(observe,mutilate))\n",
    "axs[2][0].contour(*pZ_resampled_mutil_pdf.get_contour_conditional(observe,mutilate), levels=50)\n",
    "pass;"
   ]
  },
  {
   "cell_type": "code",
   "execution_count": null,
   "metadata": {},
   "outputs": [],
   "source": [
    "def Pi_UNj_DOk(i, j, k, histogram):\n",
    "    do = np.zeros(histogram.compute_joint(i, k)[1].shape)\n",
    "    latent = histogram.compute_joint(j)[1]\n",
    "    \n",
    "    for n in range(len(latent)):\n",
    "        do += histogram.compute_conditional(i,(j,k))[1][:,n,:]*latent[n]\n",
    "    return do"
   ]
  },
  {
   "cell_type": "code",
   "execution_count": null,
   "metadata": {},
   "outputs": [],
   "source": [
    "fig, axs = plt.subplots(3, 3, sharex=True, sharey=True, figsize = (12,9))\n",
    "axs[0][0].set_title(r'$P_X(%s|%s)$    (true histo)'%(observe,mutilate))\n",
    "axs[0][0].contour(*pX_train.get_contour_conditional(observe,mutilate), levels=50)\n",
    "axs[1][0].set_title(r'$P_X(%s|%s)$    (cdf resampled histo)'%(observe,mutilate))\n",
    "axs[1][0].contour(*pX_resampled_cdf.get_contour_conditional(observe,mutilate), levels=50)\n",
    "axs[2][0].set_title(r'$P_X(%s|%s)$    (pdf resampled histo)'%(observe,mutilate))\n",
    "axs[2][0].contour(*pX_resampled_pdf.get_contour_conditional(observe,mutilate), levels=50)\n",
    "\n",
    "axs[0][1].set_title(r'$P_X(%s|%s)$    (true mutil histo)'%(observe,mutilate))\n",
    "axs[0][1].contour(*pX_mutil.get_contour_conditional(observe,mutilate), levels=50)\n",
    "axs[1][1].set_title(r'$P_X(%s|%s)$    (cdf resampled mutil histo)'%(observe,mutilate))\n",
    "axs[1][1].contour(*pX_resampled_mutil_cdf.get_contour_conditional(observe,mutilate), levels=50)\n",
    "axs[2][1].set_title(r'$P_X(%s|%s)$    (pdf resampled mutil histo)'%(observe,mutilate))\n",
    "axs[2][1].contour(*pX_resampled_mutil_pdf.get_contour_conditional(observe,mutilate), levels=50)\n",
    "\n",
    "\n",
    "\n",
    "axs[0][2].set_title(r'$P_X(%s|%s)$    (true adjusted histo)'%(observe,mutilate))\n",
    "axs[0][2].contour(*np.meshgrid(*pX_train.node_data.axes(observe,mutilate)), \n",
    "                  Pi_UNj_DOk(observe,latent,mutilate, pX_train.histogram).T, levels=50)\n",
    "pass;"
   ]
  }
 ],
 "metadata": {
  "kernelspec": {
   "display_name": "torch",
   "language": "python",
   "name": "torch"
  },
  "language_info": {
   "codemirror_mode": {
    "name": "ipython",
    "version": 3
   },
   "file_extension": ".py",
   "mimetype": "text/x-python",
   "name": "python",
   "nbconvert_exporter": "python",
   "pygments_lexer": "ipython3",
   "version": "3.6.10"
  }
 },
 "nbformat": 4,
 "nbformat_minor": 2
}
